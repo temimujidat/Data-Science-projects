{
 "cells": [
  {
   "cell_type": "markdown",
   "metadata": {},
   "source": [
    "<h1> Project Titile - Web Scrapping - Real Estate </h1>\n",
    "<p> The project focuses on extracting the properties information from each page of a Real Estate website (www.propertypro.ng) using BeautifulSoup Package and saves it on CSV. </p>"
   ]
  },
  {
   "cell_type": "code",
   "execution_count": 1,
   "metadata": {},
   "outputs": [],
   "source": [
    "# importing required libraries\n",
    "\n",
    "import pandas as pd\n",
    "from bs4 import BeautifulSoup\n",
    "import requests\n",
    "import time\n",
    "from time import sleep"
   ]
  },
  {
   "cell_type": "code",
   "execution_count": 2,
   "metadata": {},
   "outputs": [],
   "source": [
    "# target URL to scrap\n",
    "\n",
    "url = 'https://www.propertypro.ng/property-for-rent/in/lagos'"
   ]
  },
  {
   "cell_type": "code",
   "execution_count": 3,
   "metadata": {},
   "outputs": [],
   "source": [
    "headers = {'User-Agent': 'Mozilla/5.0 (Linux; Android 6.0; Nexus 5 Build/MRA58N) AppleWebKit/537.36 (KHTML, like Gecko) Chrome/87.0.4280.66 Mobile Safari/537.36'}"
   ]
  },
  {
   "cell_type": "code",
   "execution_count": 4,
   "metadata": {},
   "outputs": [],
   "source": [
    "# send request to download the data\n",
    "\n",
    "r = requests.get(url, headers= headers)"
   ]
  },
  {
   "cell_type": "code",
   "execution_count": 5,
   "metadata": {},
   "outputs": [
    {
     "data": {
      "text/plain": [
       "200"
      ]
     },
     "execution_count": 5,
     "metadata": {},
     "output_type": "execute_result"
    }
   ],
   "source": [
    "#confirming the requests status\n",
    "\n",
    "r.status_code"
   ]
  },
  {
   "cell_type": "code",
   "execution_count": 6,
   "metadata": {},
   "outputs": [],
   "source": [
    "# parse the downloaded data\n",
    "\n",
    "soup = BeautifulSoup(r.text,'html.parser')"
   ]
  },
  {
   "cell_type": "markdown",
   "metadata": {},
   "source": [
    "# Location"
   ]
  },
  {
   "cell_type": "code",
   "execution_count": 8,
   "metadata": {},
   "outputs": [],
   "source": [
    "#storing the features:\n",
    "\n",
    "locations = soup.select('.single-room-text > h4')"
   ]
  },
  {
   "cell_type": "code",
   "execution_count": 9,
   "metadata": {},
   "outputs": [
    {
     "data": {
      "text/plain": [
       "21"
      ]
     },
     "execution_count": 9,
     "metadata": {},
     "output_type": "execute_result"
    }
   ],
   "source": [
    "#confirming the length of location features\n",
    "\n",
    "len(locations)"
   ]
  },
  {
   "cell_type": "code",
   "execution_count": 10,
   "metadata": {},
   "outputs": [
    {
     "data": {
      "text/plain": [
       "<h4><img alt=\"icon\" src=\"/assets/assets/img/resultpage/a6b70a0c1c4423f60780bdda189b91e3-location.svg\" title=\"icon\"/>Along Banana islandBourdillon Ikoyi Lagos</h4>"
      ]
     },
     "execution_count": 10,
     "metadata": {},
     "output_type": "execute_result"
    }
   ],
   "source": [
    "locations[1]"
   ]
  },
  {
   "cell_type": "code",
   "execution_count": 11,
   "metadata": {},
   "outputs": [],
   "source": [
    "#fixing all loaction into a list\n",
    "\n",
    "all_location = []\n",
    "\n",
    "for i in locations:\n",
    "    location = i.get_text().split()\n",
    "    location = location[-2]\n",
    "    location = location.replace(',', '')\n",
    "    all_location.append(location)"
   ]
  },
  {
   "cell_type": "code",
   "execution_count": 12,
   "metadata": {},
   "outputs": [
    {
     "data": {
      "text/plain": [
       "['Island',\n",
       " 'Ikoyi',\n",
       " 'Ikeja',\n",
       " 'Lekki',\n",
       " 'Ikoyi',\n",
       " 'Lekki',\n",
       " 'Lekki',\n",
       " 'Ojodu',\n",
       " 'Isolo',\n",
       " 'Sangotedo',\n",
       " 'Isolo',\n",
       " 'Isolo',\n",
       " 'Isolo',\n",
       " 'Isolo',\n",
       " 'Isolo',\n",
       " 'Lekki',\n",
       " 'Ikeja',\n",
       " 'Ikosi',\n",
       " 'Ikosi',\n",
       " 'Ikeja',\n",
       " 'Ikeja']"
      ]
     },
     "execution_count": 12,
     "metadata": {},
     "output_type": "execute_result"
    }
   ],
   "source": [
    "#confirming data inside list\n",
    "\n",
    "all_location"
   ]
  },
  {
   "cell_type": "code",
   "execution_count": 13,
   "metadata": {},
   "outputs": [
    {
     "data": {
      "text/plain": [
       "21"
      ]
     },
     "execution_count": 13,
     "metadata": {},
     "output_type": "execute_result"
    }
   ],
   "source": [
    "len(all_location)"
   ]
  },
  {
   "cell_type": "markdown",
   "metadata": {},
   "source": [
    "# Toilet, Bedroom and Bathroom"
   ]
  },
  {
   "cell_type": "code",
   "execution_count": 14,
   "metadata": {},
   "outputs": [],
   "source": [
    "#storing the features:\n",
    "\n",
    "facilities = soup.select('.fur-areea > span')"
   ]
  },
  {
   "cell_type": "code",
   "execution_count": 15,
   "metadata": {},
   "outputs": [
    {
     "data": {
      "text/plain": [
       "63"
      ]
     },
     "execution_count": 15,
     "metadata": {},
     "output_type": "execute_result"
    }
   ],
   "source": [
    "#confirming the length of all facilities\n",
    "\n",
    "len(facilities)"
   ]
  },
  {
   "cell_type": "code",
   "execution_count": 34,
   "metadata": {},
   "outputs": [
    {
     "data": {
      "text/plain": [
       "'3 beds'"
      ]
     },
     "execution_count": 34,
     "metadata": {},
     "output_type": "execute_result"
    }
   ],
   "source": [
    "#finding out the arrangement of content in the list\n",
    "\n",
    "facilities[3].text"
   ]
  },
  {
   "cell_type": "code",
   "execution_count": 41,
   "metadata": {},
   "outputs": [],
   "source": [
    "#fixing all bedrooms, bathrooms and toilets into a list\n",
    "\n",
    "all_bedroom = []\n",
    "all_bathroom = []\n",
    "all_toilet = []\n",
    "\n",
    "for i, a in enumerate(facilities):\n",
    "    if i in range(2,63,3):\n",
    "        a = a.get_text().split()\n",
    "        toilet = a[0]\n",
    "        all_toilet.append(toilet)\n",
    "    elif i in range(1,63,3):\n",
    "        a = a.get_text().split()\n",
    "        bathroom = a[0]\n",
    "        all_bathroom.append(bathroom)\n",
    "    elif i in range (0,63,3):\n",
    "        a = a.get_text().split()\n",
    "        bedroom = a[0]\n",
    "        all_bedroom.append(bedroom)"
   ]
  },
  {
   "cell_type": "code",
   "execution_count": 36,
   "metadata": {},
   "outputs": [
    {
     "data": {
      "text/plain": [
       "['4',\n",
       " '4',\n",
       " '4',\n",
       " '4',\n",
       " '5',\n",
       " '5',\n",
       " '4',\n",
       " '2',\n",
       " '4',\n",
       " '3',\n",
       " '4',\n",
       " '4',\n",
       " '0',\n",
       " '0',\n",
       " '0',\n",
       " '5',\n",
       " 'Toilets',\n",
       " '3',\n",
       " '2',\n",
       " '5',\n",
       " '5']"
      ]
     },
     "execution_count": 36,
     "metadata": {},
     "output_type": "execute_result"
    }
   ],
   "source": [
    "all_toilet"
   ]
  },
  {
   "cell_type": "code",
   "execution_count": 37,
   "metadata": {},
   "outputs": [
    {
     "data": {
      "text/plain": [
       "21"
      ]
     },
     "execution_count": 37,
     "metadata": {},
     "output_type": "execute_result"
    }
   ],
   "source": [
    "len(all_toilet)"
   ]
  },
  {
   "cell_type": "code",
   "execution_count": 38,
   "metadata": {},
   "outputs": [
    {
     "data": {
      "text/plain": [
       "['3',\n",
       " '3',\n",
       " '3',\n",
       " '3',\n",
       " '4',\n",
       " '4',\n",
       " '3',\n",
       " '1',\n",
       " '3',\n",
       " '3',\n",
       " '3',\n",
       " '3',\n",
       " '0',\n",
       " '0',\n",
       " '0',\n",
       " '4',\n",
       " 'baths',\n",
       " '3',\n",
       " '1',\n",
       " '4',\n",
       " '4']"
      ]
     },
     "execution_count": 38,
     "metadata": {},
     "output_type": "execute_result"
    }
   ],
   "source": [
    "all_bathroom"
   ]
  },
  {
   "cell_type": "code",
   "execution_count": 42,
   "metadata": {},
   "outputs": [
    {
     "data": {
      "text/plain": [
       "21"
      ]
     },
     "execution_count": 42,
     "metadata": {},
     "output_type": "execute_result"
    }
   ],
   "source": [
    "len(all_bathroom)"
   ]
  },
  {
   "cell_type": "code",
   "execution_count": 43,
   "metadata": {},
   "outputs": [
    {
     "data": {
      "text/plain": [
       "['3',\n",
       " '3',\n",
       " '3',\n",
       " '3',\n",
       " '4',\n",
       " '4',\n",
       " '3',\n",
       " '1',\n",
       " '3',\n",
       " '4',\n",
       " '3',\n",
       " '3',\n",
       " '0',\n",
       " '0',\n",
       " '0',\n",
       " '4',\n",
       " 'beds',\n",
       " '3',\n",
       " '1',\n",
       " '4',\n",
       " '4']"
      ]
     },
     "execution_count": 43,
     "metadata": {},
     "output_type": "execute_result"
    }
   ],
   "source": [
    "all_bedroom"
   ]
  },
  {
   "cell_type": "markdown",
   "metadata": {},
   "source": [
    "# Prices"
   ]
  },
  {
   "cell_type": "code",
   "execution_count": 44,
   "metadata": {},
   "outputs": [],
   "source": [
    "#storing the features\n",
    "\n",
    "prices = soup.select('.n50 > h3 > span')"
   ]
  },
  {
   "cell_type": "code",
   "execution_count": 45,
   "metadata": {},
   "outputs": [
    {
     "data": {
      "text/plain": [
       "42"
      ]
     },
     "execution_count": 45,
     "metadata": {},
     "output_type": "execute_result"
    }
   ],
   "source": [
    "#confirming the length of prices features\n",
    "\n",
    "len(prices)"
   ]
  },
  {
   "cell_type": "code",
   "execution_count": 46,
   "metadata": {},
   "outputs": [
    {
     "data": {
      "text/plain": [
       "<span content=\"NGN\" itemprop=\"priceCurrency\">₦</span>"
      ]
     },
     "execution_count": 46,
     "metadata": {},
     "output_type": "execute_result"
    }
   ],
   "source": [
    "prices[2]"
   ]
  },
  {
   "cell_type": "code",
   "execution_count": 47,
   "metadata": {},
   "outputs": [],
   "source": [
    "# fixing all the prices data into a list\n",
    "\n",
    "all_price = []\n",
    "\n",
    "for i,price in enumerate(prices):\n",
    "    if i % 2 != 0:\n",
    "        all_price.append(price.getText().replace('/year', ''))"
   ]
  },
  {
   "cell_type": "code",
   "execution_count": 48,
   "metadata": {},
   "outputs": [
    {
     "data": {
      "text/plain": [
       "['8,000,000',\n",
       " '12,000,000',\n",
       " '2,000,000',\n",
       " '3,500,000',\n",
       " '13,000,000',\n",
       " '5,000,000',\n",
       " '3,000,000',\n",
       " '700,000',\n",
       " '1,200,000',\n",
       " '38,800,000',\n",
       " '1,200,000',\n",
       " '1,500,000',\n",
       " '120,000',\n",
       " '150,000',\n",
       " '120,000',\n",
       " '3,500,000',\n",
       " '1,000,000',\n",
       " '850,000',\n",
       " '500,000',\n",
       " '5,000,000',\n",
       " '5,000,000']"
      ]
     },
     "execution_count": 48,
     "metadata": {},
     "output_type": "execute_result"
    }
   ],
   "source": [
    "all_price"
   ]
  },
  {
   "cell_type": "code",
   "execution_count": 49,
   "metadata": {},
   "outputs": [
    {
     "data": {
      "text/plain": [
       "21"
      ]
     },
     "execution_count": 49,
     "metadata": {},
     "output_type": "execute_result"
    }
   ],
   "source": [
    "len(all_price)"
   ]
  },
  {
   "cell_type": "markdown",
   "metadata": {},
   "source": [
    "# House Types and House Status"
   ]
  },
  {
   "cell_type": "code",
   "execution_count": 50,
   "metadata": {},
   "outputs": [],
   "source": [
    "#storing the features\n",
    "\n",
    "titles = soup.select('.single-room-text > a > h2')"
   ]
  },
  {
   "cell_type": "code",
   "execution_count": 51,
   "metadata": {},
   "outputs": [
    {
     "data": {
      "text/plain": [
       "21"
      ]
     },
     "execution_count": 51,
     "metadata": {},
     "output_type": "execute_result"
    }
   ],
   "source": [
    "#confirming the length of titles features\n",
    "\n",
    "len(titles)"
   ]
  },
  {
   "cell_type": "code",
   "execution_count": 52,
   "metadata": {},
   "outputs": [
    {
     "data": {
      "text/plain": [
       "<h2 class=\"listings-property-title\">4 BEDROOM HOUSE FOR RENT</h2>"
      ]
     },
     "execution_count": 52,
     "metadata": {},
     "output_type": "execute_result"
    }
   ],
   "source": [
    "titles[5]"
   ]
  },
  {
   "cell_type": "code",
   "execution_count": 54,
   "metadata": {},
   "outputs": [],
   "source": [
    "#fixing all bedrooms and description into a list\n",
    "\n",
    "all_type = []\n",
    "all_status = []\n",
    "\n",
    "for i in titles:\n",
    "    title_split = i.get_text().split()\n",
    "    types = title_split[2:4]\n",
    "    status = title_split[-1]\n",
    "    f_house = ' '.join(types)\n",
    "    all_type.append((f_house).replace('/', ''))\n",
    "    all_status.append(status)"
   ]
  },
  {
   "cell_type": "code",
   "execution_count": 56,
   "metadata": {},
   "outputs": [
    {
     "data": {
      "text/plain": [
       "['FLAT ',\n",
       " 'FLAT ',\n",
       " 'FLAT ',\n",
       " 'FLAT ',\n",
       " 'TERRACED DUPLEX',\n",
       " 'HOUSE FOR',\n",
       " 'FLAT ',\n",
       " 'MINI FLAT',\n",
       " 'BLOCKS OF',\n",
       " 'SEMI DETACHED',\n",
       " 'FLAT ',\n",
       " 'FLAT ',\n",
       " 'FLAT ',\n",
       " 'FLAT ',\n",
       " 'FLAT ',\n",
       " 'DETACHED DUPLEX',\n",
       " 'FLAT ',\n",
       " 'FLAT ',\n",
       " 'MINI FLAT',\n",
       " 'DETACHED DUPLEX',\n",
       " 'DETACHED DUPLEX']"
      ]
     },
     "execution_count": 56,
     "metadata": {},
     "output_type": "execute_result"
    }
   ],
   "source": [
    "all_type"
   ]
  },
  {
   "cell_type": "code",
   "execution_count": 58,
   "metadata": {},
   "outputs": [
    {
     "data": {
      "text/plain": [
       "21"
      ]
     },
     "execution_count": 58,
     "metadata": {},
     "output_type": "execute_result"
    }
   ],
   "source": [
    "#confirming the length of description features\n",
    "\n",
    "len(all_type)"
   ]
  },
  {
   "cell_type": "code",
   "execution_count": 59,
   "metadata": {},
   "outputs": [
    {
     "data": {
      "text/plain": [
       "['RENT',\n",
       " 'RENT',\n",
       " 'RENT',\n",
       " 'RENT',\n",
       " 'RENT',\n",
       " 'RENT',\n",
       " 'RENT',\n",
       " 'RENT',\n",
       " 'RENT',\n",
       " 'SALE',\n",
       " 'RENT',\n",
       " 'RENT',\n",
       " 'RENT',\n",
       " 'RENT',\n",
       " 'RENT',\n",
       " 'RENT',\n",
       " 'RENT',\n",
       " 'RENT',\n",
       " 'RENT',\n",
       " 'RENT',\n",
       " 'RENT']"
      ]
     },
     "execution_count": 59,
     "metadata": {},
     "output_type": "execute_result"
    }
   ],
   "source": [
    "all_status"
   ]
  },
  {
   "cell_type": "code",
   "execution_count": 60,
   "metadata": {},
   "outputs": [
    {
     "data": {
      "text/plain": [
       "21"
      ]
     },
     "execution_count": 60,
     "metadata": {},
     "output_type": "execute_result"
    }
   ],
   "source": [
    "#confirming the house status\n",
    "\n",
    "len(all_status)"
   ]
  },
  {
   "cell_type": "code",
   "execution_count": 61,
   "metadata": {},
   "outputs": [],
   "source": [
    "#creating a function to be able to return all list generated\n",
    "\n",
    "def all_data(url):\n",
    "    r = requests.get (url, headers=headers)\n",
    "    soup = BeautifulSoup(r.text,'html.parser')\n",
    "    \n",
    "    \n",
    "    locations = soup.select('.single-room-text > h4')\n",
    "    all_location = []\n",
    "    for i in locations:\n",
    "        location = i.get_text().split()\n",
    "        location = location[-2]\n",
    "        location = location.replace(',', '')\n",
    "        all_location.append(location)\n",
    "        \n",
    "    \n",
    "    facilities = soup.select('.fur-areea > span')\n",
    "    all_bedroom = []\n",
    "    all_bathroom = []\n",
    "    all_toilet = []\n",
    "    \n",
    "    for i, a in enumerate(facilities):\n",
    "        if i in range(2,63,3):\n",
    "            a = a.get_text().split()\n",
    "            toilet = a[0]\n",
    "            all_toilet.append(toilet)\n",
    "        elif i in range(1,63,3):\n",
    "            a = a.get_text().split()\n",
    "            bathroom = a[0]\n",
    "            all_bathroom.append(bathroom)\n",
    "        elif i in range (0,63,3):\n",
    "            a = a.get_text().split()\n",
    "            bedroom = a[0]\n",
    "            all_bedroom.append(bedroom)\n",
    "    \n",
    "    \n",
    "    prices = soup.select('.n50 > h3 > span')\n",
    "    all_price = []\n",
    "    for i,price in enumerate(prices):\n",
    "        if i % 2 != 0:\n",
    "            all_price.append(price.getText().replace('/year', ''))\n",
    "    \n",
    "    \n",
    "    \n",
    "    titles = soup.select('.single-room-text > a > h2')\n",
    "    all_type = []\n",
    "    all_status = []\n",
    "    for i in titles:\n",
    "        title_split = i.get_text().split()\n",
    "        types = title_split[2:4]\n",
    "        status = title_split[-1]\n",
    "        f_house = ' '.join(types)\n",
    "        all_type.append((f_house).replace('/', ''))\n",
    "        all_status.append(status)\n",
    "    \n",
    "    \n",
    "\n",
    "    return (all_location, all_bedroom, all_bathroom, all_toilet, all_price, all_type, all_status)"
   ]
  },
  {
   "cell_type": "code",
   "execution_count": 62,
   "metadata": {},
   "outputs": [],
   "source": [
    "#crawls all the pages on the website from page 1 to 100\n",
    "\n",
    "urls = [url]\n",
    "for i in range(1,400):\n",
    "    all_url = url + '?page=' + str(i)\n",
    "    urls.append(all_url)"
   ]
  },
  {
   "cell_type": "code",
   "execution_count": 63,
   "metadata": {},
   "outputs": [
    {
     "data": {
      "text/plain": [
       "'https://www.propertypro.ng/property-for-rent/in/lagos?page=264'"
      ]
     },
     "execution_count": 63,
     "metadata": {},
     "output_type": "execute_result"
    }
   ],
   "source": [
    "urls[264]"
   ]
  },
  {
   "cell_type": "code",
   "execution_count": 71,
   "metadata": {},
   "outputs": [],
   "source": [
    "master_location = []\n",
    "master_bedroom = []\n",
    "master_bathroom = []\n",
    "master_toilet = []\n",
    "master_price = []\n",
    "master_type = []\n",
    "master_status = []\n",
    "\n",
    "for all_url in urls:\n",
    "    all_location, all_bedroom, all_bathroom, all_toilet, all_price, all_type, all_status = all_data(all_url)\n",
    "    \n",
    "    master_location += all_location\n",
    "    master_bedroom += all_bedroom\n",
    "    master_bathroom += all_bathroom\n",
    "    master_toilet += all_toilet\n",
    "    master_price += all_price\n",
    "    master_type += all_type\n",
    "    master_status += all_status\n",
    "    \n",
    "    time.sleep(20)"
   ]
  },
  {
   "cell_type": "code",
   "execution_count": 72,
   "metadata": {},
   "outputs": [
    {
     "data": {
      "text/plain": [
       "8400"
      ]
     },
     "execution_count": 72,
     "metadata": {},
     "output_type": "execute_result"
    }
   ],
   "source": [
    "#confirming the length of each list of attributes created\n",
    "\n",
    "len(master_bedroom)"
   ]
  },
  {
   "cell_type": "code",
   "execution_count": 73,
   "metadata": {},
   "outputs": [
    {
     "data": {
      "text/plain": [
       "8400"
      ]
     },
     "execution_count": 73,
     "metadata": {},
     "output_type": "execute_result"
    }
   ],
   "source": [
    "len(master_bathroom)"
   ]
  },
  {
   "cell_type": "code",
   "execution_count": 74,
   "metadata": {},
   "outputs": [
    {
     "data": {
      "text/plain": [
       "8400"
      ]
     },
     "execution_count": 74,
     "metadata": {},
     "output_type": "execute_result"
    }
   ],
   "source": [
    "len(master_toilet)"
   ]
  },
  {
   "cell_type": "code",
   "execution_count": 75,
   "metadata": {},
   "outputs": [
    {
     "data": {
      "text/plain": [
       "8400"
      ]
     },
     "execution_count": 75,
     "metadata": {},
     "output_type": "execute_result"
    }
   ],
   "source": [
    "len(master_location)"
   ]
  },
  {
   "cell_type": "code",
   "execution_count": 76,
   "metadata": {},
   "outputs": [
    {
     "data": {
      "text/plain": [
       "8400"
      ]
     },
     "execution_count": 76,
     "metadata": {},
     "output_type": "execute_result"
    }
   ],
   "source": [
    "len(master_status)"
   ]
  },
  {
   "cell_type": "code",
   "execution_count": 81,
   "metadata": {},
   "outputs": [],
   "source": [
    "# create a data frame from the list of dictionaries\n",
    "\n",
    "house_rent = pd.DataFrame ({\"house-types\": master_type,\n",
    "                            \"location\": master_location,\n",
    "                            \"bedrooms\": master_bedroom,\n",
    "                            \"bathrooms\": master_bathroom,\n",
    "                            \"toilets\": master_toilet,\n",
    "                            \"price\": master_price,\n",
    "                            \"rent / sale\": master_status\n",
    "                           })"
   ]
  },
  {
   "cell_type": "code",
   "execution_count": 82,
   "metadata": {},
   "outputs": [],
   "source": [
    "#converting dataframe to CSV\n",
    "\n",
    "house_rent.to_csv(\"house_rent.csv\")"
   ]
  },
  {
   "cell_type": "code",
   "execution_count": 85,
   "metadata": {},
   "outputs": [],
   "source": [
    "house_to_rent = pd.read_csv('house_rent.csv')"
   ]
  },
  {
   "cell_type": "code",
   "execution_count": 86,
   "metadata": {},
   "outputs": [
    {
     "data": {
      "text/html": [
       "<div>\n",
       "<style scoped>\n",
       "    .dataframe tbody tr th:only-of-type {\n",
       "        vertical-align: middle;\n",
       "    }\n",
       "\n",
       "    .dataframe tbody tr th {\n",
       "        vertical-align: top;\n",
       "    }\n",
       "\n",
       "    .dataframe thead th {\n",
       "        text-align: right;\n",
       "    }\n",
       "</style>\n",
       "<table border=\"1\" class=\"dataframe\">\n",
       "  <thead>\n",
       "    <tr style=\"text-align: right;\">\n",
       "      <th></th>\n",
       "      <th>Unnamed: 0</th>\n",
       "      <th>house-types</th>\n",
       "      <th>location</th>\n",
       "      <th>bedrooms</th>\n",
       "      <th>bathrooms</th>\n",
       "      <th>toilets</th>\n",
       "      <th>price</th>\n",
       "      <th>rent / sale</th>\n",
       "    </tr>\n",
       "  </thead>\n",
       "  <tbody>\n",
       "    <tr>\n",
       "      <th>0</th>\n",
       "      <td>0</td>\n",
       "      <td>FLAT</td>\n",
       "      <td>Island</td>\n",
       "      <td>3</td>\n",
       "      <td>3</td>\n",
       "      <td>4</td>\n",
       "      <td>8,000,000</td>\n",
       "      <td>RENT</td>\n",
       "    </tr>\n",
       "    <tr>\n",
       "      <th>1</th>\n",
       "      <td>1</td>\n",
       "      <td>FLAT</td>\n",
       "      <td>Ikoyi</td>\n",
       "      <td>3</td>\n",
       "      <td>3</td>\n",
       "      <td>4</td>\n",
       "      <td>12,000,000</td>\n",
       "      <td>RENT</td>\n",
       "    </tr>\n",
       "    <tr>\n",
       "      <th>2</th>\n",
       "      <td>2</td>\n",
       "      <td>FLAT</td>\n",
       "      <td>Ikeja</td>\n",
       "      <td>3</td>\n",
       "      <td>3</td>\n",
       "      <td>4</td>\n",
       "      <td>2,000,000</td>\n",
       "      <td>RENT</td>\n",
       "    </tr>\n",
       "    <tr>\n",
       "      <th>3</th>\n",
       "      <td>3</td>\n",
       "      <td>FLAT</td>\n",
       "      <td>Lekki</td>\n",
       "      <td>3</td>\n",
       "      <td>3</td>\n",
       "      <td>4</td>\n",
       "      <td>3,500,000</td>\n",
       "      <td>RENT</td>\n",
       "    </tr>\n",
       "    <tr>\n",
       "      <th>4</th>\n",
       "      <td>4</td>\n",
       "      <td>TERRACED DUPLEX</td>\n",
       "      <td>Ikoyi</td>\n",
       "      <td>4</td>\n",
       "      <td>4</td>\n",
       "      <td>5</td>\n",
       "      <td>13,000,000</td>\n",
       "      <td>RENT</td>\n",
       "    </tr>\n",
       "    <tr>\n",
       "      <th>...</th>\n",
       "      <td>...</td>\n",
       "      <td>...</td>\n",
       "      <td>...</td>\n",
       "      <td>...</td>\n",
       "      <td>...</td>\n",
       "      <td>...</td>\n",
       "      <td>...</td>\n",
       "      <td>...</td>\n",
       "    </tr>\n",
       "    <tr>\n",
       "      <th>8395</th>\n",
       "      <td>8395</td>\n",
       "      <td>MINI FLAT</td>\n",
       "      <td>Lekki</td>\n",
       "      <td>1</td>\n",
       "      <td>1</td>\n",
       "      <td>2</td>\n",
       "      <td>1,500,000</td>\n",
       "      <td>RENT</td>\n",
       "    </tr>\n",
       "    <tr>\n",
       "      <th>8396</th>\n",
       "      <td>8396</td>\n",
       "      <td>FLAT</td>\n",
       "      <td>Odofin</td>\n",
       "      <td>2</td>\n",
       "      <td>2</td>\n",
       "      <td>3</td>\n",
       "      <td>800,000</td>\n",
       "      <td>RENT</td>\n",
       "    </tr>\n",
       "    <tr>\n",
       "      <th>8397</th>\n",
       "      <td>8397</td>\n",
       "      <td>FLAT</td>\n",
       "      <td>Gbagada</td>\n",
       "      <td>3</td>\n",
       "      <td>3</td>\n",
       "      <td>3</td>\n",
       "      <td>1,400,000</td>\n",
       "      <td>RENT</td>\n",
       "    </tr>\n",
       "    <tr>\n",
       "      <th>8398</th>\n",
       "      <td>8398</td>\n",
       "      <td>STUDIO APARTMENT</td>\n",
       "      <td>Island</td>\n",
       "      <td>3</td>\n",
       "      <td>3</td>\n",
       "      <td>4</td>\n",
       "      <td>3,500,000</td>\n",
       "      <td>RENT</td>\n",
       "    </tr>\n",
       "    <tr>\n",
       "      <th>8399</th>\n",
       "      <td>8399</td>\n",
       "      <td>TERRACED DUPLEX</td>\n",
       "      <td>Ikoyi</td>\n",
       "      <td>3</td>\n",
       "      <td>3</td>\n",
       "      <td>4</td>\n",
       "      <td>16,000,000</td>\n",
       "      <td>RENT</td>\n",
       "    </tr>\n",
       "  </tbody>\n",
       "</table>\n",
       "<p>8400 rows × 8 columns</p>\n",
       "</div>"
      ],
      "text/plain": [
       "      Unnamed: 0       house-types location bedrooms bathrooms toilets  \\\n",
       "0              0             FLAT    Island        3         3       4   \n",
       "1              1             FLAT     Ikoyi        3         3       4   \n",
       "2              2             FLAT     Ikeja        3         3       4   \n",
       "3              3             FLAT     Lekki        3         3       4   \n",
       "4              4   TERRACED DUPLEX    Ikoyi        4         4       5   \n",
       "...          ...               ...      ...      ...       ...     ...   \n",
       "8395        8395         MINI FLAT    Lekki        1         1       2   \n",
       "8396        8396             FLAT    Odofin        2         2       3   \n",
       "8397        8397             FLAT   Gbagada        3         3       3   \n",
       "8398        8398  STUDIO APARTMENT   Island        3         3       4   \n",
       "8399        8399   TERRACED DUPLEX    Ikoyi        3         3       4   \n",
       "\n",
       "           price rent / sale  \n",
       "0      8,000,000        RENT  \n",
       "1     12,000,000        RENT  \n",
       "2      2,000,000        RENT  \n",
       "3      3,500,000        RENT  \n",
       "4     13,000,000        RENT  \n",
       "...          ...         ...  \n",
       "8395   1,500,000        RENT  \n",
       "8396     800,000        RENT  \n",
       "8397   1,400,000        RENT  \n",
       "8398   3,500,000        RENT  \n",
       "8399  16,000,000        RENT  \n",
       "\n",
       "[8400 rows x 8 columns]"
      ]
     },
     "execution_count": 86,
     "metadata": {},
     "output_type": "execute_result"
    }
   ],
   "source": [
    "house_to_rent"
   ]
  },
  {
   "cell_type": "code",
   "execution_count": null,
   "metadata": {},
   "outputs": [],
   "source": []
  }
 ],
 "metadata": {
  "kernelspec": {
   "display_name": "Python 3",
   "language": "python",
   "name": "python3"
  },
  "language_info": {
   "codemirror_mode": {
    "name": "ipython",
    "version": 3
   },
   "file_extension": ".py",
   "mimetype": "text/x-python",
   "name": "python",
   "nbconvert_exporter": "python",
   "pygments_lexer": "ipython3",
   "version": "3.7.6"
  }
 },
 "nbformat": 4,
 "nbformat_minor": 4
}
