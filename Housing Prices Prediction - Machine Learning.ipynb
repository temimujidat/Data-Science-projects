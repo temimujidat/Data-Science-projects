{
 "cells": [
  {
   "cell_type": "markdown",
   "metadata": {},
   "source": [
    "<h2>Lagos House Prices Prediction (For Rent) </h2>\n",
    "<h3>Description </h3>\n",
    "<p>The gets the prices of house rent base on the following attributes: House Types, Location and Number of Bedrooms. </p>\n",
    "<p>The data used have been gotten fes of house prices accross different rom scraping a real estate website to retrieve over 1000 instances of house prices across different locations in Lagos State. This was possible with the use of Python and BeautifulSoup </p>"
   ]
  },
  {
   "cell_type": "code",
   "execution_count": 332,
   "metadata": {},
   "outputs": [],
   "source": [
    "# importing required libraries\n",
    "\n",
    "import pandas as pd\n",
    "import statsmodels.api as sm\n",
    "import numpy as np\n",
    "import matplotlib.pyplot as plt\n",
    "import seaborn as sns\n",
    "from sklearn.metrics import mean_squared_error\n",
    "from sklearn.metrics import mean_absolute_error\n",
    "from sklearn.compose import ColumnTransformer\n",
    "from sklearn.preprocessing import OneHotEncoder\n",
    "from sklearn.preprocessing import LabelEncoder\n",
    "from sklearn.model_selection import train_test_split\n",
    "from sklearn.tree import DecisionTreeRegressor\n",
    "from sklearn.linear_model import LinearRegression"
   ]
  },
  {
   "cell_type": "code",
   "execution_count": 333,
   "metadata": {},
   "outputs": [],
   "source": [
    "# importing target URL\n",
    "\n",
    "property = pd.read_csv('house_property.csv')"
   ]
  },
  {
   "cell_type": "code",
   "execution_count": 334,
   "metadata": {},
   "outputs": [
    {
     "data": {
      "text/html": [
       "<div>\n",
       "<style scoped>\n",
       "    .dataframe tbody tr th:only-of-type {\n",
       "        vertical-align: middle;\n",
       "    }\n",
       "\n",
       "    .dataframe tbody tr th {\n",
       "        vertical-align: top;\n",
       "    }\n",
       "\n",
       "    .dataframe thead th {\n",
       "        text-align: right;\n",
       "    }\n",
       "</style>\n",
       "<table border=\"1\" class=\"dataframe\">\n",
       "  <thead>\n",
       "    <tr style=\"text-align: right;\">\n",
       "      <th></th>\n",
       "      <th>Unnamed: 0</th>\n",
       "      <th>House Details</th>\n",
       "      <th>Location</th>\n",
       "      <th>Price (N)</th>\n",
       "      <th>Bedroom</th>\n",
       "    </tr>\n",
       "  </thead>\n",
       "  <tbody>\n",
       "    <tr>\n",
       "      <th>0</th>\n",
       "      <td>0</td>\n",
       "      <td>DETACHED DUPLEX</td>\n",
       "      <td>Lekki</td>\n",
       "      <td>9,000,000</td>\n",
       "      <td>6</td>\n",
       "    </tr>\n",
       "    <tr>\n",
       "      <th>1</th>\n",
       "      <td>1</td>\n",
       "      <td>FLAT</td>\n",
       "      <td>Yaba</td>\n",
       "      <td>1,100,000</td>\n",
       "      <td>3</td>\n",
       "    </tr>\n",
       "    <tr>\n",
       "      <th>2</th>\n",
       "      <td>2</td>\n",
       "      <td>FLAT</td>\n",
       "      <td>Ikeja</td>\n",
       "      <td>1,800,000</td>\n",
       "      <td>2</td>\n",
       "    </tr>\n",
       "    <tr>\n",
       "      <th>3</th>\n",
       "      <td>3</td>\n",
       "      <td>DETACHED DUPLEX</td>\n",
       "      <td>Lekki</td>\n",
       "      <td>9,000,000</td>\n",
       "      <td>6</td>\n",
       "    </tr>\n",
       "    <tr>\n",
       "      <th>4</th>\n",
       "      <td>4</td>\n",
       "      <td>FLAT</td>\n",
       "      <td>Ojodu</td>\n",
       "      <td>2,200,000</td>\n",
       "      <td>3</td>\n",
       "    </tr>\n",
       "  </tbody>\n",
       "</table>\n",
       "</div>"
      ],
      "text/plain": [
       "   Unnamed: 0    House Details Location  Price (N) Bedroom\n",
       "0           0  DETACHED DUPLEX    Lekki  9,000,000       6\n",
       "1           1            FLAT      Yaba  1,100,000       3\n",
       "2           2            FLAT     Ikeja  1,800,000       2\n",
       "3           3  DETACHED DUPLEX    Lekki  9,000,000       6\n",
       "4           4            FLAT     Ojodu  2,200,000       3"
      ]
     },
     "execution_count": 334,
     "metadata": {},
     "output_type": "execute_result"
    }
   ],
   "source": [
    "property.head()"
   ]
  },
  {
   "cell_type": "code",
   "execution_count": 335,
   "metadata": {},
   "outputs": [
    {
     "data": {
      "text/plain": [
       "array(['6', '3', '2', '4', 'OFFICE', 'SEMI', '5', '1', 'FLAT', 'TERRACED',\n",
       "       'WAREHOUSE', 'COMMERCIAL', 'MIXED', '7', 'LAND', 'SELF',\n",
       "       'DETACHED', 'SHOP', '10', 'BLOCKS', 'HOUSE', '8', 'SHOW',\n",
       "       'HOTEL/GUEST', '9', 'MINI', 'CONFERENCE', 'SHARED', 'BOYS',\n",
       "       'RESIDENTIAL', 'PRIVATE'], dtype=object)"
      ]
     },
     "execution_count": 335,
     "metadata": {},
     "output_type": "execute_result"
    }
   ],
   "source": [
    "#checking the unique values of \"bedroom'\n",
    "\n",
    "property['Bedroom'].unique()"
   ]
  },
  {
   "cell_type": "code",
   "execution_count": 336,
   "metadata": {},
   "outputs": [],
   "source": [
    "#creating a function that converts all non numerical values to NaN values\n",
    "\n",
    "def bed(x):\n",
    "    \n",
    "    if '1' in x:\n",
    "        return '1'\n",
    "    \n",
    "    elif '2' in x:\n",
    "        return '2'\n",
    "    \n",
    "    elif '3' in x:\n",
    "        return '3'\n",
    "    \n",
    "    elif '4' in x:\n",
    "        return '4'\n",
    "    \n",
    "    elif '5' in x:\n",
    "        return '5'\n",
    "    \n",
    "    elif '6' in x:\n",
    "        return '6'\n",
    "    \n",
    "    elif '7' in x:\n",
    "        return '7'\n",
    "    \n",
    "    elif '8' in x:\n",
    "        return '8'\n",
    "    \n",
    "    elif '9' in x:\n",
    "        return '9'\n",
    "    \n",
    "    elif '10' in x:\n",
    "        return '10'\n",
    "    \n",
    "    else:\n",
    "        return 'NaN'\n",
    "    \n",
    "   "
   ]
  },
  {
   "cell_type": "code",
   "execution_count": 337,
   "metadata": {},
   "outputs": [
    {
     "data": {
      "text/html": [
       "<div>\n",
       "<style scoped>\n",
       "    .dataframe tbody tr th:only-of-type {\n",
       "        vertical-align: middle;\n",
       "    }\n",
       "\n",
       "    .dataframe tbody tr th {\n",
       "        vertical-align: top;\n",
       "    }\n",
       "\n",
       "    .dataframe thead th {\n",
       "        text-align: right;\n",
       "    }\n",
       "</style>\n",
       "<table border=\"1\" class=\"dataframe\">\n",
       "  <thead>\n",
       "    <tr style=\"text-align: right;\">\n",
       "      <th></th>\n",
       "      <th>Unnamed: 0</th>\n",
       "      <th>House Details</th>\n",
       "      <th>Location</th>\n",
       "      <th>Price (N)</th>\n",
       "      <th>Bedroom</th>\n",
       "      <th>Bedrooms</th>\n",
       "    </tr>\n",
       "  </thead>\n",
       "  <tbody>\n",
       "    <tr>\n",
       "      <th>0</th>\n",
       "      <td>0</td>\n",
       "      <td>DETACHED DUPLEX</td>\n",
       "      <td>Lekki</td>\n",
       "      <td>9,000,000</td>\n",
       "      <td>6</td>\n",
       "      <td>6</td>\n",
       "    </tr>\n",
       "    <tr>\n",
       "      <th>1</th>\n",
       "      <td>1</td>\n",
       "      <td>FLAT</td>\n",
       "      <td>Yaba</td>\n",
       "      <td>1,100,000</td>\n",
       "      <td>3</td>\n",
       "      <td>3</td>\n",
       "    </tr>\n",
       "    <tr>\n",
       "      <th>2</th>\n",
       "      <td>2</td>\n",
       "      <td>FLAT</td>\n",
       "      <td>Ikeja</td>\n",
       "      <td>1,800,000</td>\n",
       "      <td>2</td>\n",
       "      <td>2</td>\n",
       "    </tr>\n",
       "    <tr>\n",
       "      <th>3</th>\n",
       "      <td>3</td>\n",
       "      <td>DETACHED DUPLEX</td>\n",
       "      <td>Lekki</td>\n",
       "      <td>9,000,000</td>\n",
       "      <td>6</td>\n",
       "      <td>6</td>\n",
       "    </tr>\n",
       "    <tr>\n",
       "      <th>4</th>\n",
       "      <td>4</td>\n",
       "      <td>FLAT</td>\n",
       "      <td>Ojodu</td>\n",
       "      <td>2,200,000</td>\n",
       "      <td>3</td>\n",
       "      <td>3</td>\n",
       "    </tr>\n",
       "  </tbody>\n",
       "</table>\n",
       "</div>"
      ],
      "text/plain": [
       "   Unnamed: 0    House Details Location  Price (N) Bedroom Bedrooms\n",
       "0           0  DETACHED DUPLEX    Lekki  9,000,000       6        6\n",
       "1           1            FLAT      Yaba  1,100,000       3        3\n",
       "2           2            FLAT     Ikeja  1,800,000       2        2\n",
       "3           3  DETACHED DUPLEX    Lekki  9,000,000       6        6\n",
       "4           4            FLAT     Ojodu  2,200,000       3        3"
      ]
     },
     "execution_count": 337,
     "metadata": {},
     "output_type": "execute_result"
    }
   ],
   "source": [
    "#creating a new attribute that contains all bedroom instances to be numerical and NaN\n",
    "\n",
    "property[\"Bedrooms\"] = property[\"Bedroom\"].apply(bed)\n",
    "\n",
    "property.head()"
   ]
  },
  {
   "cell_type": "code",
   "execution_count": 338,
   "metadata": {},
   "outputs": [
    {
     "data": {
      "text/plain": [
       "array(['6', '3', '2', '4', 'NaN', '5', '1', '7', '8', '9'], dtype=object)"
      ]
     },
     "execution_count": 338,
     "metadata": {},
     "output_type": "execute_result"
    }
   ],
   "source": [
    "#confirming the new attribute('Bedroom No.') is rightly created\n",
    "\n",
    "property['Bedrooms'].unique()"
   ]
  },
  {
   "cell_type": "code",
   "execution_count": 339,
   "metadata": {},
   "outputs": [],
   "source": [
    "property = property[property['Bedrooms'].str.contains('1') | property['Bedrooms'].str.contains('2') |property['Bedrooms'].str.contains('3') | property['Bedrooms'].str.contains('4') | property['Bedrooms'].str.contains('5') | property['Bedrooms'].str.contains('6') | property['Bedrooms'].str.contains('7') | property['Bedrooms'].str.contains('8') | property['Bedrooms'].str.contains('9')].reset_index().drop(columns='index')"
   ]
  },
  {
   "cell_type": "code",
   "execution_count": 340,
   "metadata": {},
   "outputs": [],
   "source": [
    "#editing the attribute name of \"Price\"\n",
    "\n",
    "property['Price'] = property['Price (N)']"
   ]
  },
  {
   "cell_type": "code",
   "execution_count": 341,
   "metadata": {},
   "outputs": [],
   "source": [
    "#editing the attribute name of \"house details\"\n",
    "\n",
    "property['Types'] = property['House Details']"
   ]
  },
  {
   "cell_type": "code",
   "execution_count": 342,
   "metadata": {},
   "outputs": [],
   "source": [
    "#Dropping the unwanted variables\n",
    "\n",
    "property.drop(['Unnamed: 0', 'Bedroom','Price (N)'], axis=1, inplace=True)"
   ]
  },
  {
   "cell_type": "code",
   "execution_count": 343,
   "metadata": {},
   "outputs": [
    {
     "data": {
      "text/plain": [
       "Lekki       615\n",
       "Ikoyi       528\n",
       "Island      211\n",
       "Ajah        102\n",
       "Ikeja        71\n",
       "Yaba         54\n",
       "Surulere     46\n",
       "Gbagada      45\n",
       "Isolo        40\n",
       "Maryland     28\n",
       "Ojodu        26\n",
       "Odofin       24\n",
       "Ipaja        19\n",
       "Okota        19\n",
       "Ikosi        17\n",
       "Shomolu      17\n",
       "Ogudu        14\n",
       "Ikorodu      14\n",
       "Ogba         10\n",
       "Egba          8\n",
       "Wuye          7\n",
       "Camp          6\n",
       "Alimosho      5\n",
       "Ilupeju       5\n",
       "Igando        3\n",
       "Oshodi        3\n",
       "Ejigbo        2\n",
       "Ketu          2\n",
       "Iju           1\n",
       "Agege         1\n",
       "Name: Location, dtype: int64"
      ]
     },
     "execution_count": 343,
     "metadata": {},
     "output_type": "execute_result"
    }
   ],
   "source": [
    "#checking the value counts of differnt locations in Lagos \n",
    "\n",
    "property['Location'].value_counts()"
   ]
  },
  {
   "cell_type": "markdown",
   "metadata": {},
   "source": [
    "Our machine learning model will be designed to focus on locations that have 15 or more instances of appearance in the dataset."
   ]
  },
  {
   "cell_type": "code",
   "execution_count": 344,
   "metadata": {},
   "outputs": [],
   "source": [
    "property_filter = property[property['Location'].str.contains('Lekki') | property['Location'].str.contains('Ikoyi') | property['Location'].str.contains('Island') | property['Location'].str.contains('Ajah') | property['Location'].str.contains('Ikeja') | property['Location'].str.contains('Yaba') | property['Location'].str.contains('Isolo') | property['Location'].str.contains('Surulere') | property['Location'].str.contains('Gbagada')| property['Location'].str.contains('Maryland')| property['Location'].str.contains('Ojodu')| property['Location'].str.contains('Shomolu')| property['Location'].str.contains('Odofin')| property['Location'].str.contains('Okota')| property['Location'].str.contains('Ipaja')].reset_index().drop(columns='index')"
   ]
  },
  {
   "cell_type": "code",
   "execution_count": 345,
   "metadata": {},
   "outputs": [
    {
     "data": {
      "text/plain": [
       "Lekki       615\n",
       "Ikoyi       528\n",
       "Island      211\n",
       "Ajah        102\n",
       "Ikeja        71\n",
       "Yaba         54\n",
       "Surulere     46\n",
       "Gbagada      45\n",
       "Isolo        40\n",
       "Maryland     28\n",
       "Ojodu        26\n",
       "Odofin       24\n",
       "Ipaja        19\n",
       "Okota        19\n",
       "Shomolu      17\n",
       "Name: Location, dtype: int64"
      ]
     },
     "execution_count": 345,
     "metadata": {},
     "output_type": "execute_result"
    }
   ],
   "source": [
    "#confirming the filtered dataset with new sum of instances\n",
    "\n",
    "property_filter['Location'].value_counts()"
   ]
  },
  {
   "cell_type": "code",
   "execution_count": 346,
   "metadata": {},
   "outputs": [
    {
     "data": {
      "text/plain": [
       "FLAT                   812\n",
       "TERRACED DUPLEX        248\n",
       "MINI FLAT              237\n",
       "DETACHED DUPLEX        228\n",
       "SEMI DETACHED          152\n",
       "HOUSE FOR               73\n",
       "BLOCKS OF               71\n",
       "PENTHOUSE FLAT          42\n",
       "MASSIONETTE HOUSE       20\n",
       "OFFICE SPACE            15\n",
       "SHARED APARTMENT        10\n",
       "SELF CONTAIN             9\n",
       "DETACHED BUNGALOW        8\n",
       "BOYS QUARTERS            7\n",
       "COMMERCIAL PROPERTY      5\n",
       "STUDIO APARTMENT         2\n",
       "HOTELGUEST HOUSE         2\n",
       "SHOP IN                  1\n",
       "TERRACED BUNGALOW        1\n",
       "Name: Types, dtype: int64"
      ]
     },
     "execution_count": 346,
     "metadata": {},
     "output_type": "execute_result"
    }
   ],
   "source": [
    "#checking the value counts of the house types for rent\n",
    "\n",
    "property['Types'].value_counts()"
   ]
  },
  {
   "cell_type": "markdown",
   "metadata": {},
   "source": [
    "House types that has instances of 20 and above will be retained for our modelling while others will be dropped from the data set"
   ]
  },
  {
   "cell_type": "code",
   "execution_count": 347,
   "metadata": {},
   "outputs": [],
   "source": [
    "property_filter = property_filter[property_filter['Types'].str.contains('FLAT') | property_filter['Types'].str.contains('TERRACED DUPLEX') | property_filter['Types'].str.contains('MINI FLAT') | property_filter['Types'].str.contains('DETACHED DUPLEX') | property_filter['Types'].str.contains('SEMI DETACHED') | property_filter['Types'].str.contains('COMMERCIAL PROPERTY') | property_filter['Types'].str.contains('PAINTHOUSE FLAT') | property_filter['Types'].str.contains('MASSIONETTE HOUSE') | property_filter['Types'].str.contains('OFFICE SPACE') | property_filter['Types'].str.contains('SHARED APARTMENT') | property_filter['Types'].str.contains('SELF CONTAIN')].reset_index().drop(columns='index')"
   ]
  },
  {
   "cell_type": "code",
   "execution_count": 348,
   "metadata": {},
   "outputs": [
    {
     "data": {
      "text/plain": [
       "FLAT                   771\n",
       "TERRACED DUPLEX        242\n",
       "DETACHED DUPLEX        225\n",
       "MINI FLAT              222\n",
       "SEMI DETACHED          147\n",
       "PENTHOUSE FLAT          42\n",
       "MASSIONETTE HOUSE       20\n",
       "OFFICE SPACE            15\n",
       "SHARED APARTMENT        10\n",
       "SELF CONTAIN             9\n",
       "COMMERCIAL PROPERTY      5\n",
       "Name: Types, dtype: int64"
      ]
     },
     "execution_count": 348,
     "metadata": {},
     "output_type": "execute_result"
    }
   ],
   "source": [
    "property_filter['Types'].value_counts()"
   ]
  },
  {
   "cell_type": "code",
   "execution_count": 349,
   "metadata": {},
   "outputs": [
    {
     "data": {
      "text/plain": [
       "House Details    object\n",
       "Location         object\n",
       "Bedrooms         object\n",
       "Price            object\n",
       "Types            object\n",
       "dtype: object"
      ]
     },
     "execution_count": 349,
     "metadata": {},
     "output_type": "execute_result"
    }
   ],
   "source": [
    "#checking the data types of each of the attributes\n",
    "\n",
    "property_filter.dtypes"
   ]
  },
  {
   "cell_type": "code",
   "execution_count": 350,
   "metadata": {},
   "outputs": [
    {
     "data": {
      "text/html": [
       "<div>\n",
       "<style scoped>\n",
       "    .dataframe tbody tr th:only-of-type {\n",
       "        vertical-align: middle;\n",
       "    }\n",
       "\n",
       "    .dataframe tbody tr th {\n",
       "        vertical-align: top;\n",
       "    }\n",
       "\n",
       "    .dataframe thead th {\n",
       "        text-align: right;\n",
       "    }\n",
       "</style>\n",
       "<table border=\"1\" class=\"dataframe\">\n",
       "  <thead>\n",
       "    <tr style=\"text-align: right;\">\n",
       "      <th></th>\n",
       "      <th>House Details</th>\n",
       "      <th>Location</th>\n",
       "      <th>Bedrooms</th>\n",
       "      <th>Price</th>\n",
       "      <th>Types</th>\n",
       "    </tr>\n",
       "  </thead>\n",
       "  <tbody>\n",
       "    <tr>\n",
       "      <th>count</th>\n",
       "      <td>1708</td>\n",
       "      <td>1708</td>\n",
       "      <td>1708</td>\n",
       "      <td>1708</td>\n",
       "      <td>1708</td>\n",
       "    </tr>\n",
       "    <tr>\n",
       "      <th>unique</th>\n",
       "      <td>11</td>\n",
       "      <td>15</td>\n",
       "      <td>9</td>\n",
       "      <td>131</td>\n",
       "      <td>11</td>\n",
       "    </tr>\n",
       "    <tr>\n",
       "      <th>top</th>\n",
       "      <td>FLAT</td>\n",
       "      <td>Lekki</td>\n",
       "      <td>3</td>\n",
       "      <td>9,000,000</td>\n",
       "      <td>FLAT</td>\n",
       "    </tr>\n",
       "    <tr>\n",
       "      <th>freq</th>\n",
       "      <td>771</td>\n",
       "      <td>576</td>\n",
       "      <td>561</td>\n",
       "      <td>147</td>\n",
       "      <td>771</td>\n",
       "    </tr>\n",
       "  </tbody>\n",
       "</table>\n",
       "</div>"
      ],
      "text/plain": [
       "       House Details Location Bedrooms      Price  Types\n",
       "count           1708     1708     1708       1708   1708\n",
       "unique            11       15        9        131     11\n",
       "top            FLAT     Lekki        3  9,000,000  FLAT \n",
       "freq             771      576      561        147    771"
      ]
     },
     "execution_count": 350,
     "metadata": {},
     "output_type": "execute_result"
    }
   ],
   "source": [
    "#getting more details about the dataset\n",
    "\n",
    "property_filter.describe()"
   ]
  },
  {
   "cell_type": "code",
   "execution_count": 351,
   "metadata": {},
   "outputs": [],
   "source": [
    "#converting the string value to integer value in the \"price\" attribute\n",
    "\n",
    "property_filter['Price']= property.Price.str.replace(',' , '').astype(int)"
   ]
  },
  {
   "cell_type": "code",
   "execution_count": 352,
   "metadata": {},
   "outputs": [
    {
     "data": {
      "text/html": [
       "<div>\n",
       "<style scoped>\n",
       "    .dataframe tbody tr th:only-of-type {\n",
       "        vertical-align: middle;\n",
       "    }\n",
       "\n",
       "    .dataframe tbody tr th {\n",
       "        vertical-align: top;\n",
       "    }\n",
       "\n",
       "    .dataframe thead th {\n",
       "        text-align: right;\n",
       "    }\n",
       "</style>\n",
       "<table border=\"1\" class=\"dataframe\">\n",
       "  <thead>\n",
       "    <tr style=\"text-align: right;\">\n",
       "      <th></th>\n",
       "      <th>House Details</th>\n",
       "      <th>Location</th>\n",
       "      <th>Bedrooms</th>\n",
       "      <th>Price</th>\n",
       "      <th>Types</th>\n",
       "    </tr>\n",
       "  </thead>\n",
       "  <tbody>\n",
       "    <tr>\n",
       "      <th>0</th>\n",
       "      <td>DETACHED DUPLEX</td>\n",
       "      <td>Lekki</td>\n",
       "      <td>6</td>\n",
       "      <td>9000000</td>\n",
       "      <td>DETACHED DUPLEX</td>\n",
       "    </tr>\n",
       "    <tr>\n",
       "      <th>1</th>\n",
       "      <td>FLAT</td>\n",
       "      <td>Yaba</td>\n",
       "      <td>3</td>\n",
       "      <td>1100000</td>\n",
       "      <td>FLAT</td>\n",
       "    </tr>\n",
       "    <tr>\n",
       "      <th>2</th>\n",
       "      <td>FLAT</td>\n",
       "      <td>Ikeja</td>\n",
       "      <td>2</td>\n",
       "      <td>1800000</td>\n",
       "      <td>FLAT</td>\n",
       "    </tr>\n",
       "    <tr>\n",
       "      <th>3</th>\n",
       "      <td>DETACHED DUPLEX</td>\n",
       "      <td>Lekki</td>\n",
       "      <td>6</td>\n",
       "      <td>9000000</td>\n",
       "      <td>DETACHED DUPLEX</td>\n",
       "    </tr>\n",
       "    <tr>\n",
       "      <th>4</th>\n",
       "      <td>FLAT</td>\n",
       "      <td>Ojodu</td>\n",
       "      <td>3</td>\n",
       "      <td>2200000</td>\n",
       "      <td>FLAT</td>\n",
       "    </tr>\n",
       "  </tbody>\n",
       "</table>\n",
       "</div>"
      ],
      "text/plain": [
       "     House Details Location Bedrooms    Price            Types\n",
       "0  DETACHED DUPLEX    Lekki        6  9000000  DETACHED DUPLEX\n",
       "1            FLAT      Yaba        3  1100000            FLAT \n",
       "2            FLAT     Ikeja        2  1800000            FLAT \n",
       "3  DETACHED DUPLEX    Lekki        6  9000000  DETACHED DUPLEX\n",
       "4            FLAT     Ojodu        3  2200000            FLAT "
      ]
     },
     "execution_count": 352,
     "metadata": {},
     "output_type": "execute_result"
    }
   ],
   "source": [
    "property_filter.head()"
   ]
  },
  {
   "cell_type": "code",
   "execution_count": 353,
   "metadata": {},
   "outputs": [
    {
     "data": {
      "text/plain": [
       "House Details    object\n",
       "Location         object\n",
       "Bedrooms         object\n",
       "Price             int32\n",
       "Types            object\n",
       "dtype: object"
      ]
     },
     "execution_count": 353,
     "metadata": {},
     "output_type": "execute_result"
    }
   ],
   "source": [
    "property_filter.dtypes"
   ]
  },
  {
   "cell_type": "code",
   "execution_count": 354,
   "metadata": {},
   "outputs": [
    {
     "data": {
      "text/plain": [
       "House Details    object\n",
       "Location         object\n",
       "Bedrooms         object\n",
       "Price             int32\n",
       "Types            object\n",
       "dtype: object"
      ]
     },
     "execution_count": 354,
     "metadata": {},
     "output_type": "execute_result"
    }
   ],
   "source": [
    "property_filter.dtypes"
   ]
  },
  {
   "cell_type": "code",
   "execution_count": 355,
   "metadata": {
    "scrolled": true
   },
   "outputs": [
    {
     "data": {
      "text/plain": [
       "<matplotlib.axes._subplots.AxesSubplot at 0x12c8c210>"
      ]
     },
     "execution_count": 355,
     "metadata": {},
     "output_type": "execute_result"
    },
    {
     "data": {
      "image/png": "[encoded data removed]",
      "text/plain": [
       "<Figure size 432x288 with 1 Axes>"
      ]
     },
     "metadata": {
      "needs_background": "light"
     },
     "output_type": "display_data"
    }
   ],
   "source": [
    "property_filter['Location'].value_counts().plot(kind='barh')"
   ]
  },
  {
   "cell_type": "code",
   "execution_count": 356,
   "metadata": {},
   "outputs": [
    {
     "data": {
      "text/plain": [
       "<matplotlib.axes._subplots.AxesSubplot at 0x12c2c6b0>"
      ]
     },
     "execution_count": 356,
     "metadata": {},
     "output_type": "execute_result"
    },
    {
     "data": {
      "image/png": "[encoded data removed]",
      "text/plain": [
       "<Figure size 432x288 with 1 Axes>"
      ]
     },
     "metadata": {
      "needs_background": "light"
     },
     "output_type": "display_data"
    }
   ],
   "source": [
    "property_filter['House Details'].value_counts().plot(kind='barh')"
   ]
  },
  {
   "cell_type": "code",
   "execution_count": 357,
   "metadata": {},
   "outputs": [
    {
     "data": {
      "text/plain": [
       "House Details    object\n",
       "Location         object\n",
       "Bedrooms         object\n",
       "Price             int32\n",
       "Types            object\n",
       "dtype: object"
      ]
     },
     "execution_count": 357,
     "metadata": {},
     "output_type": "execute_result"
    }
   ],
   "source": [
    "property_filter.dtypes"
   ]
  },
  {
   "cell_type": "code",
   "execution_count": 358,
   "metadata": {},
   "outputs": [
    {
     "data": {
      "text/plain": [
       "([0, 1, 2, 3, 4, 5, 6, 7, 8, 9, 10, 11, 12, 13, 14],\n",
       " <a list of 15 Text xticklabel objects>)"
      ]
     },
     "execution_count": 358,
     "metadata": {},
     "output_type": "execute_result"
    },
    {
     "data": {
      "image/png": "[encoded data removed]",
      "text/plain": [
       "<Figure size 432x288 with 1 Axes>"
      ]
     },
     "metadata": {
      "needs_background": "light"
     },
     "output_type": "display_data"
    }
   ],
   "source": [
    "plt.scatter('Location', 'Price', data=property_filter)\n",
    "plt.xticks(rotation=90)"
   ]
  },
  {
   "cell_type": "code",
   "execution_count": 359,
   "metadata": {},
   "outputs": [
    {
     "data": {
      "text/plain": [
       "House Details    object\n",
       "Location         object\n",
       "Bedrooms         object\n",
       "Price             int32\n",
       "Types            object\n",
       "dtype: object"
      ]
     },
     "execution_count": 359,
     "metadata": {},
     "output_type": "execute_result"
    }
   ],
   "source": [
    "property_filter.dtypes"
   ]
  },
  {
   "cell_type": "code",
   "execution_count": 360,
   "metadata": {},
   "outputs": [],
   "source": [
    "#converting the Location attribute to figures that will allow for modelling\n",
    "\n",
    "add = property_filter['Location'].unique()\n",
    "\n",
    "for i,Location in enumerate(add):\n",
    "\n",
    "    property_filter.replace(Location,i,inplace=True)"
   ]
  },
  {
   "cell_type": "code",
   "execution_count": 361,
   "metadata": {},
   "outputs": [],
   "source": [
    "#converting the bedroom number attribute to figures that will allow for modelling\n",
    "\n",
    "add = property_filter['Bedrooms'].unique()\n",
    "\n",
    "for i,Bedrooms in enumerate(add):\n",
    "    \n",
    "    property_filter.replace(Bedrooms,i,inplace=True)"
   ]
  },
  {
   "cell_type": "code",
   "execution_count": 362,
   "metadata": {},
   "outputs": [],
   "source": [
    "#converting the types of house attribute to figures that will allow for modelling\n",
    "\n",
    "add = property_filter['Types'].unique()\n",
    "\n",
    "for i,Types in enumerate(add):\n",
    "    \n",
    "    property_filter.replace(Types,i,inplace=True)"
   ]
  },
  {
   "cell_type": "code",
   "execution_count": 363,
   "metadata": {},
   "outputs": [
    {
     "data": {
      "text/html": [
       "<div>\n",
       "<style scoped>\n",
       "    .dataframe tbody tr th:only-of-type {\n",
       "        vertical-align: middle;\n",
       "    }\n",
       "\n",
       "    .dataframe tbody tr th {\n",
       "        vertical-align: top;\n",
       "    }\n",
       "\n",
       "    .dataframe thead th {\n",
       "        text-align: right;\n",
       "    }\n",
       "</style>\n",
       "<table border=\"1\" class=\"dataframe\">\n",
       "  <thead>\n",
       "    <tr style=\"text-align: right;\">\n",
       "      <th></th>\n",
       "      <th>House Details</th>\n",
       "      <th>Location</th>\n",
       "      <th>Bedrooms</th>\n",
       "      <th>Price</th>\n",
       "      <th>Types</th>\n",
       "    </tr>\n",
       "  </thead>\n",
       "  <tbody>\n",
       "    <tr>\n",
       "      <th>House Details</th>\n",
       "      <td>1.000000</td>\n",
       "      <td>-0.004187</td>\n",
       "      <td>0.580389</td>\n",
       "      <td>-0.036252</td>\n",
       "      <td>1.000000</td>\n",
       "    </tr>\n",
       "    <tr>\n",
       "      <th>Location</th>\n",
       "      <td>-0.004187</td>\n",
       "      <td>1.000000</td>\n",
       "      <td>-0.029631</td>\n",
       "      <td>0.014274</td>\n",
       "      <td>-0.004187</td>\n",
       "    </tr>\n",
       "    <tr>\n",
       "      <th>Bedrooms</th>\n",
       "      <td>0.580389</td>\n",
       "      <td>-0.029631</td>\n",
       "      <td>1.000000</td>\n",
       "      <td>-0.000263</td>\n",
       "      <td>0.580389</td>\n",
       "    </tr>\n",
       "    <tr>\n",
       "      <th>Price</th>\n",
       "      <td>-0.036252</td>\n",
       "      <td>0.014274</td>\n",
       "      <td>-0.000263</td>\n",
       "      <td>1.000000</td>\n",
       "      <td>-0.036252</td>\n",
       "    </tr>\n",
       "    <tr>\n",
       "      <th>Types</th>\n",
       "      <td>1.000000</td>\n",
       "      <td>-0.004187</td>\n",
       "      <td>0.580389</td>\n",
       "      <td>-0.036252</td>\n",
       "      <td>1.000000</td>\n",
       "    </tr>\n",
       "  </tbody>\n",
       "</table>\n",
       "</div>"
      ],
      "text/plain": [
       "               House Details  Location  Bedrooms     Price     Types\n",
       "House Details       1.000000 -0.004187  0.580389 -0.036252  1.000000\n",
       "Location           -0.004187  1.000000 -0.029631  0.014274 -0.004187\n",
       "Bedrooms            0.580389 -0.029631  1.000000 -0.000263  0.580389\n",
       "Price              -0.036252  0.014274 -0.000263  1.000000 -0.036252\n",
       "Types               1.000000 -0.004187  0.580389 -0.036252  1.000000"
      ]
     },
     "execution_count": 363,
     "metadata": {},
     "output_type": "execute_result"
    }
   ],
   "source": [
    "property_filter.corr(method=\"pearson\")"
   ]
  },
  {
   "cell_type": "code",
   "execution_count": 364,
   "metadata": {},
   "outputs": [],
   "source": [
    "#setting \"price\" to be the target variable and setting to y\n",
    "\n",
    "y = property_filter['Price']"
   ]
  },
  {
   "cell_type": "code",
   "execution_count": 365,
   "metadata": {},
   "outputs": [],
   "source": [
    "#setting the relavant variables to x\n",
    "\n",
    "x = property_filter.drop(['Price'], axis=1)"
   ]
  },
  {
   "cell_type": "code",
   "execution_count": 366,
   "metadata": {},
   "outputs": [
    {
     "data": {
      "text/plain": [
       "(1708,)"
      ]
     },
     "execution_count": 366,
     "metadata": {},
     "output_type": "execute_result"
    }
   ],
   "source": [
    "y.shape"
   ]
  },
  {
   "cell_type": "code",
   "execution_count": 367,
   "metadata": {},
   "outputs": [
    {
     "data": {
      "text/plain": [
       "(1708, 4)"
      ]
     },
     "execution_count": 367,
     "metadata": {},
     "output_type": "execute_result"
    }
   ],
   "source": [
    "x.shape"
   ]
  },
  {
   "cell_type": "code",
   "execution_count": 368,
   "metadata": {},
   "outputs": [],
   "source": [
    "#converting the x variable to numpy\n",
    "\n",
    "x = x.to_numpy()"
   ]
  },
  {
   "cell_type": "code",
   "execution_count": 369,
   "metadata": {},
   "outputs": [],
   "source": [
    "#converting the y variable to numpy\n",
    "\n",
    "y = y.to_numpy()"
   ]
  },
  {
   "cell_type": "code",
   "execution_count": 370,
   "metadata": {},
   "outputs": [],
   "source": [
    "#calling linear regression for application\n",
    "\n",
    "reg = LinearRegression()"
   ]
  },
  {
   "cell_type": "code",
   "execution_count": 371,
   "metadata": {},
   "outputs": [
    {
     "data": {
      "text/plain": [
       "LinearRegression(copy_X=True, fit_intercept=True, n_jobs=None, normalize=False)"
      ]
     },
     "execution_count": 371,
     "metadata": {},
     "output_type": "execute_result"
    }
   ],
   "source": [
    "reg.fit(x,y)"
   ]
  },
  {
   "cell_type": "code",
   "execution_count": 372,
   "metadata": {},
   "outputs": [],
   "source": [
    "#splitting the dataset into 2 for training and for testing purpose\n",
    "\n",
    "x_train, x_test, y_train, y_test = train_test_split(x,y,random_state=1)"
   ]
  },
  {
   "cell_type": "code",
   "execution_count": 373,
   "metadata": {},
   "outputs": [
    {
     "name": "stdout",
     "output_type": "stream",
     "text": [
      "(1281, 4)\n",
      "(427, 4)\n",
      "(1281,)\n",
      "(427,)\n"
     ]
    }
   ],
   "source": [
    "print(x_train.shape)\n",
    "print(x_test.shape)\n",
    "print(y_train.shape)\n",
    "print(y_test.shape)"
   ]
  },
  {
   "cell_type": "code",
   "execution_count": 374,
   "metadata": {},
   "outputs": [
    {
     "data": {
      "text/plain": [
       "LinearRegression(copy_X=True, fit_intercept=True, n_jobs=None, normalize=False)"
      ]
     },
     "execution_count": 374,
     "metadata": {},
     "output_type": "execute_result"
    }
   ],
   "source": [
    "reg.fit(x_train,y_train)"
   ]
  },
  {
   "cell_type": "code",
   "execution_count": 375,
   "metadata": {},
   "outputs": [
    {
     "name": "stdout",
     "output_type": "stream",
     "text": [
      "10886977.609020676\n"
     ]
    }
   ],
   "source": [
    "print(reg.intercept_)"
   ]
  },
  {
   "cell_type": "code",
   "execution_count": 376,
   "metadata": {},
   "outputs": [
    {
     "name": "stdout",
     "output_type": "stream",
     "text": [
      "[-665045.14912009  749359.96710565 1373945.28542552 -665045.14912009]\n"
     ]
    }
   ],
   "source": [
    "print(reg.coef_)"
   ]
  },
  {
   "cell_type": "code",
   "execution_count": 377,
   "metadata": {},
   "outputs": [
    {
     "data": {
      "text/plain": [
       "-0.018670754358966812"
      ]
     },
     "execution_count": 377,
     "metadata": {},
     "output_type": "execute_result"
    }
   ],
   "source": [
    "reg.score(x_test,y_test)"
   ]
  },
  {
   "cell_type": "code",
   "execution_count": 380,
   "metadata": {},
   "outputs": [
    {
     "data": {
      "text/plain": [
       "-0.018670754358966812"
      ]
     },
     "execution_count": 380,
     "metadata": {},
     "output_type": "execute_result"
    }
   ],
   "source": [
    "reg.score(x_test,y_test)"
   ]
  },
  {
   "cell_type": "code",
   "execution_count": null,
   "metadata": {},
   "outputs": [],
   "source": []
  }
 ],
 "metadata": {
  "kernelspec": {
   "display_name": "Python 3",
   "language": "python",
   "name": "python3"
  },
  "language_info": {
   "codemirror_mode": {
    "name": "ipython",
    "version": 3
   },
   "file_extension": ".py",
   "mimetype": "text/x-python",
   "name": "python",
   "nbconvert_exporter": "python",
   "pygments_lexer": "ipython3",
   "version": "3.7.6"
  }
 },
 "nbformat": 4,
 "nbformat_minor": 4
}
