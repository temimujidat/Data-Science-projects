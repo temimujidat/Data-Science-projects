{
 "cells": [
  {
   "cell_type": "code",
   "execution_count": 1,
   "metadata": {},
   "outputs": [],
   "source": [
    "import pandas as pd\n",
    "import matplotlib.pyplot as plt\n",
    "import seaborn as sns\n",
    "import numpy as np\n",
    "import time\n",
    "import requests\n",
    "from bs4 import BeautifulSoup"
   ]
  },
  {
   "cell_type": "code",
   "execution_count": 2,
   "metadata": {},
   "outputs": [],
   "source": [
    "base_url =\"https://www.propertypro.ng/property-for-sale/house/?search=lagos&bedroom=&min_price=&max_price=\""
   ]
  },
  {
   "cell_type": "code",
   "execution_count": 3,
   "metadata": {},
   "outputs": [],
   "source": [
    "headers={'User-Agent': 'Mozilla/5.0 (Windows NT 10.0; Win64; x64) AppleWebKit/537.36 (KHTML, like Gecko) Chrome/87.0.4280.66 Safari/537.36'}"
   ]
  },
  {
   "cell_type": "code",
   "execution_count": 4,
   "metadata": {},
   "outputs": [],
   "source": [
    "r = requests.get(base_url, headers=headers)"
   ]
  },
  {
   "cell_type": "code",
   "execution_count": 5,
   "metadata": {},
   "outputs": [
    {
     "data": {
      "text/plain": [
       "200"
      ]
     },
     "execution_count": 5,
     "metadata": {},
     "output_type": "execute_result"
    }
   ],
   "source": [
    "r.status_code\n"
   ]
  },
  {
   "cell_type": "code",
   "execution_count": 6,
   "metadata": {},
   "outputs": [
    {
     "name": "stdout",
     "output_type": "stream",
     "text": [
      "House for sale  in Nigeria (29,402 listings) | PropertyPro.ng\n"
     ]
    }
   ],
   "source": [
    "soup = BeautifulSoup(r.text, 'html.parser')\n",
    "print(soup.title.get_text())"
   ]
  },
  {
   "cell_type": "code",
   "execution_count": 7,
   "metadata": {},
   "outputs": [
    {
     "data": {
      "text/plain": [
       "'<!DOCTYPE html>\\n<html lang=\"en\">\\n<head>\\n<title>House for sale  in Nigeria (29,402 listings) | PropertyPro.ng</title>\\n\\n<meta charset=\"UTF-8\" />\\n<meta name=\"viewport\" content=\"width=device-width, initial-scale=1\" />\\n\\n<link rel=\"icon\" type=\"image/ico\" href=\"/assets/image/42484569b600758112d45bad3d876f78-favicon.ico\" />\\n<meta name=\"description\" content=\"House  for sale in  Nigeria, House for sale  in  Nigeria\" />\\n<meta name=\"keywords\" content=\"House, House for sale in  Nigeria, House for sale  in  Nigeria,  Nigeria Flats, houses, Apartments, land, commercial property, office space, self contain\" />\\n<meta property=\"og:title\" content=\"House for sale  in Nigeria\" />\\n<meta property=\"og:description\" content=\"House  for sale in  Nigeria, House for sale  in  Nigeria\" />\\n<link rel=\"canonical\" href=\"https://www.propertypro.ng/property-for-sale/house\" />\\n\\n<link href=\"https://fonts.googleapis.com/css?family=Roboto:300,400,500,700,900\" rel=\"stylesheet\" />\\n\\n<link rel=\"stylesheet\" href=\"/assets/assets/css/53292f0e9fcb8faa145cac1121d35aad-all.css\" />\\n<link rel=\"stylesheet\" href=\"/assets/assets/css/b9d4bae2472f0ee5ea876d11d9f8fc71-custom.css\" />\\n<style type=\"text/css\">\\n            #ajaxWait {\\n                display: none;\\n                width: 100%;\\n                position: fixed;\\n                top: 100px;\\n                z-index: 1000000;\\n\\n            }\\n            #ajaxWait .progress {\\n                width: 400px;\\n                margin: 0 auto;\\n            }\\n\\n            \\n        </style>\\n<script type=\"application/ld+json\">\\n            {\\n            \"logo\":\"https://www.propertypro.ng/assets/app2/img/propertypro.png\",\\n            \"@context\":\"http://schema.org\",\\n            \"url\":\"https://www.propertypro.ng\",\\n            \"name\":\"PropertyPro.ng\",\\n            \"sameAs\" : [\\n                        \"https://www.facebook.com/propertyprong\",\\n                        \"https://www.twitter.com/propertyprong\",\\n                        \"https://instagram.com/propertyprong\"\\n                      ],\\n            \"@type\":\"Organization\"}\\n        </script>\\n<script type=\"application/ld+json\">\\n        {\\n            \"name\":\"PropertyPro.ng\",\\n            \"alternateName\":\"PropertyPro\",\\n            \"@context\": \"https://schema.org\",\\n            \"@type\": \"WebSite\",\\n            \"url\": \"https://www.propertypro.ng\",\\n            \"potentialAction\": {\\n                \"@type\": \"SearchAction\",\\n                \"target\": \"https://www.propertypro.ng/properties?search={search_term_string}\",\\n                \"query-input\": \"required name=search_term_string\"\\n            }\\n        }\\n        </script>\\n<script type=\"application/ld+json\">\\n        [\\n            {\\n                \"@context\": \"https://schema.org\",\\n                \"@type\": \"SiteNavigationElement\",\\n                \"name\": \"Properties for Rent\",\\n                \"url\": \"https://www.propertypro.ng/property-for-rent\"\\n            },\\n            {\\n                \"@context\": \"https://schema.org\",\\n                \"@type\": \"SiteNavigationElement\",\\n                \"name\": \"Properties for Sale\",\\n                \"url\": \"https://www.propertypro.ng/property-for-sale\"\\n            },\\n            {\\n                \"@context\": \"https://schema.org\",\\n                \"@type\": \"SiteNavigationElement\",\\n                \"name\": \"Properties for ShortLet\",\\n                \"url\": \"https://www.propertypro.ng/shortlet\"\\n            },\\n            {\\n                \"@context\": \"https://schema.org\",\\n                \"@type\": \"SiteNavigationElement\",\\n                \"name\": \"Real Estate Agents\",\\n                \"url\": \"https://www.propertypro.ng/agents\"\\n            },\\n            {\\n                \"@context\": \"https://schema.org\",\\n                \"@type\": \"SiteNavigationElement\",\\n                \"name\": \"Real Estate Blog\",\\n                \"url\": \"https://www.propertypro.ng/blog\"\\n            },\\n            {\\n                \"@context\": \"https://schema.org\",\\n                \"@type\": \"SiteNavigationElement\",\\n                \"name\": \"Properties for Rent in Lagos\",\\n                \"url\": \"https://www.propertypro.ng/property-for-rent/in/lagos\"\\n            },\\n            {\\n                \"@context\": \"https://schema.org\",\\n                \"@type\": \"SiteNavigationElement\",\\n                \"name\": \"Properties for Sale in Lagos\",\\n                \"url\": \"https://www.propertypro.ng/property-for-sale/in/lagos\"\\n            },\\n            {\\n                \"@context\": \"https://schema.org\",\\n                \"@type\": \"SiteNavigationElement\",\\n                \"name\": \"Properties for Rent in Abuja\",\\n                \"url\": \"https://www.propertypro.ng/property-for-rent/in/abuja\"\\n            },\\n            {\\n                \"@context\": \"https://schema.org\",\\n                \"@type\": \"SiteNavigationElement\",\\n                \"name\": \"Properties for Sale in Abuja\",\\n                \"url\": \"https://www.propertypro.ng/property-for-sale/in/abuja\"\\n            }\\n        ]\\n        </script>\\n\\n<script async=\"\" src=\"https://www.googletagmanager.com/gtag/js?id=UA-109674489-1\" type=\"f44108f06d6a151ef090e515-text/javascript\"></script>\\n<script type=\"f44108f06d6a151ef090e515-text/javascript\">\\n            window.dataLayer = window.dataLayer || [];\\n            function gtag(){dataLayer.push(arguments);}\\n            gtag(\\'js\\', new Date());\\n\\n            gtag(\\'config\\', \\'UA-109674489-1\\');\\n        </script>\\n<link rel=\"manifest\" href=\"/manifest.json\" />\\n<script src=\"https://cdn.onesignal.com/sdks/OneSignalSDK.js\" async=\"\" type=\"f44108f06d6a151ef090e515-text/javascript\"></script>\\n<script type=\"f44108f06d6a151ef090e515-text/javascript\">\\n            var OneSignal = window.OneSignal || [];\\n            OneSignal.push([\"init\", {\\n                appId: \"09852cd5-2afa-47c7-bc28-6ee2e7fcb5d4\",\\n                autoRegister: true,\\n                notifyButton: {\\n                    enable: false /* Set to false to hide */\\n                },\\n                safari_web_id: \\'web.onesignal.auto.040fbea3-5bf4-4f81-a6ad-042d48246d00\\'\\n            }]);\\n        </script>\\n\\n<script async=\"\" src=\"https://www.googletagmanager.com/gtag/js?id=AW-975835182\" type=\"f44108f06d6a151ef090e515-text/javascript\"></script>\\n<script type=\"f44108f06d6a151ef090e515-text/javascript\">\\n            window.dataLayer = window.dataLayer || [];\\n            function gtag(){dataLayer.push(arguments);}\\n            gtag(\\'js\\', new Date());\\n\\n            gtag(\\'config\\', \\'AW-975835182\\');\\n        </script>\\n<style>\\r\\n\\r\\n#banner-link {\\r\\n    position: absolute;\\r\\n    width: 200px;\\r\\n    height: 100%;\\r\\n    right: 0px;\\r\\n    top: 0px;\\r\\n    cursor: pointer;\\r\\n}\\r\\n\\r\\n#display-m-ad, #display-d-ad {\\r\\n   display:none;\\r\\n}\\r\\n@media only screen and (max-width: 600px) {\\r\\n#banner-link {\\r\\ndisplay: none\\r\\n}\\r\\n   #display-m-ad {\\r\\n       display: block\\r\\n   }\\r\\n}\\r\\n\\r\\n@media only screen and (min-width: 600px) {\\r\\n   #display-d-ad {\\r\\n       display: block\\r\\n   }\\r\\n}\\r\\n\\r\\n\\r\\n.simg {\\r\\n width: 100% !important;\\r\\ndisplay: block;\\r\\nmargin: 0 auto\\r\\n}\\r\\n\\r\\n.localty-cont .row1 a {\\r\\n     display: block;\\r\\n    margin: 0 auto;\\r\\n}\\r\\n\\r\\n#home-popup .modal-dialog {\\r\\nmargin-top: 100px;\\r\\n}\\r\\n#home-popup .modal-content {\\r\\nbackground-color: transparent !important;\\r\\n}\\r\\n#home-popup .modal-body {\\r\\nmargin: 0; padding: 0;\\r\\n}\\r\\n#home-popup button {\\r\\n    background-color: #fff;\\r\\n    border-radius: 100%;\\r\\n    padding: 1px 6px;\\r\\n    display: block;\\r\\n    margin-bottom: -10px;\\r\\n    margin-right: -15px;\\r\\n}\\r\\n#home-popup img  {\\r\\nwidth: 500px;\\r\\ncursor: pointer;\\r\\n}\\r\\n\\r\\n.result-listing .text-center, .afrecaprop img {\\r\\nwidth: 100% !important;\\r\\n}\\r\\n\\r\\n.headAd {\\r\\nmax-height: 60px\\r\\n}\\r\\n\\r\\n</style>\\n<script type=\"f44108f06d6a151ef090e515-text/javascript\">\\r\\n$(document).ready(function() {\\r\\n   // $(\\'#landModal\\').modal(\\'show\\')\\r\\n});\\r\\n</script>\\n\\n<script type=\"f44108f06d6a151ef090e515-text/javascript\">(function(w,d,s,l,i){w[l]=w[l]||[];w[l].push({\\'gtm.start\\':\\r\\nnew Date().getTime(),event:\\'gtm.js\\'});var f=d.getElementsByTagName(s)[0],\\r\\nj=d.createElement(s),dl=l!=\\'dataLayer\\'?\\'&l=\\'+l:\\'\\';j.async=true;j.src=\\r\\n\\'https://www.googletagmanager.com/gtm.js?id=\\'+i+dl;f.parentNode.insertBefore(j,f);\\r\\n})(window,document,\\'script\\',\\'dataLayer\\',\\'GTM-KC8QTTS\\');</script>\\n\\n\\n<script type=\"f44108f06d6a151ef090e515-text/javascript\">(function(w,d,s,l,i){w[l]=w[l]||[];w[l].push({\\'gtm.start\\':\\r\\nnew Date().getTime(),event:\\'gtm.js\\'});var f=d.getElementsByTagName(s)[0],\\r\\nj=d.createElement(s),dl=l!=\\'dataLayer\\'?\\'&l=\\'+l:\\'\\';j.async=true;j.src=\\r\\n\\'https://www.googletagmanager.com/gtm.js?id=\\'+i+dl;f.parentNode.insertBefore(j,f);\\r\\n})(window,document,\\'script\\',\\'dataLayer\\',\\'GTM-NW3NX7N\\');</script>\\n\\n\\n<script type=\"f44108f06d6a151ef090e515-text/javascript\">\\r\\n    (function(h,o,t,j,a,r){\\r\\n        h.hj=h.hj||function(){(h.hj.q=h.hj.q||[]).push(arguments)};\\r\\n        h._hjSettings={hjid:1001447,hjsv:6};\\r\\n        a=o.getElementsByTagName(\\'head\\')[0];\\r\\n        r=o.createElement(\\'script\\');r.async=1;\\r\\n        r.src=t+h._hjSettings.hjid+j+h._hjSettings.hjsv;\\r\\n        a.appendChild(r);\\r\\n    })(window,document,\\'https://static.hotjar.com/c/hotjar-\\',\\'.js?sv=\\');\\r\\n</script>\\n<style>\\n      .ser-fur-btns .selection input[type=checkbox]:checked~label {\\n        background-color: #330066;\\n        color: #ffffff;\\n        font-size: 19px;\\n        font-weight: 500;\\n      }\\n\\n      .ser-fur-btns .selection input[type=checkbox] {\\n        display: none;\\n      }\\n\\n      .ser-fur-btns .selection {\\n        margin-bottom: 15px;\\n      }\\n\\n      .ser-fur-btns .selection label {\\n        display: inline-block;\\n        background-color: #fff;\\n        height: 38px;\\n        line-height: 38px;\\n        color: #ffffff;\\n        width: 100%;\\n        margin: 0;\\n        cursor: pointer;\\n        color: #585858;\\n        font-size: 16px;\\n        font-weight: 500;\\n        border: 1px solid #306;\\n        text-align: center;\\n      }\\n  </style>\\n</head>\\n<body>\\n\\n<div class=\"spinner-area\" id=\"preloader\">\\n<div class=\"spinner\"></div>\\n</div>\\n\\n\\n<noscript>\\n   <iframe src=\"https://www.googletagmanager.com/ns.html?id=GTM-KC8QTTS\" height=\"0\" width=\"0\" style=\"display:none;visibility:hidden\"></iframe>\\n  </noscript>\\n\\n\\n<noscript>\\n   <iframe src=\"https://www.googletagmanager.com/ns.html?id=GTM-NW3NX7N\" height=\"0\" width=\"0\" style=\"display:none;visibility:hidden\"></iframe>\\n  </noscript>\\n\\n<div id=\"ajaxWait\">\\n<div class=\"progress\">\\n<div id=\"progressBar\" class=\"progress-bar progress-bar-striped progress-bar-danger active\" role=\"progressbar\" aria-valuenow=\"100\" aria-valuemin=\"0\" aria-valuemax=\"100\" style=\"width: 100%\">\\nPlease Wait....\\n</div>\\n</div>\\n</div>\\n<nav class=\"desk-nav light-bg\" id=\"nav\">\\n<div class=\"container container-\">\\n<div class=\"row\">\\n<div class=\"col-12\">\\n\\n<div id=\"brand\">\\n<a href=\"/\"> <img src=\"/assets/assets/img/home/15b021aacebfb607b0032708293cb00f-logo.svg\" alt=\"logo\" /> </a>\\n</div>\\n\\n<div class=\"nex-menu\">\\n<ul class=\"navbar-menu\">\\n<li><a class=\"onepage\" href=\"/property-for-sale\">For Sale</a></li>\\n<li><a class=\"onepage\" href=\"/property-for-rent\">For Rent</a></li>\\n<li><a class=\"onepage\" href=\"/property-for-shortlet\">Short Let</a></li>\\n<li><a class=\"onepage\" href=\"/agents\">Agents</a></li>\\n<li><a class=\"onepage\" href=\"https://www.propertypro.ng/blog\">Blog</a></li>\\n<li><a class=\"post-free white-menu\" href=\"/property-post\">Post A Property <span>Free</span></a></li>\\n<li><a class=\"login white-menu\" href=\"#\" data-toggle=\"modal\" data-target=\"#loginModal\">Login</a></li>\\n<li><a class=\"sign Up white-menu\" href=\"/register\">Sign Up</a></li>\\n</ul>\\n</div>\\n</div>\\n</div>\\n</div>\\n</nav>\\n\\n<div class=\"modal fade\" id=\"loginModal\" tabindex=\"-1\" role=\"dialog\" aria-labelledby=\"exampleModalLabel\" aria-hidden=\"true\">\\n<div class=\"modal-dialog modal-dialog-centered\" role=\"document\">\\n<div class=\"modal-content\">\\n<div class=\"modal-header border-bottom-0\">\\n<button type=\"button\" class=\"close\" data-dismiss=\"modal\" aria-label=\"Close\"> <span aria-hidden=\"true\">Close</span> </button>\\n</div>\\n<div class=\"modal-body  sign-up-form\">\\n<div class=\"form-title sign-up-form-title text-center\">\\n<h4>Sign in</h4>\\n</div>\\n<div class=\"d-flex flex-column text-center sign-form\">\\n<form method=\"post\" action=\"/login\">\\n<div class=\"form-group mrb-45\">\\n<input name=\"email\" type=\"email\" class=\"form-control\" id=\"email1\" placeholder=\"Enter your email\" />\\n</div>\\n<div class=\"form-group\">\\n<input name=\"password\" type=\"password\" class=\"form-control\" id=\"password1\" placeholder=\"Enter your password\" />\\n</div>\\n<div class=\"forget-pass\">\\n<a href=\"/reset-password\">Forgot Password?</a>\\n</div>\\n<button type=\"submit\" class=\"btn-block btn-round\">Login</button>\\n\\n</form>\\n</div>\\n</div>\\n<div class=\"text-center creat-account\">\\n<a href=\"/register\" class=\"reg-yet\">Not registered yet?</a>\\n<a href=\"/register\" class=\"creat-acc\">Create account</a>\\n</div>\\n</div>\\n</div>\\n</div>\\n\\n<div class=\"modal fade\" id=\"myModal\" tabindex=\"-1\" role=\"dialog\" aria-labelledby=\"myModalLabel\" aria-hidden=\"true\">\\n<div class=\"modal-dialog\" role=\"document\">\\n<div class=\"modal-content\">\\n<div class=\"modal-body register-modal-form sign-up-form\">\\n<div class=\"form-title sign-up-form-title register-modal-form-title\">\\n<h4>Register</h4>\\n</div>\\n<button type=\"button\" class=\"close signup-close\" data-dismiss=\"modal\" aria-label=\"Close\"><span aria-hidden=\"true\">x</span></button>\\n<div class=\"d-flex flex-column text-center register-modal sign-form\">\\n<form>\\n<div class=\"form-group mrb-45\">\\n<input type=\"text\" class=\"form-control\" id=\"name\" placeholder=\"Enter name\" />\\n</div>\\n<div class=\"form-group mrb-45\">\\n<input type=\"email\" class=\"form-control\" id=\"email1\" placeholder=\"Enter email address\" />\\n</div>\\n<div class=\"form-group mrb-45\">\\n<input type=\"text\" class=\"form-control\" id=\"phone\" placeholder=\"Enter phone number\" />\\n</div>\\n<div class=\"form-group  mrb-45\">\\n<input type=\"password\" class=\"form-control\" id=\"password1\" placeholder=\"Enter password\" />\\n</div>\\n<div class=\"form-group  mrb-45\">\\n<input type=\"password\" class=\"form-control\" id=\"password2\" placeholder=\"Confirm password\" />\\n</div>\\n<div class=\"register-check-btn\">\\n<div class=\"register-radio  justify-block\">\\n<div class=\"selection\">\\n<input id=\"radio1\" name=\"agent\" type=\"radio\" />\\n<label for=\"radio1\">Agent</label>\\n</div>\\n<div class=\"selection\">\\n<input id=\"radio23\" name=\"developer\" type=\"radio\" />\\n<label for=\"radio23\">Developer</label>\\n</div>\\n<div class=\"selection\">\\n<input id=\"radio3\" name=\"landlord\" type=\"radio\" />\\n<label for=\"radio3\">Landlord</label>\\n</div>\\n<div class=\"selection\">\\n<input id=\"radio4\" name=\"user\" type=\"radio\" />\\n<label for=\"radio4\">User</label>\\n</div>\\n</div>\\n</div>\\n<div class=\"terms-text\">\\n<a href=\"#\">By clicking create account you confirm that you to our website <span>Terms of use</span></a>\\n</div>\\n<button type=\"button\" class=\"btn-block btn-round\">Create account</button>\\n</form>\\n</div>\\n</div>\\n<div class=\"text-center creat-account\">\\n<a href=\"#\" class=\"reg-yet\">Already registered?</a>\\n<a href=\"#\" class=\"creat-acc\">Sign in</a>\\n</div>\\n</div>\\n</div>\\n</div>\\n\\n<div class=\"share-modal\">\\n<div class=\"modal fade\" id=\"shareModal\" tabindex=\"-1\" role=\"dialog\" aria-labelledby=\"myModalLabel\" aria-hidden=\"true\">\\n<div class=\"modal-dialog\" role=\"document\">\\n<div class=\"modal-content\">\\n\\n<div class=\"modal-header\">\\n<span>Share on</span>\\n<button type=\"button\" class=\"close\" data-dismiss=\"modal\" aria-label=\"Close\"><span aria-hidden=\"true\">x</span></button>\\n</div>\\n<div class=\"modal-body\">\\n<div class=\"share-links share-centered\">\\n<a href=\"#\" rel=\"external\" target=\"_blank\" class=\"facebook-share-btn large-share-button\"><span class=\"fa fa-facebook\"></span> <span class=\"social-text\">Facebook</span></a>\\n<a href=\"#\" rel=\"external\" target=\"_blank\" class=\"twitter-share-btn large-share-button\"><span class=\"fa fa-twitter\"></span> <span class=\"social-text\">Twitter</span></a>\\n<a href=\"#\" rel=\"external\" target=\"_blank\" class=\"linkedin-share-btn\"><span class=\"fa fa-linkedin\"></span> <span class=\"screen-reader-text\">LinkedIn</span></a>\\n<a href=\"#\" rel=\"external\" target=\"_blank\" class=\"pinterest-share-btn\"><span class=\"fa fa-pinterest\"></span> <span class=\"screen-reader-text\">Pinterest</span></a>\\n<a href=\"#\" rel=\"external\" target=\"_blank\" class=\"whatsapp-share-btn\"><span class=\"fa fa-whatsapp\"></span> <span class=\"screen-reader-text\">WhatsApp</span></a>\\n<a href=\"#\" rel=\"external\" target=\"_blank\" class=\"email-share-btn\"><span class=\"fa fa-envelope\"></span> <span class=\"screen-reader-text\">Share via Email</span></a>\\n</div>\\n</div>\\n</div>\\n</div>\\n</div>\\n</div>\\n<div class=\"gray-bg\">\\n\\n\\n<div class=\"sticky-anchor\"></div>\\n<div class=\"sticky result-page-style\">\\n<div class=\"refine-area\">\\n<div class=\"container\">\\n<div class=\"row\">\\n<div class=\"col-12\">\\n<div class=\"refine-inner-area\">\\n<div class=\"refine-form\">\\n<form action=\"/property-search.htm\" method=\"get\">\\n<div class=\"form-group\">\\n<input name=\"search\" value=\"lagos\" type=\"text\" autocomplete=\"off\" class=\"form-control searchInput\" placeholder=\"Search\" />\\n</div>\\n<div class=\"single-service-select\">\\n<select class=\"classic\" name=\"category\"> <option value=\"sale\" selected=\"\">Sale</option> <option value=\"rent\">Rent</option> <option value=\"shortlet\">Short let</option> </select>\\n</div>\\n<div class=\"single-service-select\">\\n<select class=\"classic\" name=\"type\"> <option value=\"\">Type</option> <option value=\"commercial-property/shop\">Shop</option> <option value=\"commercial-property/office-space\">Office Spaces</option> <option value=\"flat-apartment\">Flats and Apartments</option> <option value=\"land\">Lands</option> <option value=\"house/semi-detached-bungalow\">Semi Detached Bungalow</option> <option value=\"house/semi-detached-duplex\">Semi Detached Duplex</option> <option value=\"co-working-space\">Co-working Space</option> <option value=\"house/detached-bungalow\">Detached Bungalow</option> <option value=\"commercial-property/warehouse\">Warehouse</option> <option value=\"commercial-property/shop-in-a-mall\">Shop In A Mall</option> <option value=\"flat-apartment/self-contain\">Self Contain</option> <option value=\"flat-apartment/mini-flat\">Mini Flats</option> <option value=\"house/detached-duplex\">Detached Duplex</option> <option value=\"house\" selected=\"\">Houses</option> <option value=\"house/terraced-bungalow\">Terraced Bungalow</option> <option value=\"commercial-property\">Commercial Properties</option> <option value=\"house/terraced-duplex\">Terraced Duplex</option> </select>\\n</div>\\n<div class=\"single-service-select\">\\n<select class=\"classic\" name=\"bedroom\"> <option value=\"\">beds</option> <option value=\"1\">1</option> <option value=\"2\">2</option> <option value=\"3\">3</option> <option value=\"4\">4</option> <option value=\"5\">5</option> <option value=\"6\">6</option> <option value=\"7\">7</option> <option value=\"8\">8</option> <option value=\"9\">9</option> <option value=\"10\">10</option> </select>\\n</div>\\n<div class=\"single-service-select\">\\n<select class=\"classic\" name=\"min_price\"> <option value=\"\">Min price</option> <option value=\"50000\">50,000</option> <option value=\"100000\">100,000</option> <option value=\"200000\">200,000</option> <option value=\"300000\">300,000</option> <option value=\"400000\">400,000</option> <option value=\"500000\">500,000</option> <option value=\"600000\">600,000</option> <option value=\"700000\">700,000</option> <option value=\"800000\">800,000</option> <option value=\"900000\">900,000</option> <option value=\"1000000\">1million</option> <option value=\"2000000\">2million</option> <option value=\"3000000\">3million</option> <option value=\"5000000\">5million</option> <option value=\"10000000\">10million</option> <option value=\"20000000\">20million</option> <option value=\"30000000\">30million</option> <option value=\"40000000\">40million</option> <option value=\"50000000\">50million</option> <option value=\"100000000\">100million</option> </select>\\n</div>\\n<div class=\"single-service-select\">\\n<select class=\"classic\" name=\"max_price\"> <option value=\"\">Max price</option> <option value=\"500000\">500,000</option> <option value=\"600000\">600,000</option> <option value=\"700000\">700,000</option> <option value=\"800000\">800,000</option> <option value=\"900000\">900,000</option> <option value=\"1000000\">1million</option> <option value=\"2000000\">2million</option> <option value=\"3000000\">3million</option> <option value=\"5000000\">5million</option> <option value=\"10000000\">10million</option> <option value=\"20000000\">20million</option> <option value=\"30000000\">30million</option> <option value=\"40000000\">40million</option> <option value=\"50000000\">50million</option> <option value=\"100000000\">100million</option> <option value=\"200000000\">200million</option> <option value=\"300000000\">300million</option> <option value=\"500000000\">500million</option> <option value=\"1000000000\">1billion</option> <option value=\"2000000000\">2billion</option> <option value=\"5000000000\">5billion</option> <option value=\"10000000000\">10billion</option> </select>\\n</div>\\n<div class=\"refine-btn \">\\n<button type=\"submit\">Refine</button>\\n</div>\\n</form>\\n</div>\\n</div>\\n</div>\\n</div>\\n</div>\\n</div>\\n</div>\\n\\n<div class=\"property-sale-area\">\\n<div class=\"container\">\\n<div class=\"row\">\\n<div class=\"col-12\">\\n<div aria-label=\"breadcrumb\" class=\"property-sale-menu\">\\n<ol class=\"breadcrumb\" itemscope=\"\" itemtype=\"http://schema.org/BreadcrumbList\">\\n<li class=\"breadcrumb-item\"> <a alt=\"Real Estate and Property in Nigeria for Sale and Rent\" href=\"/\"> <small itemprop=\"name\">Home</small> </a> </li>\\n<li class=\"breadcrumb-item\" itemprop=\"itemListElement\" itemscope=\"\" itemtype=\"http://schema.org/ListItem\"> <a alt=\"House for sale\" itemtype=\"http://schema.org/Thing\" itemprop=\"item\" href=\"/property-for-sale/house\"> <small itemprop=\"name\">House for sale</small> </a>\\n<meta itemprop=\"position\" content=\"1\" /> </li>\\n</ol>\\n</div>\\n<div class=\"property-sale-title\">\\n<h1 class=\"listings-title\"> House for sale in Nigeria (lagos) </h1>\\n</div>\\n</div>\\n</div>\\n<div class=\"row\">\\n<div class=\"col-xl-8\">\\n<div class=\"property-left-sidebar\">\\n<div class=\"property-sale-top-text\">\\n<p> We have a total of <strong>29,402</strong> House for sale in Nigeria updated on 03 Dec 2020 . Among these properties are houses, lands, shops, apartments, flats and commercial spaces . Every Real Estate in Nigeria posted on this site is verified by real estate agents . We also have cheap houses for rent and cheap houses for sale . Refine your property search by price, number of beds and type of property </p>\\n</div>\\n<div class=\"property-items-name \">\\n<ul class=\"extra-listings\">\\n<li> <a href=\"/property-for-sale/property-for-sale/house/?search=lagos&amp;bedroom=&amp;min_price=&amp;max_price=\"> (lagos) house for sale for sale </a> </li>\\n</ul>\\n<ul class=\"extra-listings\">\\n<li> <a href=\"/property-for-sale/house/1-bedroom?search=lagos&amp;min_price=&amp;max_price=\">1 Bedroom</a> <span>|</span> </li>\\n<li> <a href=\"/property-for-sale/house/2-bedroom?search=lagos&amp;min_price=&amp;max_price=\">2 Bedroom</a> <span>|</span> </li>\\n<li> <a href=\"/property-for-sale/house/3-bedroom?search=lagos&amp;min_price=&amp;max_price=\">3 Bedroom</a> <span>|</span> </li>\\n<li> <a href=\"/property-for-sale/house/4-bedroom?search=lagos&amp;min_price=&amp;max_price=\">4 Bedroom</a> <span>|</span> </li>\\n<li> <a href=\"/property-for-sale/house/5-bedroom?search=lagos&amp;min_price=&amp;max_price=\">5 Bedroom</a> <span>|</span> </li>\\n<li> <a href=\"/property-for-sale/house/6-bedroom?search=lagos&amp;min_price=&amp;max_price=\">6 Bedroom</a> <span>|</span> </li>\\n</ul>\\n<ul class=\"extra-listings\">\\n<li> <a href=\"/property-for-sale/co-working-space?search=lagos&amp;bedroom=&amp;min_price=&amp;max_price=\">Co Working Space</a> <span>|</span> </li>\\n<li> <a href=\"/property-for-sale/commercial-property?search=lagos&amp;bedroom=&amp;min_price=&amp;max_price=\">Commercial Property</a> <span>|</span> </li>\\n<li> <a href=\"/property-for-sale/flat-apartment?search=lagos&amp;bedroom=&amp;min_price=&amp;max_price=\">Flats/ Apartments</a> <span>|</span> </li>\\n<li> <a href=\"/property-for-sale/house?search=lagos&amp;bedroom=&amp;min_price=&amp;max_price=\">House</a> <span>|</span> </li>\\n</ul>\\n<ul class=\"extra-listings\">\\n<li> <a href=\"/property-for-sale/house/blocks-of-flats?search=lagos&amp;bedroom=&amp;min_price=&amp;max_price=\">Blocks Of Flats</a> <span>|</span> </li>\\n<li> <a href=\"/property-for-sale/house/detached-bungalow?search=lagos&amp;bedroom=&amp;min_price=&amp;max_price=\">Detached Bungalow</a> <span>|</span> </li>\\n<li> <a href=\"/property-for-sale/house/detached-duplex?search=lagos&amp;bedroom=&amp;min_price=&amp;max_price=\">Detached Duplex</a> <span>|</span> </li>\\n<li> <a href=\"/property-for-sale/house/massionette?search=lagos&amp;bedroom=&amp;min_price=&amp;max_price=\">Massionette</a> <span>|</span> </li>\\n<li> <a href=\"/property-for-sale/house/semi-detached-bungalow?search=lagos&amp;bedroom=&amp;min_price=&amp;max_price=\">Semi Detached Bungalow</a> <span>|</span> </li>\\n<li> <a href=\"/property-for-sale/house/semi-detached-duplex?search=lagos&amp;bedroom=&amp;min_price=&amp;max_price=\">Semi Detached Duplex</a> <span>|</span> </li>\\n<li> <a href=\"/property-for-sale/house/terraced-bungalow?search=lagos&amp;bedroom=&amp;min_price=&amp;max_price=\">Terraced Bungalow</a> <span>|</span> </li>\\n<li> <a href=\"/property-for-sale/house/terraced-duplex?search=lagos&amp;bedroom=&amp;min_price=&amp;max_price=\">Terraced Duplex</a> </li>\\n</ul>\\n<ul class=\"extra-listings\">\\n<li> <a href=\"/property-for-sale/house/in/abuja?search=lagos&amp;bedroom=&amp;min_price=&amp;max_price=\">Abuja</a> <span>|</span> </li>\\n<li> <a href=\"/property-for-sale/house/in/edo?search=lagos&amp;bedroom=&amp;min_price=&amp;max_price=\">Edo</a> <span>|</span> </li>\\n<li> <a href=\"/property-for-sale/house/in/lagos?search=lagos&amp;bedroom=&amp;min_price=&amp;max_price=\">Lagos</a> <span>|</span> </li>\\n<li> <a href=\"/property-for-sale/house/in/ogun?search=lagos&amp;bedroom=&amp;min_price=&amp;max_price=\">Ogun</a> <span>|</span> </li>\\n<li> <a href=\"/property-for-sale/house/in/oyo?search=lagos&amp;bedroom=&amp;min_price=&amp;max_price=\">Oyo</a> </li>\\n</ul>\\n\\n</div>\\n<div class=\"mobile-refine-search\">\\n<a href=\"#\">Refine Search</a>\\n</div>\\n<div class=\"text-center\">\\n<a rel=\"nofollow\" class=\"text-center\" href=\"https://bit.ly/2UvG6zz\" target=\"_blank\"><img class=\"img-fluid\" src=\"data:image/png;base64,R0lGODlhAQABAAD/ACwAAAAAAQABAAACADs=\" data-src=\"https://toletstatic.s3-us-west-2.amazonaws.com/Propertymart-LB.jpg\" /> </a>\\n</div>\\n<br />\\n<div class=\"property-sale-number \">\\n<div class=\"property-number-left\">\\n<h3>Result 1 - 20 of <strong>29402</strong></h3>\\n</div>\\n<div class=\"property-default-option\">\\n<div class=\"single-request-dropdown\">\\n<div class=\"dropdown default-option\">\\n<div class=\"caption\">\\nSort By\\n</div>\\n<div class=\"list\">\\n<div class=\"item\">\\n<a href=\"/property-for-sale/house/?search=lagos&amp;bedroom=&amp;min_price=&amp;max_price=&amp;sort=postedOn&amp;order=desc\">Most Recent</a>\\n</div>\\n<div class=\"item\">\\n<a href=\"/property-for-sale/house/?search=lagos&amp;bedroom=&amp;min_price=&amp;max_price=&amp;sort=amount&amp;order=asc\">Lowest Price</a>\\n</div>\\n<div class=\"item\">\\n<a href=\"/property-for-sale/house/?search=lagos&amp;bedroom=&amp;min_price=&amp;max_price=&amp;sort=amount&amp;order=desc\">Highest Price</a>\\n</div>\\n<div class=\"item\">\\n<a href=\"/property-for-sale/house/?search=lagos&amp;bedroom=&amp;min_price=&amp;max_price=&amp;sort=beds&amp;order=desc\">Beds</a>\\n</div>\\n</div>\\n</div>\\n</div>\\n</div>\\n</div>\\n<div class=\"room-sale-area\">\\n<div class=\"single-room-sale listings-property sponsored-listing\">\\n<div class=\"single-room-img\">\\n<a href=\"/property/6-bedroom-detached-duplex-house-for-sale-mojisola-onikoyi-estate-ikoyi-lagos-6DYKY\" class=\"single-room-img-a\"> <img src=\"https://images.propertypro.ng/medium/XUWQ1-5-bedrooms-modern-duplex-with-retrofitted-home-elevator-with-a-maidx27s-room-available-for-sale-off-banana-island-road-dLJfEpR8CR3yZqwhxDh5.jpg\" title=\"6 bedroom Detached Duplex House for sale ... Mojisola Onikoyi Estate Ikoyi Lagos\" alt=\"6 bedroom Detached Duplex House for sale ... Mojisola Onikoyi Estate Ikoyi Lagos\" class=\"listings-img\" /> </a>\\n<div class=\"save-heart\">\\n<a href=\"/profile/add-favorite/549448\"><i class=\"fa fa-heart\"></i></a>\\n</div>\\n<div class=\"room-icons\">\\n<span><span>22</span> <img src=\"/assets/assets/img/property/2f8b655773948c43f77e8c928e94bbe3-img.png\" alt=\"icon\" /> </span>\\n</div>\\n</div>\\n<div class=\"single-room-text\">\\n<a href=\"/property/6-bedroom-detached-duplex-house-for-sale-mojisola-onikoyi-estate-ikoyi-lagos-6DYKY\"> <h2 class=\"listings-property-title\">6 BEDROOM DETACHED DUPLEX HOUSE FOR SALE</h2> </a>\\n<h4><img src=\"/assets/assets/img/resultpage/a6b70a0c1c4423f60780bdda189b91e3-location.svg\" alt=\"icon\" title=\"icon\" />... Mojisola Onikoyi Estate Ikoyi Lagos</h4>\\n<h3 class=\"listings-property-title2\">5 bedrooms modern duplex </h3>\\n<div class=\"n50 \">\\n<h3 itemscope=\"\" itemtype=\"http://schema.org/Offer\"> <span itemprop=\"priceCurrency\" content=\"NGN\">₦</span> <span itemprop=\"price\" content=\"310,000,000\">310,000,000</span> </h3>\\n<h4>Sponsored</h4>\\n</div>\\n<h5> <img src=\"/assets/assets/img/resultpage/03a0a19c8a1e23ef8d78f6130eb0aa22-watch-icon.png\" alt=\"icon\" title=\"icon\" /> Updated 03 Dec 2020, Added 16 Oct 2020 </h5>\\n<h2>PID: 6DYKY</h2>\\n<div class=\"furnished-btn\">\\n<a href=\"/property-for-sale/is-new\">Newly Built</a>\\n<a href=\"/property-for-sale/is-serviced\">Serviced</a>\\n</div>\\n<div class=\"result-list-details\">\\n<p class=\"d-none d-sm-block\"> FOR SALE: A beautiful 5 bedrooms modern duplex is available for sale in Ikoyi. This detach.. <a href=\"/property/6-bedroom-detached-duplex-house-for-sale-mojisola-onikoyi-estate-ikoyi-lagos-6DYKY\">Read more</a></p>\\n</div>\\n<div class=\"fur-areea\">\\n<span><img src=\"/assets/assets/img/resultpage/71e561d192ed8abb553ba6448816466d-beds.svg\" alt=\"bed-icon\" title=\"bed-icon\" />6 beds</span>\\n<span><img src=\"/assets/assets/img/resultpage/3945e8adbd5fbe44046a606d2dacd7ca-bath.svg\" alt=\"bath-icon\" title=\"bath-icon\" />6 baths</span>\\n<span><img src=\"/assets/assets/img/resultpage/0a8c8b34dbdfcc7b9d5eaeca83e87ebf-toilet.svg\" alt=\"toilet-icon\" title=\"toilet-icon\" />7 Toilets</span>\\n</div>\\n<div class=\"elite-icon\">\\n<a href=\"/agent/adedoyin-rosaline-amangbo\"><img src=\"https://images.propertypro.ng/logo/6d6ZHuECiCYzKbgddfIW.jpg\" alt=\"agent-icon\" title=\"agent-icon\" /></a>\\n</div>\\n</div>\\n</div>\\n\\n<div class=\"single-room-sale listings-property\">\\n<div class=\"single-room-img\">\\n<a href=\"/property/1-bedroom-mini-flat-blocks-of-flats-house-for-sale-after-ikate-elegushi-opposite-nicon-town-behind-romey-gardens-lekki-phase-1-lekki-phase-1-lekki-lagos-5EBTL\" class=\"single-room-img-a\"> <img src=\"https://images.propertypro.ng/medium/invest-in-a-newly-built-luxury-1-bedroom-studio-apartment-with-zero-interest-payment-plan-vPuqeHp6v3IOtCU7OF2H.jpg\" title=\"1 bedroom mini flat  Blocks of Flats House for sale After Ikate Elegushi, Opposite Nicon Town, Behind Romey Gardens, Lekki Phase 1 Lekki Phase 1 Lekki Lagos\" alt=\"1 bedroom mini flat  Blocks of Flats House for sale After Ikate Elegushi, Opposite Nicon Town, Behind Romey Gardens, Lekki Phase 1 Lekki Phase 1 Lekki Lagos\" class=\"listings-img\" /> </a>\\n<div class=\"save-heart\">\\n<a href=\"/profile/add-favorite/568520\"><i class=\"fa fa-heart\"></i></a>\\n</div>\\n<div class=\"room-icons\">\\n<span><span>19</span> <img src=\"/assets/assets/img/property/2f8b655773948c43f77e8c928e94bbe3-img.png\" alt=\"icon\" /> </span>\\n</div>\\n\\n</div>\\n<div class=\"single-room-text\">\\n<a href=\"/property/1-bedroom-mini-flat-blocks-of-flats-house-for-sale-after-ikate-elegushi-opposite-nicon-town-behind-romey-gardens-lekki-phase-1-lekki-phase-1-lekki-lagos-5EBTL\"> <h2 class=\"listings-property-title\">1 BEDROOM MINI FLAT BLOCKS OF FLATS HOUSE FOR SALE</h2> </a>\\n<h4><img src=\"/assets/assets/img/resultpage/a6b70a0c1c4423f60780bdda189b91e3-location.svg\" alt=\"icon\" title=\"icon\" />After Ikate Elegushi, Opposite Nicon Town, Behind Romey Gardens, Lekki Phase 1Lekki Phase 1 Lekki Lagos</h4>\\n<h3 class=\"listings-property-title2\">Invest In A Newly Built Luxury 1 Bedroom Studio Apartment With Zero Interest Payment Plan</h3>\\n<div class=\"n50 featured-text\">\\n<h3 itemscope=\"\" itemtype=\"http://schema.org/Offer\" class=\"listings-price\"> <span itemprop=\"priceCurrency\" content=\"NGN\">₦</span> <span itemprop=\"price\" content=\"2.5E7\">25,000,000</span> </h3>\\n<h4>Premium Gold</h4>\\n</div>\\n<h5> <img src=\"/assets/assets/img/resultpage/03a0a19c8a1e23ef8d78f6130eb0aa22-watch-icon.png\" alt=\"icon\" title=\"icon\" /> Updated 03 Dec 2020, Added 02 Dec 2020 </h5>\\n<h2>PID: 5EBTL</h2>\\n<div class=\"furnished-btn\">\\n<a href=\"/property-for-sale/is-furnished\">Furnished</a>\\n<a href=\"/property-for-sale/is-serviced\">Serviced</a>\\n<a href=\"/property-for-sale/is-new\">Newly Built</a>\\n</div>\\n<div class=\"result-list-details\">\\n<p class=\"d-none d-sm-block\"> FOR SALE: MIJL RESIDENCES AND VILLAS Selling at Lekki Now MIJL RESIDENCES And VILLAS is.. <a href=\"/property/1-bedroom-mini-flat-blocks-of-flats-house-for-sale-after-ikate-elegushi-opposite-nicon-town-behind-romey-gardens-lekki-phase-1-lekki-phase-1-lekki-lagos-5EBTL\">Read more</a> </p>\\n</div>\\n<div class=\"fur-areea\">\\n<span><img src=\"/assets/assets/img/resultpage/71e561d192ed8abb553ba6448816466d-beds.svg\" alt=\"bed-icon\" title=\"bed-icon\" />1 beds</span>\\n<span><img src=\"/assets/assets/img/resultpage/3945e8adbd5fbe44046a606d2dacd7ca-bath.svg\" alt=\"bath-icon\" title=\"bath-icon\" />1 baths</span>\\n<span><img src=\"/assets/assets/img/resultpage/0a8c8b34dbdfcc7b9d5eaeca83e87ebf-toilet.svg\" alt=\"toilet-icon\" title=\"toilet-icon\" />2 Toilets</span>\\n</div>\\n<div class=\"elite-icon\">\\n<a href=\"/agent/horlanhomes\"><img src=\"https://images.propertypro.ng/logo/ARrL6QhJY4BmXtRNoGJl.png\" alt=\"agent-icon\" title=\"agent-icon\" /></a>\\n</div>\\n</div>\\n</div>\\n\\n<div class=\"single-room-sale listings-property\">\\n<div class=\"single-room-img\">\\n<a href=\"/property/4-bedroom-terraced-duplex-house-for-sale-after-ikate-elegushi-opposite-nicon-town-behind-romey-gardens-lekki-phase-1-lekki-phase-1-lekki-lagos-6EBTL\" class=\"single-room-img-a\"> <img src=\"https://images.propertypro.ng/medium/live-in-a-luxury-newly-built-secured-4-bedroom-executive-terrace-duplex-in-lekki-phase-1-KwwijVZ4rOAPVPsQVIzw.jpg\" title=\"4 bedroom Terraced Duplex House for sale After Ikate Elegushi, Opposite Nicon Town, Behind Romey Gardens, Lekki Phase 1 Lekki Phase 1 Lekki Lagos\" alt=\"4 bedroom Terraced Duplex House for sale After Ikate Elegushi, Opposite Nicon Town, Behind Romey Gardens, Lekki Phase 1 Lekki Phase 1 Lekki Lagos\" class=\"listings-img\" /> </a>\\n<div class=\"save-heart\">\\n<a href=\"/profile/add-favorite/568521\"><i class=\"fa fa-heart\"></i></a>\\n</div>\\n<div class=\"room-icons\">\\n<span><span>7</span> <img src=\"/assets/assets/img/property/2f8b655773948c43f77e8c928e94bbe3-img.png\" alt=\"icon\" /> </span>\\n</div>\\n\\n</div>\\n<div class=\"single-room-text\">\\n<a href=\"/property/4-bedroom-terraced-duplex-house-for-sale-after-ikate-elegushi-opposite-nicon-town-behind-romey-gardens-lekki-phase-1-lekki-phase-1-lekki-lagos-6EBTL\"> <h2 class=\"listings-property-title\">4 BEDROOM TERRACED DUPLEX HOUSE FOR SALE</h2> </a>\\n<h4><img src=\"/assets/assets/img/resultpage/a6b70a0c1c4423f60780bdda189b91e3-location.svg\" alt=\"icon\" title=\"icon\" />After Ikate Elegushi, Opposite Nicon Town, Behind Romey Gardens, Lekki Phase 1Lekki Phase 1 Lekki Lagos</h4>\\n<h3 class=\"listings-property-title2\"> Luxury Newly Built Secured 4 Bedroom Executive Terrace Duplex </h3>\\n<div class=\"n50 featured-text\">\\n<h3 itemscope=\"\" itemtype=\"http://schema.org/Offer\" class=\"listings-price\"> <span itemprop=\"priceCurrency\" content=\"NGN\">₦</span> <span itemprop=\"price\" content=\"5.5E7\">55,000,000</span> </h3>\\n<h4>Premium Gold</h4>\\n</div>\\n<h5> <img src=\"/assets/assets/img/resultpage/03a0a19c8a1e23ef8d78f6130eb0aa22-watch-icon.png\" alt=\"icon\" title=\"icon\" /> Updated 03 Dec 2020, Added 02 Dec 2020 </h5>\\n<h2>PID: 6EBTL</h2>\\n<div class=\"furnished-btn\">\\n<a href=\"/property-for-sale/is-furnished\">Furnished</a>\\n<a href=\"/property-for-sale/is-serviced\">Serviced</a>\\n<a href=\"/property-for-sale/is-new\">Newly Built</a>\\n</div>\\n<div class=\"result-list-details\">\\n<p class=\"d-none d-sm-block\"> FOR SALE: MIJL RESIDENCES AND VILLAS Selling at Lekki Now MIJL RESIDENCES And VILLAS is.. <a href=\"/property/4-bedroom-terraced-duplex-house-for-sale-after-ikate-elegushi-opposite-nicon-town-behind-romey-gardens-lekki-phase-1-lekki-phase-1-lekki-lagos-6EBTL\">Read more</a> </p>\\n</div>\\n<div class=\"fur-areea\">\\n<span><img src=\"/assets/assets/img/resultpage/71e561d192ed8abb553ba6448816466d-beds.svg\" alt=\"bed-icon\" title=\"bed-icon\" />4 beds</span>\\n<span><img src=\"/assets/assets/img/resultpage/3945e8adbd5fbe44046a606d2dacd7ca-bath.svg\" alt=\"bath-icon\" title=\"bath-icon\" />4 baths</span>\\n<span><img src=\"/assets/assets/img/resultpage/0a8c8b34dbdfcc7b9d5eaeca83e87ebf-toilet.svg\" alt=\"toilet-icon\" title=\"toilet-icon\" />5 Toilets</span>\\n</div>\\n<div class=\"elite-icon\">\\n<a href=\"/agent/horlanhomes\"><img src=\"https://images.propertypro.ng/logo/ARrL6QhJY4BmXtRNoGJl.png\" alt=\"agent-icon\" title=\"agent-icon\" /></a>\\n</div>\\n</div>\\n</div>\\n\\n<div class=\"single-room-sale listings-property\">\\n<div class=\"single-room-img\">\\n<a href=\"/property/4-bedroom-terraced-duplex-house-for-sale-after-the-2nd-toll-gate-at-chevron-ikota-lekki-lekki-phase-2-lekki-lagos-6EBTQ\" class=\"single-room-img-a\"> <img src=\"https://images.propertypro.ng/medium/enjoy-great-lifestyle-in-a-newly-quality-designed-terrace-duplex-with-great-ambience-Dc3bmpwxA7FM0GPUAoIO.jpg\" title=\"4 bedroom Terraced Duplex House for sale After the 2nd Toll gate at Chevron, Ikota, Lekki Lekki Phase 2 Lekki Lagos\" alt=\"4 bedroom Terraced Duplex House for sale After the 2nd Toll gate at Chevron, Ikota, Lekki Lekki Phase 2 Lekki Lagos\" class=\"listings-img\" /> </a>\\n<div class=\"save-heart\">\\n<a href=\"/profile/add-favorite/568561\"><i class=\"fa fa-heart\"></i></a>\\n</div>\\n<div class=\"room-icons\">\\n<span><span>13</span> <img src=\"/assets/assets/img/property/2f8b655773948c43f77e8c928e94bbe3-img.png\" alt=\"icon\" /> </span>\\n</div>\\n\\n</div>\\n<div class=\"single-room-text\">\\n<a href=\"/property/4-bedroom-terraced-duplex-house-for-sale-after-the-2nd-toll-gate-at-chevron-ikota-lekki-lekki-phase-2-lekki-lagos-6EBTQ\"> <h2 class=\"listings-property-title\">4 BEDROOM TERRACED DUPLEX HOUSE FOR SALE</h2> </a>\\n<h4><img src=\"/assets/assets/img/resultpage/a6b70a0c1c4423f60780bdda189b91e3-location.svg\" alt=\"icon\" title=\"icon\" />After the 2nd Toll gate at Chevron, Ikota, LekkiLekki Phase 2 Lekki Lagos</h4>\\n<h3 class=\"listings-property-title2\">Enjoy Great Lifestyle In A Newly Quality Designed Terrace Duplex With Great Ambience</h3>\\n<div class=\"n50 featured-text\">\\n<h3 itemscope=\"\" itemtype=\"http://schema.org/Offer\" class=\"listings-price\"> <span itemprop=\"priceCurrency\" content=\"NGN\">₦</span> <span itemprop=\"price\" content=\"4.5E7\">45,000,000</span> </h3>\\n<h4>Premium Gold</h4>\\n</div>\\n<h5> <img src=\"/assets/assets/img/resultpage/03a0a19c8a1e23ef8d78f6130eb0aa22-watch-icon.png\" alt=\"icon\" title=\"icon\" /> Updated 03 Dec 2020, Added 02 Dec 2020 </h5>\\n<h2>PID: 6EBTQ</h2>\\n<div class=\"furnished-btn\">\\n<a href=\"/property-for-sale/is-furnished\">Furnished</a>\\n<a href=\"/property-for-sale/is-serviced\">Serviced</a>\\n<a href=\"/property-for-sale/is-new\">Newly Built</a>\\n</div>\\n<div class=\"result-list-details\">\\n<p class=\"d-none d-sm-block\"> FOR SALE: 4 Bedroom Terrace Duplex in Creek Avenue Court Phase 2 Ikota, Lekki. *All roo.. <a href=\"/property/4-bedroom-terraced-duplex-house-for-sale-after-the-2nd-toll-gate-at-chevron-ikota-lekki-lekki-phase-2-lekki-lagos-6EBTQ\">Read more</a> </p>\\n</div>\\n<div class=\"fur-areea\">\\n<span><img src=\"/assets/assets/img/resultpage/71e561d192ed8abb553ba6448816466d-beds.svg\" alt=\"bed-icon\" title=\"bed-icon\" />4 beds</span>\\n<span><img src=\"/assets/assets/img/resultpage/3945e8adbd5fbe44046a606d2dacd7ca-bath.svg\" alt=\"bath-icon\" title=\"bath-icon\" />4 baths</span>\\n<span><img src=\"/assets/assets/img/resultpage/0a8c8b34dbdfcc7b9d5eaeca83e87ebf-toilet.svg\" alt=\"toilet-icon\" title=\"toilet-icon\" />5 Toilets</span>\\n</div>\\n<div class=\"elite-icon\">\\n<a href=\"/agent/horlanhomes\"><img src=\"https://images.propertypro.ng/logo/ARrL6QhJY4BmXtRNoGJl.png\" alt=\"agent-icon\" title=\"agent-icon\" /></a>\\n</div>\\n</div>\\n</div>\\n\\n<div class=\"single-room-sale listings-property\">\\n<div class=\"single-room-img\">\\n<a href=\"/property/2-bedroom-terraced-duplex-house-for-sale-ilasan-behind-romey-gardens-opposite-nicon-townlekkilagos-lekki-phase-1-lekki-lagos-1EBTL\" class=\"single-room-img-a\"> <img src=\"https://images.propertypro.ng/medium/own-a-zero-interest-payment-plan-super-affordable-luxury-2-bedroom-terrace-with-good-estate-facilities-Pv16zamhZJlAtUTghZPz.jpg\" title=\"2 bedroom Terraced Duplex House for sale Ilasan, behind Romey Gardens Opposite NICON Town,Lekki,Lagos. Lekki Phase 1 Lekki Lagos\" alt=\"2 bedroom Terraced Duplex House for sale Ilasan, behind Romey Gardens Opposite NICON Town,Lekki,Lagos. Lekki Phase 1 Lekki Lagos\" class=\"listings-img\" /> </a>\\n<div class=\"save-heart\">\\n<a href=\"/profile/add-favorite/568516\"><i class=\"fa fa-heart\"></i></a>\\n</div>\\n<div class=\"room-icons\">\\n<span><span>18</span> <img src=\"/assets/assets/img/property/2f8b655773948c43f77e8c928e94bbe3-img.png\" alt=\"icon\" /> </span>\\n</div>\\n\\n</div>\\n<div class=\"single-room-text\">\\n<a href=\"/property/2-bedroom-terraced-duplex-house-for-sale-ilasan-behind-romey-gardens-opposite-nicon-townlekkilagos-lekki-phase-1-lekki-lagos-1EBTL\"> <h2 class=\"listings-property-title\">2 BEDROOM TERRACED DUPLEX HOUSE FOR SALE</h2> </a>\\n<h4><img src=\"/assets/assets/img/resultpage/a6b70a0c1c4423f60780bdda189b91e3-location.svg\" alt=\"icon\" title=\"icon\" />Ilasan, behind Romey Gardens Opposite NICON Town,Lekki,Lagos.Lekki Phase 1 Lekki Lagos</h4>\\n<h3 class=\"listings-property-title2\"> Luxury 2 Bedroom Terrace With Good Estate Facilities</h3>\\n<div class=\"n50 featured-text\">\\n<h3 itemscope=\"\" itemtype=\"http://schema.org/Offer\" class=\"listings-price\"> <span itemprop=\"priceCurrency\" content=\"NGN\">₦</span> <span itemprop=\"price\" content=\"3.5E7\">35,000,000</span> </h3>\\n<h4>Premium Gold</h4>\\n</div>\\n<h5> <img src=\"/assets/assets/img/resultpage/03a0a19c8a1e23ef8d78f6130eb0aa22-watch-icon.png\" alt=\"icon\" title=\"icon\" /> Updated 03 Dec 2020, Added 02 Dec 2020 </h5>\\n<h2>PID: 1EBTL</h2>\\n<div class=\"furnished-btn\">\\n<a href=\"/property-for-sale/is-furnished\">Furnished</a>\\n<a href=\"/property-for-sale/is-serviced\">Serviced</a>\\n<a href=\"/property-for-sale/is-new\">Newly Built</a>\\n</div>\\n<div class=\"result-list-details\">\\n<p class=\"d-none d-sm-block\"> FOR SALE: MIJL RESIDENCES AND VILLAS Selling at Lekki Now MIJL RESIDENCES And VILLAS is.. <a href=\"/property/2-bedroom-terraced-duplex-house-for-sale-ilasan-behind-romey-gardens-opposite-nicon-townlekkilagos-lekki-phase-1-lekki-lagos-1EBTL\">Read more</a> </p>\\n</div>\\n<div class=\"fur-areea\">\\n<span><img src=\"/assets/assets/img/resultpage/71e561d192ed8abb553ba6448816466d-beds.svg\" alt=\"bed-icon\" title=\"bed-icon\" />2 beds</span>\\n<span><img src=\"/assets/assets/img/resultpage/3945e8adbd5fbe44046a606d2dacd7ca-bath.svg\" alt=\"bath-icon\" title=\"bath-icon\" />2 baths</span>\\n<span><img src=\"/assets/assets/img/resultpage/0a8c8b34dbdfcc7b9d5eaeca83e87ebf-toilet.svg\" alt=\"toilet-icon\" title=\"toilet-icon\" />3 Toilets</span>\\n</div>\\n<div class=\"elite-icon\">\\n<a href=\"/agent/horlanhomes\"><img src=\"https://images.propertypro.ng/logo/ARrL6QhJY4BmXtRNoGJl.png\" alt=\"agent-icon\" title=\"agent-icon\" /></a>\\n</div>\\n</div>\\n</div>\\n<div class=\"text-center\">\\n<a rel=\"nofollow\" class=\"text-center\" href=\"https://www.propertypro.ng/silverspring/\" target=\"_blank\"><img class=\"img-fluid\" src=\"data:image/png;base64,R0lGODlhAQABAAD/ACwAAAAAAQABAAACADs=\" data-src=\"https://toletstatic.s3-us-west-2.amazonaws.com/silverspring_property_and_result.jpg\" /> </a>\\n</div>\\n<br />\\n\\n<div class=\"single-room-sale listings-property\">\\n<div class=\"single-room-img\">\\n<a href=\"/property/4-bedroom-semi-detached-duplex-house-for-sale-near-oral-estate-chevron-2nd-toll-gate-lekki-lekki-phase-2-lekki-lagos-0EBTN\" class=\"single-room-img-a\"> <img src=\"https://images.propertypro.ng/medium/luxury-newly-built-secured-4-bedroom-executive-finished-detached-duplex-in-angels-court-MB94C67vKWQymDTaYykJ.jpg\" title=\"4 bedroom Semi Detached Duplex House for sale Near Oral Estate, CHEVRON 2nd Toll Gate, Lekki Lekki Phase 2 Lekki Lagos\" alt=\"4 bedroom Semi Detached Duplex House for sale Near Oral Estate, CHEVRON 2nd Toll Gate, Lekki Lekki Phase 2 Lekki Lagos\" class=\"listings-img\" /> </a>\\n<div class=\"save-heart\">\\n<a href=\"/profile/add-favorite/568535\"><i class=\"fa fa-heart\"></i></a>\\n</div>\\n<div class=\"room-icons\">\\n<span><span>70</span> <img src=\"/assets/assets/img/property/2f8b655773948c43f77e8c928e94bbe3-img.png\" alt=\"icon\" /> </span>\\n</div>\\n\\n</div>\\n<div class=\"single-room-text\">\\n<a href=\"/property/4-bedroom-semi-detached-duplex-house-for-sale-near-oral-estate-chevron-2nd-toll-gate-lekki-lekki-phase-2-lekki-lagos-0EBTN\"> <h2 class=\"listings-property-title\">4 BEDROOM SEMI DETACHED DUPLEX HOUSE FOR SALE</h2> </a>\\n<h4><img src=\"/assets/assets/img/resultpage/a6b70a0c1c4423f60780bdda189b91e3-location.svg\" alt=\"icon\" title=\"icon\" />Near Oral Estate, CHEVRON 2nd Toll Gate, LekkiLekki Phase 2 Lekki Lagos</h4>\\n<h3 class=\"listings-property-title2\">Luxury Newly Built Secured 4 Bedroom Executive Finished Detached Duplex In Angels Court</h3>\\n<div class=\"n50 featured-text\">\\n<h3 itemscope=\"\" itemtype=\"http://schema.org/Offer\" class=\"listings-price\"> <span itemprop=\"priceCurrency\" content=\"NGN\">₦</span> <span itemprop=\"price\" content=\"5.5E7\">55,000,000</span> </h3>\\n<h4>Premium Gold</h4>\\n</div>\\n<h5> <img src=\"/assets/assets/img/resultpage/03a0a19c8a1e23ef8d78f6130eb0aa22-watch-icon.png\" alt=\"icon\" title=\"icon\" /> Updated 03 Dec 2020, Added 02 Dec 2020 </h5>\\n<h2>PID: 0EBTN</h2>\\n<div class=\"furnished-btn\">\\n<a href=\"/property-for-sale/is-furnished\">Furnished</a>\\n<a href=\"/property-for-sale/is-serviced\">Serviced</a>\\n<a href=\"/property-for-sale/is-new\">Newly Built</a>\\n</div>\\n<div class=\"result-list-details\">\\n<p class=\"d-none d-sm-block\"> FOR SALE: ANGEL COURTS Experience Luxury at its Peak at this Exquisitely Built 4 Bedro.. <a href=\"/property/4-bedroom-semi-detached-duplex-house-for-sale-near-oral-estate-chevron-2nd-toll-gate-lekki-lekki-phase-2-lekki-lagos-0EBTN\">Read more</a> </p>\\n</div>\\n<div class=\"fur-areea\">\\n<span><img src=\"/assets/assets/img/resultpage/71e561d192ed8abb553ba6448816466d-beds.svg\" alt=\"bed-icon\" title=\"bed-icon\" />4 beds</span>\\n<span><img src=\"/assets/assets/img/resultpage/3945e8adbd5fbe44046a606d2dacd7ca-bath.svg\" alt=\"bath-icon\" title=\"bath-icon\" />4 baths</span>\\n<span><img src=\"/assets/assets/img/resultpage/0a8c8b34dbdfcc7b9d5eaeca83e87ebf-toilet.svg\" alt=\"toilet-icon\" title=\"toilet-icon\" />5 Toilets</span>\\n</div>\\n<div class=\"elite-icon\">\\n<a href=\"/agent/horlanhomes\"><img src=\"https://images.propertypro.ng/logo/ARrL6QhJY4BmXtRNoGJl.png\" alt=\"agent-icon\" title=\"agent-icon\" /></a>\\n</div>\\n</div>\\n</div>\\n\\n<div class=\"single-room-sale listings-property\">\\n<div class=\"single-room-img\">\\n<a href=\"/property/3-bedroom-terraced-duplex-house-for-sale-banana-island-ikoyi-lagos-1EBFW\" class=\"single-room-img-a\"> <img src=\"https://images.propertypro.ng/medium/newly-built-3bdrm-terrace-duplex-gFfjVkeekPyMxg7JUEFX.jpeg\" title=\"3 bedroom Terraced Duplex House for sale ... Banana Island Ikoyi Lagos\" alt=\"3 bedroom Terraced Duplex House for sale ... Banana Island Ikoyi Lagos\" class=\"listings-img\" /> </a>\\n<div class=\"save-heart\">\\n<a href=\"/profile/add-favorite/565743\"><i class=\"fa fa-heart\"></i></a>\\n</div>\\n<div class=\"room-icons\">\\n<span><span>3</span> <img src=\"/assets/assets/img/property/2f8b655773948c43f77e8c928e94bbe3-img.png\" alt=\"icon\" /> </span>\\n</div>\\n\\n</div>\\n<div class=\"single-room-text\">\\n<a href=\"/property/3-bedroom-terraced-duplex-house-for-sale-banana-island-ikoyi-lagos-1EBFW\"> <h2 class=\"listings-property-title\">3 BEDROOM TERRACED DUPLEX HOUSE FOR SALE</h2> </a>\\n<h4><img src=\"/assets/assets/img/resultpage/a6b70a0c1c4423f60780bdda189b91e3-location.svg\" alt=\"icon\" title=\"icon\" />...Banana Island Ikoyi Lagos</h4>\\n<h3 class=\"listings-property-title2\">Newly built 3 bedroom Terrace Duplex </h3>\\n<div class=\"n50 \">\\n<h3 itemscope=\"\" itemtype=\"http://schema.org/Offer\" class=\"listings-price\"> <span itemprop=\"priceCurrency\" content=\"NGN\">₦</span> <span itemprop=\"price\" content=\"2.8E8\">280,000,000</span> </h3>\\n<h4>Premium Gold</h4>\\n</div>\\n<h5> <img src=\"/assets/assets/img/resultpage/03a0a19c8a1e23ef8d78f6130eb0aa22-watch-icon.png\" alt=\"icon\" title=\"icon\" /> Updated 05 Dec 2020, Added 26 Nov 2020 </h5>\\n<h2>PID: 1EBFW</h2>\\n<div class=\"furnished-btn\">\\n<a href=\"/property-for-sale/is-furnished\">Furnished</a>\\n<a href=\"/property-for-sale/is-serviced\">Serviced</a>\\n<a href=\"/property-for-sale/is-new\">Newly Built</a>\\n</div>\\n<div class=\"result-list-details\">\\n<p class=\"d-none d-sm-block\"> FOR SALE: Just Out: For Sale Luxuriously well furnished 3 bedroom terrace duplex with.. <a href=\"/property/3-bedroom-terraced-duplex-house-for-sale-banana-island-ikoyi-lagos-1EBFW\">Read more</a> </p>\\n</div>\\n<div class=\"fur-areea\">\\n<span><img src=\"/assets/assets/img/resultpage/71e561d192ed8abb553ba6448816466d-beds.svg\" alt=\"bed-icon\" title=\"bed-icon\" />3 beds</span>\\n<span><img src=\"/assets/assets/img/resultpage/3945e8adbd5fbe44046a606d2dacd7ca-bath.svg\" alt=\"bath-icon\" title=\"bath-icon\" />5 baths</span>\\n<span><img src=\"/assets/assets/img/resultpage/0a8c8b34dbdfcc7b9d5eaeca83e87ebf-toilet.svg\" alt=\"toilet-icon\" title=\"toilet-icon\" />5 Toilets</span>\\n</div>\\n<div class=\"elite-icon\">\\n<a href=\"/agent/osibisa-odafe\"><img src=\"/assets/assets/img/f00f42e7172e89c02987caba767d3bfe-default_user_male.jpg\" alt=\"agent-icon\" title=\"agent-icon\" /></a>\\n</div>\\n</div>\\n</div>\\n<div class=\"text-center\">\\n<a rel=\"nofollow\" class=\"text-center\" href=\"https://www.propertypro.ng/silverspring/\" target=\"_blank\"><img class=\"img-fluid\" src=\"data:image/png;base64,R0lGODlhAQABAAD/ACwAAAAAAQABAAACADs=\" data-src=\"https://toletstatic.s3-us-west-2.amazonaws.com/silverspring_property_and_result.jpg\" /> </a>\\n</div>\\n<br />\\n\\n<div class=\"single-room-sale listings-property\">\\n<div class=\"single-room-img\">\\n<a href=\"/property/5-bedroom-detached-duplex-house-for-sale-ajao-estate-isolo-lagos-mainland-ajao-estate-isolo-lagos-5DYBV\" class=\"single-room-img-a\"> <img src=\"https://images.propertypro.ng/medium/standard-executive-luxury-5bedrooms-detached-duplex-with-bq-iIVp2zOuVN4A9pKlygO6.jpg\" title=\"5 bedroom Detached Duplex House for sale Ajao Estate Isolo. Lagos Mainland Ajao Estate Isolo Lagos\" alt=\"5 bedroom Detached Duplex House for sale Ajao Estate Isolo. Lagos Mainland Ajao Estate Isolo Lagos\" class=\"listings-img\" /> </a>\\n<div class=\"save-heart\">\\n<a href=\"/profile/add-favorite/547497\"><i class=\"fa fa-heart\"></i></a>\\n</div>\\n<div class=\"room-icons\">\\n<span><span>22</span> <img src=\"/assets/assets/img/property/2f8b655773948c43f77e8c928e94bbe3-img.png\" alt=\"icon\" /> </span>\\n</div>\\n\\n</div>\\n<div class=\"single-room-text\">\\n<a href=\"/property/5-bedroom-detached-duplex-house-for-sale-ajao-estate-isolo-lagos-mainland-ajao-estate-isolo-lagos-5DYBV\"> <h2 class=\"listings-property-title\">5 BEDROOM DETACHED DUPLEX HOUSE FOR SALE</h2> </a>\\n<h4><img src=\"/assets/assets/img/resultpage/a6b70a0c1c4423f60780bdda189b91e3-location.svg\" alt=\"icon\" title=\"icon\" />Ajao Estate Isolo. Lagos MainlandAjao Estate Isolo Lagos</h4>\\n<h3 class=\"listings-property-title2\">Standard Executive Luxury 7bed Rooms Detached Duplex with Bq </h3>\\n<div class=\"n50 \">\\n<h3 itemscope=\"\" itemtype=\"http://schema.org/Offer\" class=\"listings-price\"> <span itemprop=\"priceCurrency\" content=\"NGN\">₦</span> <span itemprop=\"price\" content=\"5.5E7\">55,000,000</span> </h3>\\n<h4>Premium Gold</h4>\\n</div>\\n<h5> <img src=\"/assets/assets/img/resultpage/03a0a19c8a1e23ef8d78f6130eb0aa22-watch-icon.png\" alt=\"icon\" title=\"icon\" /> Updated 04 Dec 2020, Added 12 Oct 2020 </h5>\\n<h2>PID: 5DYBV</h2>\\n<div class=\"furnished-btn\">\\n</div>\\n<div class=\"result-list-details\">\\n<p class=\"d-none d-sm-block\"> FOR SALE: Standard Executive Luxury 7bed Rooms Deatched Duplex with Bq at Ajao estate Isol.. <a href=\"/property/5-bedroom-detached-duplex-house-for-sale-ajao-estate-isolo-lagos-mainland-ajao-estate-isolo-lagos-5DYBV\">Read more</a> </p>\\n</div>\\n<div class=\"fur-areea\">\\n<span><img src=\"/assets/assets/img/resultpage/71e561d192ed8abb553ba6448816466d-beds.svg\" alt=\"bed-icon\" title=\"bed-icon\" />5 beds</span>\\n<span><img src=\"/assets/assets/img/resultpage/3945e8adbd5fbe44046a606d2dacd7ca-bath.svg\" alt=\"bath-icon\" title=\"bath-icon\" />5 baths</span>\\n<span><img src=\"/assets/assets/img/resultpage/0a8c8b34dbdfcc7b9d5eaeca83e87ebf-toilet.svg\" alt=\"toilet-icon\" title=\"toilet-icon\" />6 Toilets</span>\\n</div>\\n<div class=\"elite-icon\">\\n<a href=\"/agent/mr-doriwhally\"><img src=\"https://images.propertypro.ng/logo/yhMVGXD0aLHG9ZUwdi8e.png\" alt=\"agent-icon\" title=\"agent-icon\" /></a>\\n</div>\\n</div>\\n</div>\\n\\n<div class=\"single-room-sale listings-property\">\\n<div class=\"single-room-img\">\\n<a href=\"/property/5-bedroom-detached-duplex-house-for-sale-lekki-phase-1-lekki-phase-1-lekki-lagos-1DZJT\" class=\"single-room-img-a\"> <img src=\"https://images.propertypro.ng/medium/luxury-5-bedroom-detached-duplex-for-sale-b3s3Ujx1u6XYOWA2g2DA.jpg\" title=\"5 bedroom Detached Duplex House for sale Lekki phase 1 Lekki Phase 1 Lekki Lagos\" alt=\"5 bedroom Detached Duplex House for sale Lekki phase 1 Lekki Phase 1 Lekki Lagos\" class=\"listings-img\" /> </a>\\n<div class=\"save-heart\">\\n<a href=\"/profile/add-favorite/554913\"><i class=\"fa fa-heart\"></i></a>\\n</div>\\n<div class=\"room-icons\">\\n<span><span>10</span> <img src=\"/assets/assets/img/property/2f8b655773948c43f77e8c928e94bbe3-img.png\" alt=\"icon\" /> </span>\\n</div>\\n\\n</div>\\n<div class=\"single-room-text\">\\n<a href=\"/property/5-bedroom-detached-duplex-house-for-sale-lekki-phase-1-lekki-phase-1-lekki-lagos-1DZJT\"> <h2 class=\"listings-property-title\">5 BEDROOM DETACHED DUPLEX HOUSE FOR SALE</h2> </a>\\n<h4><img src=\"/assets/assets/img/resultpage/a6b70a0c1c4423f60780bdda189b91e3-location.svg\" alt=\"icon\" title=\"icon\" />Lekki phase 1Lekki Phase 1 Lekki Lagos</h4>\\n<h3 class=\"listings-property-title2\">Luxury 5 bedroom detached duplex for sale</h3>\\n<div class=\"n50 \">\\n<h3 itemscope=\"\" itemtype=\"http://schema.org/Offer\" class=\"listings-price\"> <span itemprop=\"priceCurrency\" content=\"NGN\">₦</span> <span itemprop=\"price\" content=\"3.2E8\">320,000,000</span> </h3>\\n<h4>Premium Gold</h4>\\n</div>\\n<h5> <img src=\"/assets/assets/img/resultpage/03a0a19c8a1e23ef8d78f6130eb0aa22-watch-icon.png\" alt=\"icon\" title=\"icon\" /> Updated 04 Dec 2020, Added 02 Nov 2020 </h5>\\n<h2>PID: 1DZJT</h2>\\n<div class=\"furnished-btn\">\\n<a href=\"/property-for-sale/is-serviced\">Serviced</a>\\n<a href=\"/property-for-sale/is-new\">Newly Built</a>\\n</div>\\n<div class=\"result-list-details\">\\n<p class=\"d-none d-sm-block\"> FOR SALE: Luxury 5 bedroom detached duplex for sale Location: Lekki Phase 1 Price: N320M.. <a href=\"/property/5-bedroom-detached-duplex-house-for-sale-lekki-phase-1-lekki-phase-1-lekki-lagos-1DZJT\">Read more</a> </p>\\n</div>\\n<div class=\"fur-areea\">\\n<span><img src=\"/assets/assets/img/resultpage/71e561d192ed8abb553ba6448816466d-beds.svg\" alt=\"bed-icon\" title=\"bed-icon\" />5 beds</span>\\n<span><img src=\"/assets/assets/img/resultpage/3945e8adbd5fbe44046a606d2dacd7ca-bath.svg\" alt=\"bath-icon\" title=\"bath-icon\" />5 baths</span>\\n<span><img src=\"/assets/assets/img/resultpage/0a8c8b34dbdfcc7b9d5eaeca83e87ebf-toilet.svg\" alt=\"toilet-icon\" title=\"toilet-icon\" />5 Toilets</span>\\n</div>\\n<div class=\"elite-icon\">\\n<a href=\"/agent/itj-realtor\"><img src=\"https://images.propertypro.ng/logo/y6JmtfRopx1iTC0VCxNK.jpg\" alt=\"agent-icon\" title=\"agent-icon\" /></a>\\n</div>\\n</div>\\n</div>\\n\\n<div class=\"single-room-sale listings-property\">\\n<div class=\"single-room-img\">\\n<a href=\"/property/4-bedroom-semi-detached-duplex-house-for-sale-ikate-ikate-lekki-lagos-6DZPV\" class=\"single-room-img-a\"> <img src=\"https://images.propertypro.ng/medium/newly-built-8-units-of-4bedroom-semi-detached-duplexes-d7zM4fBMyEQJNDg8JRSC.jpg\" title=\"4 bedroom Semi Detached Duplex House for sale Ikate Ikate Lekki Lagos\" alt=\"4 bedroom Semi Detached Duplex House for sale Ikate Ikate Lekki Lagos\" class=\"listings-img\" /> </a>\\n<div class=\"save-heart\">\\n<a href=\"/profile/add-favorite/556138\"><i class=\"fa fa-heart\"></i></a>\\n</div>\\n<div class=\"room-icons\">\\n<span><span>10</span> <img src=\"/assets/assets/img/property/2f8b655773948c43f77e8c928e94bbe3-img.png\" alt=\"icon\" /> </span>\\n</div>\\n\\n</div>\\n<div class=\"single-room-text\">\\n<a href=\"/property/4-bedroom-semi-detached-duplex-house-for-sale-ikate-ikate-lekki-lagos-6DZPV\"> <h2 class=\"listings-property-title\">4 BEDROOM SEMI DETACHED DUPLEX HOUSE FOR SALE</h2> </a>\\n<h4><img src=\"/assets/assets/img/resultpage/a6b70a0c1c4423f60780bdda189b91e3-location.svg\" alt=\"icon\" title=\"icon\" />IkateIkate Lekki Lagos</h4>\\n<h3 class=\"listings-property-title2\">Newly built 8 units of 4bedroom semi detached duplexes </h3>\\n<div class=\"n50 \">\\n<h3 itemscope=\"\" itemtype=\"http://schema.org/Offer\" class=\"listings-price\"> <span itemprop=\"priceCurrency\" content=\"NGN\">₦</span> <span itemprop=\"price\" content=\"8.0E7\">80,000,000</span> </h3>\\n<h4>Premium Gold</h4>\\n</div>\\n<h5> <img src=\"/assets/assets/img/resultpage/03a0a19c8a1e23ef8d78f6130eb0aa22-watch-icon.png\" alt=\"icon\" title=\"icon\" /> Updated 04 Dec 2020, Added 05 Nov 2020 </h5>\\n<h2>PID: 6DZPV</h2>\\n<div class=\"furnished-btn\">\\n<a href=\"/property-for-sale/is-new\">Newly Built</a>\\n</div>\\n<div class=\"result-list-details\">\\n<p class=\"d-none d-sm-block\"> FOR SALE: For sale ???? - 8 Unit of 4 Bedroom Semi- Detached Duplex - Location: Ikate,.. <a href=\"/property/4-bedroom-semi-detached-duplex-house-for-sale-ikate-ikate-lekki-lagos-6DZPV\">Read more</a> </p>\\n</div>\\n<div class=\"fur-areea\">\\n<span><img src=\"/assets/assets/img/resultpage/71e561d192ed8abb553ba6448816466d-beds.svg\" alt=\"bed-icon\" title=\"bed-icon\" />4 beds</span>\\n<span><img src=\"/assets/assets/img/resultpage/3945e8adbd5fbe44046a606d2dacd7ca-bath.svg\" alt=\"bath-icon\" title=\"bath-icon\" />4 baths</span>\\n<span><img src=\"/assets/assets/img/resultpage/0a8c8b34dbdfcc7b9d5eaeca83e87ebf-toilet.svg\" alt=\"toilet-icon\" title=\"toilet-icon\" />4 Toilets</span>\\n</div>\\n<div class=\"elite-icon\">\\n<a href=\"/agent/itj-realtor\"><img src=\"https://images.propertypro.ng/logo/y6JmtfRopx1iTC0VCxNK.jpg\" alt=\"agent-icon\" title=\"agent-icon\" /></a>\\n</div>\\n</div>\\n</div>\\n<div class=\"single-room-sale listings-property sponsored-listing\">\\n<div class=\"single-room-img\">\\n<a href=\"/property/4-bedroom-self-contain-flat-apartment-for-sale-parkview-estate-ikoyi-lagos-0DXMT\" class=\"single-room-img-a\"> <img src=\"https://images.propertypro.ng/medium/a-grade-apartments-for-sale-in-ikoyi-ADEAHJZmqHZFEP0hKsdP.jpg\" title=\"4 bedroom Self Contain Flat / Apartment for sale Parkview Estate Ikoyi Lagos\" alt=\"4 bedroom Self Contain Flat / Apartment for sale Parkview Estate Ikoyi Lagos\" class=\"listings-img\" /> </a>\\n<div class=\"save-heart\">\\n<a href=\"/profile/add-favorite/544112\"><i class=\"fa fa-heart\"></i></a>\\n</div>\\n<div class=\"room-icons\">\\n<span><span>8</span> <img src=\"/assets/assets/img/property/2f8b655773948c43f77e8c928e94bbe3-img.png\" alt=\"icon\" /> </span>\\n</div>\\n</div>\\n<div class=\"single-room-text\">\\n<a href=\"/property/4-bedroom-self-contain-flat-apartment-for-sale-parkview-estate-ikoyi-lagos-0DXMT\"> <h2 class=\"listings-property-title\">4 BEDROOM SELF CONTAIN FLAT / APARTMENT FOR SALE</h2> </a>\\n<h4><img src=\"/assets/assets/img/resultpage/a6b70a0c1c4423f60780bdda189b91e3-location.svg\" alt=\"icon\" title=\"icon\" />Parkview Estate Ikoyi Lagos</h4>\\n<h3 class=\"listings-property-title2\">A- Grade apartments for sale in Ikoyi </h3>\\n<div class=\"n50 \">\\n<h3 itemscope=\"\" itemtype=\"http://schema.org/Offer\"> <span itemprop=\"priceCurrency\" content=\"NGN\">₦</span> <span itemprop=\"price\" content=\"205,000,000\">205,000,000</span> </h3>\\n<h4>Sponsored</h4>\\n</div>\\n<h5> <img src=\"/assets/assets/img/resultpage/03a0a19c8a1e23ef8d78f6130eb0aa22-watch-icon.png\" alt=\"icon\" title=\"icon\" /> Updated 03 Dec 2020, Added 05 Oct 2020 </h5>\\n<h2>PID: 0DXMT</h2>\\n<div class=\"furnished-btn\">\\n<a href=\"/property-for-sale/is-new\">Newly Built</a>\\n<a href=\"/property-for-sale/is-serviced\">Serviced</a>\\n</div>\\n<div class=\"result-list-details\">\\n<p class=\"d-none d-sm-block\"> FOR SALE: Beautiful luxury A- grade apartments available for sale in Parkview estate. Sal.. <a href=\"/property/4-bedroom-self-contain-flat-apartment-for-sale-parkview-estate-ikoyi-lagos-0DXMT\">Read more</a></p>\\n</div>\\n<div class=\"fur-areea\">\\n<span><img src=\"/assets/assets/img/resultpage/71e561d192ed8abb553ba6448816466d-beds.svg\" alt=\"bed-icon\" title=\"bed-icon\" />4 beds</span>\\n<span><img src=\"/assets/assets/img/resultpage/3945e8adbd5fbe44046a606d2dacd7ca-bath.svg\" alt=\"bath-icon\" title=\"bath-icon\" />4 baths</span>\\n<span><img src=\"/assets/assets/img/resultpage/0a8c8b34dbdfcc7b9d5eaeca83e87ebf-toilet.svg\" alt=\"toilet-icon\" title=\"toilet-icon\" />5 Toilets</span>\\n</div>\\n<div class=\"elite-icon\">\\n<a href=\"/agent/adedoyin-rosaline-amangbo\"><img src=\"https://images.propertypro.ng/logo/6d6ZHuECiCYzKbgddfIW.jpg\" alt=\"agent-icon\" title=\"agent-icon\" /></a>\\n</div>\\n</div>\\n</div>\\n\\n<div class=\"single-room-sale listings-property\">\\n<div class=\"single-room-img\">\\n<a href=\"/property/4-bedroom-terraced-duplex-house-for-sale-lekki-phase-1-lekki-lagos-4DQQY\" class=\"single-room-img-a\"> <img src=\"https://images.propertypro.ng/medium/brand-new-4-bedroom-terrace-house-with-bq-A5yf4K1b8eadxLB9zAkZ.jpeg\" title=\"4 bedroom Terraced Duplex House for sale Lekki Phase 1 Lekki Lagos\" alt=\"4 bedroom Terraced Duplex House for sale Lekki Phase 1 Lekki Lagos\" class=\"listings-img\" /> </a>\\n<div class=\"save-heart\">\\n<a href=\"/profile/add-favorite/504573\"><i class=\"fa fa-heart\"></i></a>\\n</div>\\n<div class=\"room-icons\">\\n<span><span>13</span> <img src=\"/assets/assets/img/property/2f8b655773948c43f77e8c928e94bbe3-img.png\" alt=\"icon\" /> </span>\\n</div>\\n\\n</div>\\n<div class=\"single-room-text\">\\n<a href=\"/property/4-bedroom-terraced-duplex-house-for-sale-lekki-phase-1-lekki-lagos-4DQQY\"> <h2 class=\"listings-property-title\">4 BEDROOM TERRACED DUPLEX HOUSE FOR SALE</h2> </a>\\n<h4><img src=\"/assets/assets/img/resultpage/a6b70a0c1c4423f60780bdda189b91e3-location.svg\" alt=\"icon\" title=\"icon\" />Lekki Phase 1 Lekki Lagos</h4>\\n<h3 class=\"listings-property-title2\">Brand New 4-Bedroom terrace House with BQ</h3>\\n<div class=\"n50 \">\\n<h3 itemscope=\"\" itemtype=\"http://schema.org/Offer\" class=\"listings-price\"> <span itemprop=\"priceCurrency\" content=\"NGN\">₦</span> <span itemprop=\"price\" content=\"1.0E8\">100,000,000</span> </h3>\\n<h4>Premium Gold</h4>\\n</div>\\n<h5> <img src=\"/assets/assets/img/resultpage/03a0a19c8a1e23ef8d78f6130eb0aa22-watch-icon.png\" alt=\"icon\" title=\"icon\" /> Updated 04 Dec 2020, Added 27 Jul 2020 </h5>\\n<h2>PID: 4DQQY</h2>\\n<div class=\"furnished-btn\">\\n<a href=\"/property-for-sale/is-new\">Newly Built</a>\\n</div>\\n<div class=\"result-list-details\">\\n<p class=\"d-none d-sm-block\"> FOR SALE: Brand New 4-Bedroom terrace House with BQ Location: lekki phase 1 Lekki Lagos.. <a href=\"/property/4-bedroom-terraced-duplex-house-for-sale-lekki-phase-1-lekki-lagos-4DQQY\">Read more</a> </p>\\n</div>\\n<div class=\"fur-areea\">\\n<span><img src=\"/assets/assets/img/resultpage/71e561d192ed8abb553ba6448816466d-beds.svg\" alt=\"bed-icon\" title=\"bed-icon\" />4 beds</span>\\n<span><img src=\"/assets/assets/img/resultpage/3945e8adbd5fbe44046a606d2dacd7ca-bath.svg\" alt=\"bath-icon\" title=\"bath-icon\" />4 baths</span>\\n<span><img src=\"/assets/assets/img/resultpage/0a8c8b34dbdfcc7b9d5eaeca83e87ebf-toilet.svg\" alt=\"toilet-icon\" title=\"toilet-icon\" />5 Toilets</span>\\n</div>\\n<div class=\"elite-icon\">\\n<a href=\"/agent/joeetoniru\"><img src=\"https://images.propertypro.ng/logo/zjO4IRffyvUG1zI97yG1.png\" alt=\"agent-icon\" title=\"agent-icon\" /></a>\\n</div>\\n</div>\\n</div>\\n\\n<div class=\"single-room-sale listings-property\">\\n<div class=\"single-room-img\">\\n<a href=\"/property/4-bedroom-semi-detached-duplex-house-for-sale-idado-lekki-lagos-0DTYC\" class=\"single-room-img-a\"> <img src=\"https://images.propertypro.ng/medium/4-bedroom-semi-detached-house-with-bq-zuB6Hy072FyfVTVS4vUl.jpeg\" title=\"4 bedroom Semi Detached Duplex House for sale Idado Lekki Lagos\" alt=\"4 bedroom Semi Detached Duplex House for sale Idado Lekki Lagos\" class=\"listings-img\" /> </a>\\n<div class=\"save-heart\">\\n<a href=\"/profile/add-favorite/523566\"><i class=\"fa fa-heart\"></i></a>\\n</div>\\n<div class=\"room-icons\">\\n<span><span>10</span> <img src=\"/assets/assets/img/property/2f8b655773948c43f77e8c928e94bbe3-img.png\" alt=\"icon\" /> </span>\\n</div>\\n\\n</div>\\n<div class=\"single-room-text\">\\n<a href=\"/property/4-bedroom-semi-detached-duplex-house-for-sale-idado-lekki-lagos-0DTYC\"> <h2 class=\"listings-property-title\">4 BEDROOM SEMI DETACHED DUPLEX HOUSE FOR SALE</h2> </a>\\n<h4><img src=\"/assets/assets/img/resultpage/a6b70a0c1c4423f60780bdda189b91e3-location.svg\" alt=\"icon\" title=\"icon\" />Idado Lekki Lagos</h4>\\n<h3 class=\"listings-property-title2\">4-Bedroom Semi-Detached House with BQ </h3>\\n<div class=\"n50 \">\\n<h3 itemscope=\"\" itemtype=\"http://schema.org/Offer\" class=\"listings-price\"> <span itemprop=\"priceCurrency\" content=\"NGN\">₦</span> <span itemprop=\"price\" content=\"5.5E7\">55,000,000</span> </h3>\\n<h4>Premium Gold</h4>\\n</div>\\n<h5> <img src=\"/assets/assets/img/resultpage/03a0a19c8a1e23ef8d78f6130eb0aa22-watch-icon.png\" alt=\"icon\" title=\"icon\" /> Updated 04 Dec 2020, Added 26 Aug 2020 </h5>\\n<h2>PID: 0DTYC</h2>\\n<div class=\"furnished-btn\">\\n<a href=\"/property-for-sale/is-new\">Newly Built</a>\\n</div>\\n<div class=\"result-list-details\">\\n<p class=\"d-none d-sm-block\"> FOR SALE: 4-Bedroom Semi-Detached House with BQ Location: Idado, Lekki Sale Price: .. <a href=\"/property/4-bedroom-semi-detached-duplex-house-for-sale-idado-lekki-lagos-0DTYC\">Read more</a> </p>\\n</div>\\n<div class=\"fur-areea\">\\n<span><img src=\"/assets/assets/img/resultpage/71e561d192ed8abb553ba6448816466d-beds.svg\" alt=\"bed-icon\" title=\"bed-icon\" />4 beds</span>\\n<span><img src=\"/assets/assets/img/resultpage/3945e8adbd5fbe44046a606d2dacd7ca-bath.svg\" alt=\"bath-icon\" title=\"bath-icon\" />4 baths</span>\\n<span><img src=\"/assets/assets/img/resultpage/0a8c8b34dbdfcc7b9d5eaeca83e87ebf-toilet.svg\" alt=\"toilet-icon\" title=\"toilet-icon\" />5 Toilets</span>\\n</div>\\n<div class=\"elite-icon\">\\n<a href=\"/agent/joeetoniru\"><img src=\"https://images.propertypro.ng/logo/zjO4IRffyvUG1zI97yG1.png\" alt=\"agent-icon\" title=\"agent-icon\" /></a>\\n</div>\\n</div>\\n</div>\\n\\n <div class=\"single-room-sale listings-property\">\\n<div class=\"single-room-img\">\\n<a href=\"/property/4-bedroom-terraced-duplex-house-for-sale-near-vgc-lekki-lagos-2DXHY\" class=\"single-room-img-a\"> <img src=\"https://images.propertypro.ng/medium/lovely-4-bedroom-terrace-duplex-Jy52UzFjTFSEKtKTjkC3.jpeg\" title=\"4 bedroom Terraced Duplex House for sale Near VGC Lekki Lagos\" alt=\"4 bedroom Terraced Duplex House for sale Near VGC Lekki Lagos\" class=\"listings-img\" /> </a>\\n<div class=\"save-heart\">\\n<a href=\"/profile/add-favorite/543204\"><i class=\"fa fa-heart\"></i></a>\\n</div>\\n<div class=\"room-icons\">\\n<span><span>9</span> <img src=\"/assets/assets/img/property/2f8b655773948c43f77e8c928e94bbe3-img.png\" alt=\"icon\" /> </span>\\n</div>\\n\\n</div>\\n<div class=\"single-room-text\">\\n<a href=\"/property/4-bedroom-terraced-duplex-house-for-sale-near-vgc-lekki-lagos-2DXHY\"> <h2 class=\"listings-property-title\">4 BEDROOM TERRACED DUPLEX HOUSE FOR SALE</h2> </a>\\n<h4><img src=\"/assets/assets/img/resultpage/a6b70a0c1c4423f60780bdda189b91e3-location.svg\" alt=\"icon\" title=\"icon\" />Near VGCLekki Lagos</h4>\\n<h3 class=\"listings-property-title2\">Lovely 4 Bedroom Terrace Duplex;</h3>\\n<div class=\"n50 \">\\n<h3 itemscope=\"\" itemtype=\"http://schema.org/Offer\" class=\"listings-price\"> <span itemprop=\"priceCurrency\" content=\"NGN\">₦</span> <span itemprop=\"price\" content=\"4.0E7\">40,000,000</span> </h3>\\n<h4>Premium Gold</h4>\\n</div>\\n<h5> <img src=\"/assets/assets/img/resultpage/03a0a19c8a1e23ef8d78f6130eb0aa22-watch-icon.png\" alt=\"icon\" title=\"icon\" /> Updated 04 Dec 2020, Added 03 Oct 2020 </h5>\\n<h2>PID: 2DXHY</h2>\\n<div class=\"furnished-btn\">\\n<a href=\"/property-for-sale/is-new\">Newly Built</a>\\n</div>\\n<div class=\"result-list-details\">\\n<p class=\"d-none d-sm-block\"> FOR SALE: Lovely 4 Bedroom Terrace Duplex; Location: near vgc Price :N40m Rental.. <a href=\"/property/4-bedroom-terraced-duplex-house-for-sale-near-vgc-lekki-lagos-2DXHY\">Read more</a> </p>\\n</div>\\n<div class=\"fur-areea\">\\n<span><img src=\"/assets/assets/img/resultpage/71e561d192ed8abb553ba6448816466d-beds.svg\" alt=\"bed-icon\" title=\"bed-icon\" />4 beds</span>\\n<span><img src=\"/assets/assets/img/resultpage/3945e8adbd5fbe44046a606d2dacd7ca-bath.svg\" alt=\"bath-icon\" title=\"bath-icon\" />4 baths</span>\\n<span><img src=\"/assets/assets/img/resultpage/0a8c8b34dbdfcc7b9d5eaeca83e87ebf-toilet.svg\" alt=\"toilet-icon\" title=\"toilet-icon\" />5 Toilets</span>\\n</div>\\n<div class=\"elite-icon\">\\n<a href=\"/agent/joeetoniru\"><img src=\"https://images.propertypro.ng/logo/zjO4IRffyvUG1zI97yG1.png\" alt=\"agent-icon\" title=\"agent-icon\" /></a>\\n</div>\\n</div>\\n</div>\\n\\n<div class=\"single-room-sale listings-property\">\\n<div class=\"single-room-img\">\\n<a href=\"/property/4-bedroom-terraced-duplex-house-for-sale-ajah-ajah-lagos-1DZDC\" class=\"single-room-img-a\"> <img src=\"https://images.propertypro.ng/medium/nicely-buit-4-bedroom-terrace-duplex-ytlzqm4LhZOIZK8pr9CO.jpg\" title=\"4 bedroom Terraced Duplex House for sale Ajah Ajah Lagos\" alt=\"4 bedroom Terraced Duplex House for sale Ajah Ajah Lagos\" class=\"listings-img\" /> </a>\\n<div class=\"save-heart\">\\n<a href=\"/profile/add-favorite/553563\"><i class=\"fa fa-heart\"></i></a>\\n</div>\\n<div class=\"room-icons\">\\n<span><span>9</span> <img src=\"/assets/assets/img/property/2f8b655773948c43f77e8c928e94bbe3-img.png\" alt=\"icon\" /> </span>\\n</div>\\n\\n</div>\\n<div class=\"single-room-text\">\\n<a href=\"/property/4-bedroom-terraced-duplex-house-for-sale-ajah-ajah-lagos-1DZDC\"> <h2 class=\"listings-property-title\">4 BEDROOM TERRACED DUPLEX HOUSE FOR SALE</h2> </a>\\n<h4><img src=\"/assets/assets/img/resultpage/a6b70a0c1c4423f60780bdda189b91e3-location.svg\" alt=\"icon\" title=\"icon\" />AjahAjah Lagos</h4>\\n<h3 class=\"listings-property-title2\">Nicely Built 4 Bedroom Terrace Duplex;</h3>\\n<div class=\"n50 \">\\n<h3 itemscope=\"\" itemtype=\"http://schema.org/Offer\" class=\"listings-price\"> <span itemprop=\"priceCurrency\" content=\"NGN\">₦</span> <span itemprop=\"price\" content=\"3.3E7\">33,000,000</span> </h3>\\n<h4>Premium Gold</h4>\\n</div>\\n<h5> <img src=\"/assets/assets/img/resultpage/03a0a19c8a1e23ef8d78f6130eb0aa22-watch-icon.png\" alt=\"icon\" title=\"icon\" /> Updated 04 Dec 2020, Added 29 Oct 2020 </h5>\\n<h2>PID: 1DZDC</h2>\\n<div class=\"furnished-btn\">\\n<a href=\"/property-for-sale/is-new\">Newly Built</a>\\n</div>\\n<div class=\"result-list-details\">\\n<p class=\"d-none d-sm-block\"> FOR SALE: Nicely Buit 4 Bedroom Terrace Duplex; Location: Ajah PRICE: 33 million .. <a href=\"/property/4-bedroom-terraced-duplex-house-for-sale-ajah-ajah-lagos-1DZDC\">Read more</a> </p>\\n</div>\\n<div class=\"fur-areea\">\\n<span><img src=\"/assets/assets/img/resultpage/71e561d192ed8abb553ba6448816466d-beds.svg\" alt=\"bed-icon\" title=\"bed-icon\" />4 beds</span>\\n<span><img src=\"/assets/assets/img/resultpage/3945e8adbd5fbe44046a606d2dacd7ca-bath.svg\" alt=\"bath-icon\" title=\"bath-icon\" />4 baths</span>\\n<span><img src=\"/assets/assets/img/resultpage/0a8c8b34dbdfcc7b9d5eaeca83e87ebf-toilet.svg\" alt=\"toilet-icon\" title=\"toilet-icon\" />5 Toilets</span>\\n</div>\\n<div class=\"elite-icon\">\\n<a href=\"/agent/joeetoniru\"><img src=\"https://images.propertypro.ng/logo/zjO4IRffyvUG1zI97yG1.png\" alt=\"agent-icon\" title=\"agent-icon\" /></a>\\n</div>\\n</div>\\n</div>\\n\\n<div class=\"single-room-sale listings-property\">\\n<div class=\"single-room-img\">\\n<a href=\"/property/5-bedroom-detached-duplex-house-for-sale-idado-lekki-lagos-8DZDH\" class=\"single-room-img-a\"> <img src=\"https://images.propertypro.ng/medium/lovely-5-bedroom-fully-detached-duplex-with-a-bq-eHmLe3RYv0a4suCW7AeV.jpg\" title=\"5 bedroom Detached Duplex House for sale Idado Lekki Lagos\" alt=\"5 bedroom Detached Duplex House for sale Idado Lekki Lagos\" class=\"listings-img\" /> </a>\\n<div class=\"save-heart\">\\n<a href=\"/profile/add-favorite/553620\"><i class=\"fa fa-heart\"></i></a>\\n</div>\\n<div class=\"room-icons\">\\n<span><span>8</span> <img src=\"/assets/assets/img/property/2f8b655773948c43f77e8c928e94bbe3-img.png\" alt=\"icon\" /> </span>\\n</div>\\n\\n</div>\\n<div class=\"single-room-text\">\\n<a href=\"/property/5-bedroom-detached-duplex-house-for-sale-idado-lekki-lagos-8DZDH\"> <h2 class=\"listings-property-title\">5 BEDROOM DETACHED DUPLEX HOUSE FOR SALE</h2> </a>\\n<h4><img src=\"/assets/assets/img/resultpage/a6b70a0c1c4423f60780bdda189b91e3-location.svg\" alt=\"icon\" title=\"icon\" />Idado Lekki Lagos</h4>\\n<h3 class=\"listings-property-title2\">Lovely 5 Bedroom Fully Detached Duplex with a bq</h3>\\n<div class=\"n50 \">\\n<h3 itemscope=\"\" itemtype=\"http://schema.org/Offer\" class=\"listings-price\"> <span itemprop=\"priceCurrency\" content=\"NGN\">₦</span> <span itemprop=\"price\" content=\"1.2E8\">120,000,000</span> </h3>\\n<h4>Premium Gold</h4>\\n</div>\\n<h5> <img src=\"/assets/assets/img/resultpage/03a0a19c8a1e23ef8d78f6130eb0aa22-watch-icon.png\" alt=\"icon\" title=\"icon\" /> Updated 04 Dec 2020, Added 29 Oct 2020 </h5>\\n<h2>PID: 8DZDH</h2>\\n<div class=\"furnished-btn\">\\n<a href=\"/property-for-sale/is-new\">Newly Built</a>\\n</div>\\n<div class=\"result-list-details\">\\n<p class=\"d-none d-sm-block\"> FOR SALE: Lovely 5 Bedroom Fully Detached Duplex with a bq Location: Idado Price: 12.. <a href=\"/property/5-bedroom-detached-duplex-house-for-sale-idado-lekki-lagos-8DZDH\">Read more</a> </p>\\n</div>\\n<div class=\"fur-areea\">\\n<span><img src=\"/assets/assets/img/resultpage/71e561d192ed8abb553ba6448816466d-beds.svg\" alt=\"bed-icon\" title=\"bed-icon\" />5 beds</span>\\n<span><img src=\"/assets/assets/img/resultpage/3945e8adbd5fbe44046a606d2dacd7ca-bath.svg\" alt=\"bath-icon\" title=\"bath-icon\" />5 baths</span>\\n<span><img src=\"/assets/assets/img/resultpage/0a8c8b34dbdfcc7b9d5eaeca83e87ebf-toilet.svg\" alt=\"toilet-icon\" title=\"toilet-icon\" />6 Toilets</span>\\n</div>\\n<div class=\"elite-icon\">\\n<a href=\"/agent/joeetoniru\"><img src=\"https://images.propertypro.ng/logo/zjO4IRffyvUG1zI97yG1.png\" alt=\"agent-icon\" title=\"agent-icon\" /></a>\\n</div>\\n</div>\\n</div>\\n\\n<div class=\"single-room-sale listings-property\">\\n<div class=\"single-room-img\">\\n<a href=\"/property/4-bedroom-terraced-duplex-house-for-sale-lafiaji-lekki-lagos-8DZEV\" class=\"single-room-img-a\"> <img src=\"https://images.propertypro.ng/medium/brand-new-4-bedroom-terrace-duplex-with-bq-rJZhuX7AU3Grqe9eeK5L.jpeg\" title=\"4 bedroom Terraced Duplex House for sale Lafiaji Lekki Lagos\" alt=\"4 bedroom Terraced Duplex House for sale Lafiaji Lekki Lagos\" class=\"listings-img\" /> </a>\\n<div class=\"save-heart\">\\n<a href=\"/profile/add-favorite/553980\"><i class=\"fa fa-heart\"></i></a>\\n</div>\\n<div class=\"room-icons\">\\n<span><span>13</span> <img src=\"/assets/assets/img/property/2f8b655773948c43f77e8c928e94bbe3-img.png\" alt=\"icon\" /> </span>\\n</div>\\n\\n</div>\\n<div class=\"single-room-text\">\\n<a href=\"/property/4-bedroom-terraced-duplex-house-for-sale-lafiaji-lekki-lagos-8DZEV\"> <h2 class=\"listings-property-title\">4 BEDROOM TERRACED DUPLEX HOUSE FOR SALE</h2> </a>\\n<h4><img src=\"/assets/assets/img/resultpage/a6b70a0c1c4423f60780bdda189b91e3-location.svg\" alt=\"icon\" title=\"icon\" />LafiajiLekki Lagos</h4>\\n<h3 class=\"listings-property-title2\">Brand New 4 Bedroom Terrace Duplex with bq;</h3>\\n<div class=\"n50 \">\\n<h3 itemscope=\"\" itemtype=\"http://schema.org/Offer\" class=\"listings-price\"> <span itemprop=\"priceCurrency\" content=\"NGN\">₦</span> <span itemprop=\"price\" content=\"4.3E7\">43,000,000</span> </h3>\\n<h4>Premium Gold</h4>\\n</div>\\n<h5> <img src=\"/assets/assets/img/resultpage/03a0a19c8a1e23ef8d78f6130eb0aa22-watch-icon.png\" alt=\"icon\" title=\"icon\" /> Updated 04 Dec 2020, Added 30 Oct 2020 </h5>\\n<h2>PID: 8DZEV</h2>\\n<div class=\"furnished-btn\">\\n<a href=\"/property-for-sale/is-new\">Newly Built</a>\\n</div>\\n<div class=\"result-list-details\">\\n<p class=\"d-none d-sm-block\"> FOR SALE: Brand New 4 Bedroom Terrace Duplex with bq; Location: Lafiaji Price :N43m.. <a href=\"/property/4-bedroom-terraced-duplex-house-for-sale-lafiaji-lekki-lagos-8DZEV\">Read more</a> </p>\\n</div>\\n<div class=\"fur-areea\">\\n<span><img src=\"/assets/assets/img/resultpage/71e561d192ed8abb553ba6448816466d-beds.svg\" alt=\"bed-icon\" title=\"bed-icon\" />4 beds</span>\\n<span><img src=\"/assets/assets/img/resultpage/3945e8adbd5fbe44046a606d2dacd7ca-bath.svg\" alt=\"bath-icon\" title=\"bath-icon\" />4 baths</span>\\n<span><img src=\"/assets/assets/img/resultpage/0a8c8b34dbdfcc7b9d5eaeca83e87ebf-toilet.svg\" alt=\"toilet-icon\" title=\"toilet-icon\" />5 Toilets</span>\\n</div>\\n<div class=\"elite-icon\">\\n<a href=\"/agent/joeetoniru\"><img src=\"https://images.propertypro.ng/logo/zjO4IRffyvUG1zI97yG1.png\" alt=\"agent-icon\" title=\"agent-icon\" /></a>\\n</div>\\n</div>\\n</div>\\n\\n<div class=\"single-room-sale listings-property\">\\n<div class=\"single-room-img\">\\n<a href=\"/property/4-bedroom-terraced-duplex-house-for-sale-second-tollgate-lekki-lagos-0EBCM\" class=\"single-room-img-a\"> <img src=\"https://images.propertypro.ng/medium/nicely-built-4-bedroom-terrace-duplex-with-bq-2twzJCYDDjiZXaFm0jIC.jpeg\" title=\"4 bedroom Terraced Duplex House for sale Second Tollgate Lekki Lagos\" alt=\"4 bedroom Terraced Duplex House for sale Second Tollgate Lekki Lagos\" class=\"listings-img\" /> </a>\\n<div class=\"save-heart\">\\n<a href=\"/profile/add-favorite/564932\"><i class=\"fa fa-heart\"></i></a>\\n</div>\\n<div class=\"room-icons\">\\n<span><span>11</span> <img src=\"/assets/assets/img/property/2f8b655773948c43f77e8c928e94bbe3-img.png\" alt=\"icon\" /> </span>\\n</div>\\n\\n</div>\\n<div class=\"single-room-text\">\\n<a href=\"/property/4-bedroom-terraced-duplex-house-for-sale-second-tollgate-lekki-lagos-0EBCM\"> <h2 class=\"listings-property-title\">4 BEDROOM TERRACED DUPLEX HOUSE FOR SALE</h2> </a>\\n<h4><img src=\"/assets/assets/img/resultpage/a6b70a0c1c4423f60780bdda189b91e3-location.svg\" alt=\"icon\" title=\"icon\" />Second TollgateLekki Lagos</h4>\\n<h3 class=\"listings-property-title2\">Nicely Built 4 Bedroom Terrace Duplex with bq;</h3>\\n<div class=\"n50 \">\\n<h3 itemscope=\"\" itemtype=\"http://schema.org/Offer\" class=\"listings-price\"> <span itemprop=\"priceCurrency\" content=\"NGN\">₦</span> <span itemprop=\"price\" content=\"4.0E7\">40,000,000</span> </h3>\\n<h4>Premium Gold</h4>\\n</div>\\n<h5> <img src=\"/assets/assets/img/resultpage/03a0a19c8a1e23ef8d78f6130eb0aa22-watch-icon.png\" alt=\"icon\" title=\"icon\" /> Updated 04 Dec 2020, Added 24 Nov 2020 </h5>\\n<h2>PID: 0EBCM</h2>\\n<div class=\"furnished-btn\">\\n<a href=\"/property-for-sale/is-new\">Newly Built</a>\\n</div>\\n<div class=\"result-list-details\">\\n<p class=\"d-none d-sm-block\"> FOR SALE: Nicely Built 4 Bedroom Terrace Duplex with bq; Location: Second tollgate .. <a href=\"/property/4-bedroom-terraced-duplex-house-for-sale-second-tollgate-lekki-lagos-0EBCM\">Read more</a> </p>\\n</div>\\n<div class=\"fur-areea\">\\n<span><img src=\"/assets/assets/img/resultpage/71e561d192ed8abb553ba6448816466d-beds.svg\" alt=\"bed-icon\" title=\"bed-icon\" />4 beds</span>\\n<span><img src=\"/assets/assets/img/resultpage/3945e8adbd5fbe44046a606d2dacd7ca-bath.svg\" alt=\"bath-icon\" title=\"bath-icon\" />4 baths</span>\\n<span><img src=\"/assets/assets/img/resultpage/0a8c8b34dbdfcc7b9d5eaeca83e87ebf-toilet.svg\" alt=\"toilet-icon\" title=\"toilet-icon\" />5 Toilets</span>\\n</div>\\n<div class=\"elite-icon\">\\n<a href=\"/agent/joeetoniru\"><img src=\"https://images.propertypro.ng/logo/zjO4IRffyvUG1zI97yG1.png\" alt=\"agent-icon\" title=\"agent-icon\" /></a>\\n</div>\\n</div>\\n</div>\\n\\n<div class=\"single-room-sale listings-property\">\\n<div class=\"single-room-img\">\\n<a href=\"/property/5-bedroom-detached-duplex-house-for-sale-old-ikoyi-ikoyi-lagos-1EBEH\" class=\"single-room-img-a\"> <img src=\"https://images.propertypro.ng/medium/brand-new-5-bedroom-detached-duplex-with-2-rooms-bq-pI7gEFXdGjlVuwN2d7O1.jpeg\" title=\"5 bedroom Detached Duplex House for sale Old Ikoyi Ikoyi Lagos\" alt=\"5 bedroom Detached Duplex House for sale Old Ikoyi Ikoyi Lagos\" class=\"listings-img\" /> </a>\\n<div class=\"save-heart\">\\n<a href=\"/profile/add-favorite/565373\"><i class=\"fa fa-heart\"></i></a>\\n</div>\\n<div class=\"room-icons\">\\n<span><span>19</span> <img src=\"/assets/assets/img/property/2f8b655773948c43f77e8c928e94bbe3-img.png\" alt=\"icon\" /> </span>\\n</div>\\n\\n</div>\\n<div class=\"single-room-text\">\\n<a href=\"/property/5-bedroom-detached-duplex-house-for-sale-old-ikoyi-ikoyi-lagos-1EBEH\"> <h2 class=\"listings-property-title\">5 BEDROOM DETACHED DUPLEX HOUSE FOR SALE</h2> </a>\\n<h4><img src=\"/assets/assets/img/resultpage/a6b70a0c1c4423f60780bdda189b91e3-location.svg\" alt=\"icon\" title=\"icon\" />Old Ikoyi Ikoyi Lagos</h4>\\n<h3 class=\"listings-property-title2\">Brand New 5 Bedroom Detached Duplex with 2 rooms Bq </h3>\\n<div class=\"n50 \">\\n<h3 itemscope=\"\" itemtype=\"http://schema.org/Offer\" class=\"listings-price\"> <span itemprop=\"priceCurrency\" content=\"NGN\">₦</span> <span itemprop=\"price\" content=\"5.95E8\">595,000,000</span> </h3>\\n<h4>Premium Gold</h4>\\n</div>\\n<h5> <img src=\"/assets/assets/img/resultpage/03a0a19c8a1e23ef8d78f6130eb0aa22-watch-icon.png\" alt=\"icon\" title=\"icon\" /> Updated 04 Dec 2020, Added 25 Nov 2020 </h5>\\n<h2>PID: 1EBEH</h2>\\n<div class=\"furnished-btn\">\\n<a href=\"/property-for-sale/is-new\">Newly Built</a>\\n</div>\\n<div class=\"result-list-details\">\\n<p class=\"d-none d-sm-block\"> FOR SALE: Brand New 5 Bedroom Detached Duplex with 2 rooms Bq Location: Old Ikoyi. .. <a href=\"/property/5-bedroom-detached-duplex-house-for-sale-old-ikoyi-ikoyi-lagos-1EBEH\">Read more</a> </p>\\n</div>\\n<div class=\"fur-areea\">\\n<span><img src=\"/assets/assets/img/resultpage/71e561d192ed8abb553ba6448816466d-beds.svg\" alt=\"bed-icon\" title=\"bed-icon\" />5 beds</span>\\n<span><img src=\"/assets/assets/img/resultpage/3945e8adbd5fbe44046a606d2dacd7ca-bath.svg\" alt=\"bath-icon\" title=\"bath-icon\" />5 baths</span>\\n<span><img src=\"/assets/assets/img/resultpage/0a8c8b34dbdfcc7b9d5eaeca83e87ebf-toilet.svg\" alt=\"toilet-icon\" title=\"toilet-icon\" />6 Toilets</span>\\n</div>\\n<div class=\"elite-icon\">\\n<a href=\"/agent/joeetoniru\"><img src=\"https://images.propertypro.ng/logo/zjO4IRffyvUG1zI97yG1.png\" alt=\"agent-icon\" title=\"agent-icon\" /></a>\\n</div>\\n</div>\\n</div>\\n\\n<div class=\"single-room-sale listings-property\">\\n<div class=\"single-room-img\">\\n<a href=\"/property/3-bedroom-blocks-of-flats-house-for-sale-osapa-london-lekki-osapa-london-lekki-lagos-4EBVS\" class=\"single-room-img-a\"> <img src=\"https://images.propertypro.ng/medium/3bedroom-serviced-apartments-in-osapa-london-lekki-eMJJGjRChfEmrfpYyz87.jpg\" title=\"3 bedroom Blocks of Flats House for sale Osapa london lekki Osapa london Lekki Lagos\" alt=\"3 bedroom Blocks of Flats House for sale Osapa london lekki Osapa london Lekki Lagos\" class=\"listings-img\" /> </a>\\n<div class=\"save-heart\">\\n<a href=\"/profile/add-favorite/569059\"><i class=\"fa fa-heart\"></i></a>\\n</div>\\n<div class=\"room-icons\">\\n<span><span>10</span> <img src=\"/assets/assets/img/property/2f8b655773948c43f77e8c928e94bbe3-img.png\" alt=\"icon\" /> </span>\\n</div>\\n\\n</div>\\n<div class=\"single-room-text\">\\n<a href=\"/property/3-bedroom-blocks-of-flats-house-for-sale-osapa-london-lekki-osapa-london-lekki-lagos-4EBVS\"> <h2 class=\"listings-property-title\">3 BEDROOM BLOCKS OF FLATS HOUSE FOR SALE</h2> </a>\\n<h4><img src=\"/assets/assets/img/resultpage/a6b70a0c1c4423f60780bdda189b91e3-location.svg\" alt=\"icon\" title=\"icon\" />Osapa london lekkiOsapa London Lekki Lagos</h4>\\n<h3 class=\"listings-property-title2\">3BEDROOM SERVICED APARTMENTS IN OSAPA LONDON LEKKI</h3>\\n<div class=\"n50 \">\\n<h3 itemscope=\"\" itemtype=\"http://schema.org/Offer\" class=\"listings-price\"> <span itemprop=\"priceCurrency\" content=\"NGN\">₦</span> <span itemprop=\"price\" content=\"4.0E7\">40,000,000</span> </h3>\\n<h4>Premium Gold</h4>\\n</div>\\n<h5> <img src=\"/assets/assets/img/resultpage/03a0a19c8a1e23ef8d78f6130eb0aa22-watch-icon.png\" alt=\"icon\" title=\"icon\" /> Added 03 Dec 2020 </h5>\\n<h2>PID: 4EBVS</h2>\\n<div class=\"furnished-btn\">\\n<a href=\"/property-for-sale/is-serviced\">Serviced</a>\\n<a href=\"/property-for-sale/is-new\">Newly Built</a>\\n</div>\\n<div class=\"result-list-details\">\\n<p class=\"d-none d-sm-block\"> FOR SALE: A lovely built 3bedroom flat in a lovely gated estate in osapa london lekki with.. <a href=\"/property/3-bedroom-blocks-of-flats-house-for-sale-osapa-london-lekki-osapa-london-lekki-lagos-4EBVS\">Read more</a> </p>\\n</div>\\n<div class=\"fur-areea\">\\n<span><img src=\"/assets/assets/img/resultpage/71e561d192ed8abb553ba6448816466d-beds.svg\" alt=\"bed-icon\" title=\"bed-icon\" />3 beds</span>\\n<span><img src=\"/assets/assets/img/resultpage/3945e8adbd5fbe44046a606d2dacd7ca-bath.svg\" alt=\"bath-icon\" title=\"bath-icon\" />3 baths</span>\\n<span><img src=\"/assets/assets/img/resultpage/0a8c8b34dbdfcc7b9d5eaeca83e87ebf-toilet.svg\" alt=\"toilet-icon\" title=\"toilet-icon\" />4 Toilets</span>\\n</div>\\n<div class=\"elite-icon\">\\n<a href=\"/agent/ambicorp-international-service-limited1\"><img src=\"https://images.propertypro.ng/logo/54eb4a82-2052-4c90-90f7-6f72e7f6de1fAb.png\" alt=\"agent-icon\" title=\"agent-icon\" /></a>\\n</div>\\n</div>\\n</div>\\n\\n<div class=\"single-room-sale listings-property\">\\n<div class=\"single-room-img\">\\n<a href=\"/property/4-bedroom-semi-detached-duplex-house-for-sale-platium-way-by-nicon-town-ikate-elegushi-ikate-lekki-lagos-0EBVR\" class=\"single-room-img-a\"> <img src=\"https://images.propertypro.ng/medium/4bedroom-semi-detached-house-with-a-room-bq-in-ikate-elegushi-by-nicon-estate-VQVOyLg2iwNxGnF2nQRY.jpg\" title=\"4 bedroom Semi Detached Duplex House for sale Platium way by NICON town ikate elegushi Ikate Lekki Lagos\" alt=\"4 bedroom Semi Detached Duplex House for sale Platium way by NICON town ikate elegushi Ikate Lekki Lagos\" class=\"listings-img\" /> </a>\\n<div class=\"save-heart\">\\n<a href=\"/profile/add-favorite/569045\"><i class=\"fa fa-heart\"></i></a>\\n</div>\\n<div class=\"room-icons\">\\n<span><span>4</span> <img src=\"/assets/assets/img/property/2f8b655773948c43f77e8c928e94bbe3-img.png\" alt=\"icon\" /> </span>\\n</div>\\n\\n</div>\\n<div class=\"single-room-text\">\\n<a href=\"/property/4-bedroom-semi-detached-duplex-house-for-sale-platium-way-by-nicon-town-ikate-elegushi-ikate-lekki-lagos-0EBVR\"> <h2 class=\"listings-property-title\">4 BEDROOM SEMI DETACHED DUPLEX HOUSE FOR SALE</h2> </a>\\n<h4><img src=\"/assets/assets/img/resultpage/a6b70a0c1c4423f60780bdda189b91e3-location.svg\" alt=\"icon\" title=\"icon\" />Platium way by NICON town ikate elegushiIkate Lekki Lagos</h4>\\n<h3 class=\"listings-property-title2\">4BEDROOM SEMI DETACHED HOUSE WITH A ROOM BQ IN IKATE ELEGUSHI BY NICON ESTATE</h3>\\n<div class=\"n50 \">\\n<h3 itemscope=\"\" itemtype=\"http://schema.org/Offer\" class=\"listings-price\"> <span itemprop=\"priceCurrency\" content=\"NGN\">₦</span> <span itemprop=\"price\" content=\"8.0E7\">80,000,000</span> </h3>\\n<h4>Premium Gold</h4>\\n</div>\\n<h5> <img src=\"/assets/assets/img/resultpage/03a0a19c8a1e23ef8d78f6130eb0aa22-watch-icon.png\" alt=\"icon\" title=\"icon\" /> Added 03 Dec 2020 </h5>\\n<h2>PID: 0EBVR</h2>\\n<div class=\"furnished-btn\">\\n<a href=\"/property-for-sale/is-new\">Newly Built</a>\\n</div>\\n<div class=\"result-list-details\">\\n<p class=\"d-none d-sm-block\"> FOR SALE: A newly built 4bedroom semi detached house with a room bq in a lovely location w.. <a href=\"/property/4-bedroom-semi-detached-duplex-house-for-sale-platium-way-by-nicon-town-ikate-elegushi-ikate-lekki-lagos-0EBVR\">Read more</a> </p>\\n</div>\\n<div class=\"fur-areea\">\\n<span><img src=\"/assets/assets/img/resultpage/71e561d192ed8abb553ba6448816466d-beds.svg\" alt=\"bed-icon\" title=\"bed-icon\" />4 beds</span>\\n<span><img src=\"/assets/assets/img/resultpage/3945e8adbd5fbe44046a606d2dacd7ca-bath.svg\" alt=\"bath-icon\" title=\"bath-icon\" />5 baths</span>\\n<span><img src=\"/assets/assets/img/resultpage/0a8c8b34dbdfcc7b9d5eaeca83e87ebf-toilet.svg\" alt=\"toilet-icon\" title=\"toilet-icon\" />5 Toilets</span>\\n</div>\\n<div class=\"elite-icon\">\\n<a href=\"/agent/ambicorp-international-service-limited1\"><img src=\"https://images.propertypro.ng/logo/54eb4a82-2052-4c90-90f7-6f72e7f6de1fAb.png\" alt=\"agent-icon\" title=\"agent-icon\" /></a>\\n</div>\\n</div>\\n</div>\\n\\n<div class=\"single-room-sale listings-property\">\\n<div class=\"single-room-img\">\\n<a href=\"/property/5-bedroom-detached-duplex-house-for-sale-close-107-plot-m22-banana-island-ikoyi-lagos-4CQZM\" class=\"single-room-img-a\"> <img src=\"https://images.propertypro.ng/medium/five-5-bedrooms-luxury-detached-houses-Kxi8wSohzdknT7Wwohoy.png\" title=\"5 bedroom Detached Duplex House for sale Close 107 Plot M22 Banana Island Ikoyi Lagos\" alt=\"5 bedroom Detached Duplex House for sale Close 107 Plot M22 Banana Island Ikoyi Lagos\" class=\"listings-img\" /> </a>\\n<div class=\"save-heart\">\\n<a href=\"/profile/add-favorite/368482\"><i class=\"fa fa-heart\"></i></a>\\n</div>\\n<div class=\"room-icons\">\\n<span><span>15</span> <img src=\"/assets/assets/img/property/2f8b655773948c43f77e8c928e94bbe3-img.png\" alt=\"icon\" /> </span>\\n</div>\\n\\n</div>\\n<div class=\"single-room-text\">\\n<a href=\"/property/5-bedroom-detached-duplex-house-for-sale-close-107-plot-m22-banana-island-ikoyi-lagos-4CQZM\"> <h2 class=\"listings-property-title\">5 BEDROOM DETACHED DUPLEX HOUSE FOR SALE</h2> </a>\\n<h4><img src=\"/assets/assets/img/resultpage/a6b70a0c1c4423f60780bdda189b91e3-location.svg\" alt=\"icon\" title=\"icon\" />Close 107 Plot M22Banana Island Ikoyi Lagos</h4>\\n<h3 class=\"listings-property-title2\">Five (5) Bedrooms Luxury Detached Houses</h3>\\n<div class=\"n50 \">\\n<h3 itemscope=\"\" itemtype=\"http://schema.org/Offer\" class=\"listings-price\"> <span itemprop=\"priceCurrency\" content=\"NGN\">₦</span> <span itemprop=\"price\" content=\"5.2E8\">520,000,000</span> </h3>\\n<h4>Premium Gold</h4>\\n</div>\\n<h5> <img src=\"/assets/assets/img/resultpage/03a0a19c8a1e23ef8d78f6130eb0aa22-watch-icon.png\" alt=\"icon\" title=\"icon\" /> Updated 03 Dec 2020, Added 27 Sep 2019 </h5>\\n<h2>PID: 4CQZM</h2>\\n<div class=\"furnished-btn\">\\n<a href=\"/property-for-sale/is-new\">Newly Built</a>\\n</div>\\n<div class=\"result-list-details\">\\n<p class=\"d-none d-sm-block\"> FOR SALE: The Address Homes Banana Island, Ikoyi within the mixed development zone. It con.. <a href=\"/property/5-bedroom-detached-duplex-house-for-sale-close-107-plot-m22-banana-island-ikoyi-lagos-4CQZM\">Read more</a> </p>\\n</div>\\n<div class=\"fur-areea\">\\n<span><img src=\"/assets/assets/img/resultpage/71e561d192ed8abb553ba6448816466d-beds.svg\" alt=\"bed-icon\" title=\"bed-icon\" />5 beds</span>\\n<span><img src=\"/assets/assets/img/resultpage/3945e8adbd5fbe44046a606d2dacd7ca-bath.svg\" alt=\"bath-icon\" title=\"bath-icon\" />5 baths</span>\\n<span><img src=\"/assets/assets/img/resultpage/0a8c8b34dbdfcc7b9d5eaeca83e87ebf-toilet.svg\" alt=\"toilet-icon\" title=\"toilet-icon\" />6 Toilets</span>\\n</div>\\n<div class=\"elite-icon\">\\n<a href=\"/agent/the-address-homes\"><img src=\"https://images.propertypro.ng/logo/Y1Gf6n8RvXLPAS3uAaMt.png\" alt=\"agent-icon\" title=\"agent-icon\" /></a>\\n</div>\\n</div>\\n</div>\\n\\n<div class=\"neighbourhood-area hide\" id=\"n-area\">\\n<div class=\"neighbourhood-top\">\\n<div class=\"neighbourhood-top-left\">\\n<img id=\"n-img\" src=\"\" />\\n<div class=\"abuja-text\">\\n<h3 id=\"n-title\"></h3>\\n\\n</div>\\n</div>\\n<div class=\"neighbourhood-top-right\">\\n\\n<div class=\"neighbourhood-top-right-left\" id=\"n-desc\">\\n\\n</div>\\n</div>\\n</div>\\n<div class=\"neighbourhood-bottom\">\\n<p>\\n </p>\\n<a class=\"explore\" href=\"#\" id=\"n-link\">Explore Neighbourhood</a>\\n</div>\\n</div>\\n<div class=\"single-servicepage margin-b-30\">\\n<div class=\"graph-area\">\\n\\n<h3>Insight for (lagos) house for sale </h3>\\n<div class=\"graph-left\">\\n<div class=\"single-graph\">\\n<h5>MEDIAN PRICE</h5>\\n<h3> N60.M </h3>\\n</div>\\n<div class=\"single-graph\">\\n<h5>ENTRY PRICE</h5>\\n<h3> N500K </h3>\\n</div>\\n<div class=\"single-graph\">\\n<h5>HIGH PRICE</h5>\\n<h3> N1B </h3>\\n</div>\\n</div>\\n<div class=\"graph-right\">\\n<div id=\"morris-one-line-chart\"></div>\\n</div>\\n</div>\\n</div>\\n<div class=\"all-pro-text\">\\n<a href=\"/property-for-sale/house/?search=lagos&amp;bedroom=&amp;min_price=&amp;max_price=&amp;page=1\">View more properties</a>\\n</div>\\n\\n<div class=\"pagination-area\">\\n<nav aria-label=\"Page navigation \">\\n<ul class=\"pagination\">\\n<li class=\"page-item\"> <a class=\"page-link\" href=\"/property-for-sale/house/?search=lagos&amp;bedroom=&amp;min_price=&amp;max_price=\">⋘</a> </li>\\n<li class=\"page-item\"><span class=\"page-link page-active\">1</span></li>\\n<li class=\"page-item\"><a class=\"page-link\" alt=\"2 property page\" href=\"/property-for-sale/house/?search=lagos&amp;bedroom=&amp;min_price=&amp;max_price=&amp;page=1\">2</a></li>\\n<li class=\"page-item\"><a class=\"page-link\" alt=\"3 property page\" href=\"/property-for-sale/house/?search=lagos&amp;bedroom=&amp;min_price=&amp;max_price=&amp;page=2\">3</a></li>\\n<li class=\"page-item\"><a class=\"page-link\" alt=\"4 property page\" href=\"/property-for-sale/house/?search=lagos&amp;bedroom=&amp;min_price=&amp;max_price=&amp;page=3\">4</a></li>\\n<li class=\"page-item\"> <span class=\"page-link\">...</span> </li>\\n<li class=\"page-item\"> <a class=\"page-link\" alt=\"view next property page\" href=\"/property-for-sale/house/?search=lagos&amp;bedroom=&amp;min_price=&amp;max_price=&amp;page=1\"> <span aria-hidden=\"true\">&raquo;</span> <span class=\"sr-only\">Next</span> </a> </li>\\n<li class=\"page-item\"> <a class=\"page-link\" href=\"/property-for-sale/house/?search=lagos&amp;bedroom=&amp;min_price=&amp;max_price=&amp;page=735\" tabindex=\"-1\">⋙</a> </li>\\n</ul>\\n</nav>\\n</div>\\n<div class=\"neighbourhood-guid margin-b-30\">\\n<div class=\"nei-guid-top\">\\n<div class=\"guide-img\">\\n<img src=\"/assets/assets/img/property/3a6f075cc835a6836aa72cf132a3d28a-explore-img.png\" alt=\"img\" />\\n</div>\\n<div class=\"guide-text guid-top-text\">\\n<h2>Semi Detached Apartments For Sale In Nigeria - Tastefully Built Real Estate Investment </h2>\\n</div>\\n</div>\\n<div class=\"nei-guid-text\">\\n<p> <span id=\"docs-internal-guid-ceaf38eb-5932-217c-ef5d-4676fd8c20f4\"></span></p>\\n<p dir=\"ltr\" style=\"text-align: justify; line-height: 1.38; margin-top: 0pt; margin-bottom: 0pt;\"><span style=\"font-size: 11pt; font-family: Arial; color: rgb(0, 0, 0); background-color: transparent; vertical-align: baseline; white-space: pre-wrap;\">Apartment such as the semi-detached house is built building sharing a side wall. Semi detached house is the direct opposite of the detached apartment because a detached apartment is such that no walls are being shared. Houses of this such are luxurious and could come in the form of bungalow or duplex where the floors are linked with an ensuite staircase and also with state of the art finishings. </span></p>\\n<p dir=\"ltr\" style=\"text-align: justify; line-height: 1.38; margin-top: 0pt; margin-bottom: 0pt;\"><span style=\"font-size: 11pt; font-family: Arial; color: rgb(0, 0, 0); background-color: transparent; vertical-align: baseline; white-space: pre-wrap;\"><br /></span></p>\\n<p dir=\"ltr\" style=\"text-align: justify; line-height: 1.38; margin-top: 0pt; margin-bottom: 0pt;\"><span style=\"font-size: 11pt; font-family: Arial; color: rgb(0, 0, 0); background-color: transparent; vertical-align: baseline; white-space: pre-wrap;\">Semi-detached houses are not numerous in number and are mostly seen in the neighbourhood of the affluent Nigerians. They are tastefully built having about three(3) to five(5) rooms with toilet and bathroom each, living room, kitchen, dining room and a guest toilet. Getting an apartment such as this is a step to live a luxury life.</span></p>\\n<p dir=\"ltr\" style=\"text-align: justify; line-height: 1.38; margin-top: 0pt; margin-bottom: 0pt;\"><span style=\"font-size: 11pt; font-family: Arial; color: rgb(0, 0, 0); background-color: transparent; vertical-align: baseline; white-space: pre-wrap;\"><br /></span></p>\\n<p dir=\"ltr\" style=\"text-align: justify; line-height: 1.38; margin-top: 0pt; margin-bottom: 0pt;\"><span style=\"font-size: 11pt; font-family: Arial; color: rgb(0, 0, 0); background-color: transparent; vertical-align: baseline; white-space: pre-wrap;\"><span style=\"font-weight: bold;\">Semi-detached apartment for sale in Nigeria</span> is a more affordable option compared to a detached home and it is an ideal option for individuals and families who are opting for something different and more affordable than a detached home.</span><span style=\"background-color: transparent; color: rgb(0, 0, 0); font-family: Arial; font-size: 11pt; white-space: pre-wrap;\">There are beautifully built semi detached apartment for sale in Nigeria which comes with a stylish approach to help you define your class. They are available in </span><a href=\"https://www.propertypro.ng/property-for-sale/ogun/semi-detached-house\" target=\"_blank\" style=\"font-size: 11pt; white-space: pre-wrap;\">Ogun</a><span style=\"background-color: transparent; color: rgb(0, 0, 0); font-family: Arial; font-size: 11pt; white-space: pre-wrap;\">, </span><a href=\"https://www.propertypro.ng/property-for-sale/abuja/semi-detached-house\" target=\"_blank\" style=\"font-size: 11pt; white-space: pre-wrap;\">Abuja</a><span style=\"background-color: transparent; color: rgb(0, 0, 0); font-family: Arial; font-size: 11pt; white-space: pre-wrap;\">, </span><a href=\"https://www.propertypro.ng/property-for-sale/lagos/semi-detached-house\" target=\"_blank\" style=\"font-size: 11pt; white-space: pre-wrap;\">Lagos&nbsp;</a><span style=\"background-color: transparent; color: rgb(0, 0, 0); font-family: Arial; font-size: 11pt; white-space: pre-wrap;\">and </span><a href=\"https://www.propertypro.ng/property-for-sale/cross-river/semi-detached-house\" target=\"_blank\" style=\"font-size: 11pt; white-space: pre-wrap;\">Cross River state</a><span style=\"background-color: transparent; color: rgb(0, 0, 0); font-family: Arial; font-size: 11pt; white-space: pre-wrap;\"> </span><span style=\"background-color: transparent; color: rgb(0, 0, 0); font-family: Arial; font-size: 11pt; white-space: pre-wrap; font-weight: bold;\">priced between </span><span style=\"background-color: transparent; color: rgb(0, 0, 0); font-family: Arial; font-size: 11pt; white-space: pre-wrap;\">N3,900,000 to N250,000,000.</span></p>\\n<div style=\"text-align: justify; \">\\n<span style=\"font-size: 11pt; font-family: Arial; color: rgb(0, 0, 0); background-color: transparent; vertical-align: baseline; white-space: pre-wrap;\"><br /></span>\\n</div>\\n<p></p>\\n</div>\\n\\n</div>\\n</div>\\n</div>\\n</div>\\n<div class=\"col-xl-4\">\\n<div class=\"property-right-sidebar\">\\n\\n<div class=\"single-get-area\">\\n<div class=\"get-area\">\\n<h2><img src=\"/assets/assets/img/resultpage/271d316c96840f276250729a9688f27a-property-icon.svg\" alt=\"icon\" />Get Latest Properties</h2>\\n<h6>Receive alerts when we have new <br />properties available for (lagos) house for sale </h6>\\n</div>\\n<div class=\"sub-area\">\\n<form action=\"/notify\" method=\"POST\">\\n<div class=\"form-group\">\\n<input type=\"text\" name=\"name\" required=\"required\" class=\"form-control\" placeholder=\"Enter your Name\" value=\"\" />\\n<br />\\n<input type=\"email\" name=\"email\" required=\"required\" class=\"form-control\" placeholder=\"Enter your Email Address\" value=\"\" />\\n<input type=\"hidden\" name=\"mode\" value=\"sale\" />\\n<input type=\"hidden\" name=\"search\" value=\"lagos\" />\\n<input type=\"hidden\" name=\"state\" value=\"\" />\\n<input type=\"hidden\" name=\"axis\" value=\"\" />\\n<input type=\"hidden\" name=\"area\" value=\"\" />\\n<input type=\"hidden\" name=\"type\" value=\"13\" />\\n<input type=\"hidden\" name=\"beds\" value=\"\" />\\n<input type=\"hidden\" name=\"min_price\" value=\"\" />\\n<input type=\"hidden\" name=\"max_price\" value=\"\" />\\n</div>\\n<button class=\"alert2-btn\" type=\"button\">Subscribe Now</button>\\n</form>\\n</div>\\n</div>\\n\\n<div class=\"single-get-area\">\\n<div class=\"get-area\">\\n<h2><img src=\"/assets/assets/img/resultpage/bc33fd6789f34d27064f55e4c4292699-search.svg\" alt=\"icon\" />Can’t Find what You <br /> Are Looking For?</h2>\\n</div>\\n<div class=\"post-btn\">\\n<a href=\"/post-request\">Post a Request</a>\\n</div>\\n</div>\\n\\n<div class=\"single-get-area\">\\n<div class=\"property-table\">\\n<h5>Currently Available (lagos) house for sale </h5>\\n<table>\\n<tbody>\\n<tr>\\n<td>Types</td>\\n<td>1 bed</td>\\n<td>2 bed</td>\\n<td>3 bed</td>\\n<td>4 bed</td>\\n<td>5 bed</td>\\n</tr>\\n<tr>\\n<td><a href=\"/property-for-sale/flat-apartment?search=lagos&amp;bedroom=&amp;min_price=&amp;max_price=\">Flats</a></td>\\n<td><a href=\"/property-for-sale/flat-apartment/1-bedroom?search=lagos&amp;min_price=&amp;max_price=\">149</a></td>\\n<td><a href=\"/property-for-sale/flat-apartment/2-bedroom?search=lagos&amp;min_price=&amp;max_price=\">419</a></td>\\n<td><a href=\"/property-for-sale/flat-apartment/3-bedroom?search=lagos&amp;min_price=&amp;max_price=\">1118</a></td>\\n<td><a href=\"/property-for-sale/flat-apartment/4-bedroom?search=lagos&amp;min_price=&amp;max_price=\">268</a></td>\\n<td><a href=\"/property-for-sale/flat-apartment/5-bedroom?search=lagos&amp;min_price=&amp;max_price=\">70</a></td>\\n</tr>\\n<tr>\\n<td><a href=\"/property-for-sale/house?search=lagos&amp;bedroom=&amp;min_price=&amp;max_price=\">Houses</a></td>\\n<td><a href=\"/property-for-sale/house/1-bedroom?search=lagos&amp;min_price=&amp;max_price=\">39</a></td>\\n<td><a href=\"/property-for-sale/house/2-bedroom?search=lagos&amp;min_price=&amp;max_price=\">377</a></td>\\n<td><a href=\"/property-for-sale/house/3-bedroom?search=lagos&amp;min_price=&amp;max_price=\">1727</a></td>\\n<td><a href=\"/property-for-sale/house/4-bedroom?search=lagos&amp;min_price=&amp;max_price=\">5289</a></td>\\n<td><a href=\"/property-for-sale/house/5-bedroom?search=lagos&amp;min_price=&amp;max_price=\">3825</a></td>\\n</tr>\\n </tbody>\\n</table>\\n</div>\\n</div>\\n\\n<div class=\"single-get-area\">\\n<div class=\"accordion\" id=\"accordion\">\\n<div class=\"exploring-search\">\\n<h6><strong>States</strong></h6>\\n<a href=\"/property-for-sale/in/lagos\">Lagos</a>\\n<a href=\"/property-for-sale/in/abuja\">Abuja</a>\\n<a href=\"/property-for-sale/in/ogun\">Ogun</a>\\n<a href=\"/property-for-sale/in/oyo\">Oyo</a>\\n<a href=\"/property-for-sale/in/rivers\">Rivers</a>\\n<a href=\"/property-for-sale/in/delta\">Delta</a>\\n<a href=\"/property-for-sale/in/enugu\">Enugu</a>\\n<a href=\"/property-for-sale/in/imo\">Imo</a>\\n<a href=\"/property-for-sale/in/edo\">Edo</a>\\n<a href=\"/property-for-sale/in/akwa-ibom\">Akwa Ibom</a>\\n<a href=\"/property-for-sale/in/anambra\">Anambra</a>\\n<a href=\"/property-for-sale/in/ondo\">Ondo</a>\\n<a href=\"/property-for-sale/in/osun\">Osun</a>\\n<a href=\"/property-for-sale/in/kaduna\">Kaduna</a>\\n<a href=\"/property-for-sale/in/kwara\">Kwara</a>\\n<a href=\"/property-for-sale/in/nassarawa\">Nassarawa</a>\\n<a href=\"/property-for-sale/in/cross-river\">Cross River</a>\\n<a href=\"/property-for-sale/in/abia\">Abia</a>\\n<a href=\"/property-for-sale/in/plateau\">Plateau</a>\\n<a href=\"/property-for-sale/in/ekiti\">Ekiti</a>\\n<a href=\"/property-for-sale/in/bayelsa\">Bayelsa</a>\\n<a href=\"/property-for-sale/in/benue\">Benue</a>\\n<a href=\"/property-for-sale/in/kogi\">Kogi</a>\\n<a href=\"/property-for-sale/in/niger\">Niger</a>\\n<a href=\"/property-for-sale/in/kano\">Kano</a>\\n<a href=\"/property-for-sale/in/ebonyi\">Ebonyi</a>\\n<a href=\"/property-for-sale/in/adamawa\">Adamawa</a>\\n<a href=\"/property-for-sale/in/bauchi\">Bauchi</a>\\n<a href=\"/property-for-sale/in/sokoto\">Sokoto</a>\\n<a href=\"/property-for-sale/in/taraba\">Taraba</a>\\n<a href=\"/property-for-sale/in/kebbi\">Kebbi</a>\\n<a href=\"/property-for-sale/in/zamfara\">Zamfara</a>\\n</div>\\n</div>\\n</div>\\n\\n\\n<div class=\"single-get-area\">\\n<div class=\"refine-form get-refine-form\">\\n<form action=\"/property-search.htm\" method=\"get\">\\n<div class=\"form-group\">\\n<input name=\"search\" value=\"lagos\" autocomplete=\"off\" type=\"text\" class=\"form-control searchInput\" placeholder=\"Enter Location\" />\\n</div>\\n<div class=\"justify-block\">\\n<div class=\"s-service-select\">\\n<select class=\"classic\" name=\"category\"> <option value=\"\">Category</option> <option value=\"sale\" selected=\"\">For Sale</option> <option value=\"rent\">For Rent</option> <option value=\"shortlet\">For Shortlet</option> </select>\\n</div>\\n<div class=\"s-service-select\">\\n<select class=\"classic\" name=\"state\"> <option value=\"\">State</option> <option value=\"lagos\">Lagos </option> <option value=\"abuja\">Abuja </option> <option value=\"rivers\">Rivers </option> <option value=\"ogun\">Ogun </option> <option value=\"oyo\">Oyo </option> <option value=\"anambra\">Anambra </option> <option value=\"enugu\">Enugu </option> <option value=\"akwa-ibom\">Akwa Ibom </option> <option value=\"adamawa\">Adamawa </option> <option value=\"abia\">Abia </option> <option value=\"bauchi\">Bauchi </option> <option value=\"bayelsa\">Bayelsa </option> <option value=\"benue\">Benue </option> <option value=\"borno\">Borno </option> <option value=\"cross-river\">Cross River </option> <option value=\"delta\">Delta </option> <option value=\"ebonyi\">Ebonyi </option> <option value=\"edo\">Edo </option> <option value=\"ekiti\">Ekiti </option> <option value=\"gombe\">Gombe </option> <option value=\"imo\">Imo </option> <option value=\"jigawa\">Jigawa </option> <option value=\"kaduna\">Kaduna </option> <option value=\"kano\">Kano </option> <option value=\"katsina\">Katsina </option> <option value=\"kebbi\">Kebbi </option> <option value=\"kogi\">Kogi </option> <option value=\"kwara\">Kwara </option> <option value=\"nassarawa\">Nassarawa </option> <option value=\"niger\">Niger </option> <option value=\"ondo\">Ondo </option> <option value=\"osun\">Osun </option> <option value=\"plateau\">Plateau </option> <option value=\"sokoto\">Sokoto </option> <option value=\"taraba\">Taraba </option> <option value=\"yobe\">Yobe </option> <option value=\"zamfara\">Zamfara </option> </select>\\n</div>\\n</div>\\n<div class=\"justify-block\">\\n<div class=\"s-service-select\">\\n<select class=\"classic\" name=\"type\"> <option value=\"\">Type</option> <option value=\"commercial-property/shop\">Shop</option> <option value=\"commercial-property/office-space\">Office Spaces</option> <option value=\"flat-apartment\">Flats and Apartments</option> <option value=\"land\">Lands</option> <option value=\"house/semi-detached-bungalow\">Semi Detached Bungalow</option> <option value=\"house/semi-detached-duplex\">Semi Detached Duplex</option> <option value=\"co-working-space\">Co-working Space</option> <option value=\"house/detached-bungalow\">Detached Bungalow</option> <option value=\"commercial-property/warehouse\">Warehouse</option> <option value=\"commercial-property/shop-in-a-mall\">Shop In A Mall</option> <option value=\"flat-apartment/self-contain\">Self Contain</option> <option value=\"flat-apartment/mini-flat\">Mini Flats</option> <option value=\"house/detached-duplex\">Detached Duplex</option> <option value=\"house\" selected=\"\">Houses</option> <option value=\"house/terraced-bungalow\">Terraced Bungalow</option> <option value=\"commercial-property\">Commercial Properties</option> <option value=\"house/terraced-duplex\">Terraced Duplex</option> </select>\\n</div>\\n<div class=\"s-service-select\">\\n<select class=\"classic\" name=\"bedroom\"> <option value=\"\">Beds</option> <option value=\"1\">1 </option> <option value=\"2\">2 </option> <option value=\"3\">3 </option> <option value=\"4\">4 </option> <option value=\"5\">5 </option> <option value=\"6\">6 </option> <option value=\"7\">7 </option> <option value=\"8\">8 </option> <option value=\"9\">9 </option> <option value=\"10\">10 </option> </select>\\n</div>\\n</div>\\n<div class=\"justify-block\">\\n<div class=\"s-service-select\">\\n<select class=\"classic\" name=\"min_price\"> <option value=\"\">Min Price</option> <option value=\"50000\">50,000 </option> <option value=\"100000\">100,000 </option> <option value=\"200000\">200,000 </option> <option value=\"300000\">300,000 </option> <option value=\"400000\">400,000 </option> <option value=\"500000\">500,000 </option> <option value=\"600000\">600,000 </option> <option value=\"700000\">700,000 </option> <option value=\"800000\">800,000 </option> <option value=\"900000\">900,000 </option> <option value=\"1000000\">1million </option> <option value=\"2000000\">2million </option> <option value=\"3000000\">3million </option> <option value=\"5000000\">5million </option> <option value=\"10000000\">10million </option> <option value=\"20000000\">20million </option> <option value=\"30000000\">30million </option> <option value=\"40000000\">40million </option> <option value=\"50000000\">50million </option> <option value=\"100000000\">100million </option> </select>\\n\\n</div>\\n<div class=\"s-service-select\">\\n<select class=\"classic\" name=\"max_price\"> <option value=\"\">Max price</option> <option value=\"500000\">500,000 </option> <option value=\"600000\">600,000 </option> <option value=\"700000\">700,000 </option> <option value=\"800000\">800,000 </option> <option value=\"900000\">900,000 </option> <option value=\"1000000\">1million </option> <option value=\"2000000\">2million </option> <option value=\"3000000\">3million </option> <option value=\"5000000\">5million </option> <option value=\"10000000\">10million </option> <option value=\"20000000\">20million </option> <option value=\"30000000\">30million </option> <option value=\"40000000\">40million </option> <option value=\"50000000\">50million </option> <option value=\"100000000\">100million </option> <option value=\"200000000\">200million </option> <option value=\"300000000\">300million </option> <option value=\"500000000\">500million </option> <option value=\"1000000000\">1billion </option> <option value=\"2000000000\">2billion </option> <option value=\"5000000000\">5billion </option> <option value=\"10000000000\">10billion </option> </select>\\n\\n</div>\\n </div>\\n<div class=\"justify-block ser-fur-btns\">\\n<div class=\"s-service-select\">\\n<div class=\"selection\">\\n<input id=\"serviced\" name=\"natures[0]\" value=\"serviced\" type=\"checkbox\" />\\n<label for=\"serviced\">Serviced</label>\\n</div>\\n</div>\\n<div class=\"s-service-select\">\\n<div class=\"selection\">\\n<input id=\"furnished\" name=\"natures[1]\" value=\"furnished\" type=\"checkbox\" />\\n<label for=\"furnished\">Furnished</label>\\n</div>\\n</div>\\n</div>\\n<div class=\"refine-btn \">\\n<button type=\"submit\">Search</button>\\n</div>\\n</form>\\n</div>\\n</div>\\n<br />\\n<a rel=\"nofollow\" href=\"https://bit.ly/2UvG6zz\"><img class=\"simg img-fluid\" src=\"data:image/png;base64,R0lGODlhAQABAAD/ACwAAAAAAQABAAACADs=\" data-src=\"https://toletstatic.s3-us-west-2.amazonaws.com/Propertymart-S.jpg\" /> </a>\\n<br />\\n<br />\\n<div class=\"sticky-ad\">\\n<br />\\n<a href=\"https://www.propertypro.ng/offers/?utm_source=website&amp;utm_medium=sidebar&amp;utm_campaign=reserville_banner\"><img class=\"simg img-fluid\" src=\"data:image/png;base64,R0lGODlhAQABAAD/ACwAAAAAAQABAAACADs=\" data-src=\"https://toletstatic.s3-us-west-2.amazonaws.com/reserville_sidebar.jpg\" /> </a>\\n</div>\\n</div>\\n</div>\\n</div>\\n<div class=\"row\">\\n<div class=\"col-12\">\\n<div class=\"text-center\">\\n<a rel=\"nofollow\" href=\"https://bit.ly/2UvG6zz\" target=\"_blank\"><img class=\"img-fluid\" style=\"width:100%\" src=\"data:image/png;base64,R0lGODlhAQABAAD/ACwAAAAAAQABAAACADs=\" data-src=\"https://toletstatic.s3-us-west-2.amazonaws.com/Propertymart-BN.jpg\" /> </a>\\n</div>\\n<br />\\n<br />\\n</div>\\n</div>\\n</div>\\n</div>\\n</div>\\n<div class=\"share-modal\">\\n<div class=\"modal fade\" id=\"alertNoResultModal\" tabindex=\"-1\" role=\"dialog\" aria-labelledby=\"myModalLabel\" aria-hidden=\"true\">\\n<div class=\"modal-dialog\" role=\"document\">\\n<div class=\"modal-content\">\\n\\n<div class=\"modal-header\">\\n<span>Get Latest Properties</span>\\n<button type=\"button\" class=\"close\" data-dismiss=\"modal\" aria-label=\"Close\"><span aria-hidden=\"true\">x</span></button>\\n</div>\\n<div class=\"modal-body row\">\\n<form action=\"/notify\" method=\"POST\" class=\"col-md-12\">\\n<div class=\"form-group col-md-12\">\\n<input type=\"text\" name=\"name\" required=\"required\" class=\"form-control\" placeholder=\"Enter your Name\" value=\"\" />\\n<br />\\n<input type=\"email\" name=\"email\" required=\"required\" class=\"form-control\" placeholder=\"Enter your Email Address\" value=\"\" />\\n<input type=\"hidden\" name=\"mode\" value=\"sale\" />\\n<input type=\"hidden\" name=\"search\" value=\"lagos\" />\\n<input type=\"hidden\" name=\"state\" value=\"\" />\\n<input type=\"hidden\" name=\"axis\" value=\"\" />\\n<input type=\"hidden\" name=\"area\" value=\"\" />\\n<input type=\"hidden\" name=\"type\" value=\"13\" />\\n<input type=\"hidden\" name=\"beds\" value=\"\" />\\n<input type=\"hidden\" name=\"min_price\" value=\"\" />\\n<input type=\"hidden\" name=\"max_price\" value=\"\" />\\n</div>\\n<div class=\"col-md-12\">\\n<button class=\"alert2-btn btn btn-info\" type=\"button\">Subscribe Now</button>\\n</div>\\n</form>\\n</div>\\n</div>\\n</div>\\n</div>\\n</div>\\n\\n<div class=\"footer-menu-area\">\\n<div class=\"container\">\\n<div class=\"row\">\\n<div class=\"col-12\">\\n<div class=\"footer-menu\">\\n<div class=\"footer-logo\">\\n<a href=\"/\"><img src=\"/assets/assets/img/common/236a9c5c2daffad50c1f1d0c23a5a371-footer-menu.png\" alt=\"logo\" /></a>\\n</div>\\n<div class=\"footer-menu\">\\n<ul>\\n<li><a href=\"/about\">About Us</a></li>\\n<li><a href=\"/contact\">Contact Us</a></li>\\n<li><a href=\"/cdn-cgi/l/email-protection#02686d60714272706d726770767b72706d2c6c65\">Join Us</a></li>\\n<li><a href=\"/agents\">Agents</a></li>\\n</ul>\\n</div>\\n</div>\\n<div class=\"footer-menu flr\">\\n<ul>\\n<li> <a href=\"#\" class=\"advertise\">ADVERTISE WITH US</a> </li>\\n</ul>\\n</div>\\n</div>\\n</div>\\n</div>\\n</div>\\n\\n<div class=\"footer-area\">\\n<div class=\"container\">\\n<div class=\"row pdb-100\">\\n<div class=\"col-xl-2 col-md-4\">\\n<div class=\"footer-text\">\\n<h3>Popular States</h3>\\n<ul>\\n<li><a href=\"/lagos\">Lagos</a></li>\\n<li><a href=\"/abuja\">Abuja</a></li>\\n<li><a href=\"/rivers\">Rivers</a></li>\\n<li><a href=\"/kano\">Kano</a></li>\\n<li><a href=\"/ogun\">Ogun</a></li>\\n<li><a href=\"/oyo\">Oyo</a></li>\\n<li><a href=\"/enugu\">Enugu</a></li>\\n</ul>\\n</div>\\n</div>\\n<div class=\"col-xl-2 col-md-3\">\\n<div class=\"footer-text\">\\n<h3>Popular Cities</h3>\\n<ul>\\n<li><a href=\"/lagos/ikeja\">Ikeja</a></li>\\n<li><a href=\"/lagos/lekki\">Lekki</a></li>\\n<li><a href=\"/lagos/ikoyi\">Ikoyi</a></li>\\n<li><a href=\"/lagos/ibeju-lekki\">Ibeju Lekki</a></li>\\n<li><a href=\"/oyo/ibadan\">Ibadan</a></li>\\n<li><a href=\"/rivers/port-harcourt\">Port Harcourt</a></li>\\n<li><a href=\"/kano/kano\">Kano</a></li>\\n</ul>\\n</div>\\n</div>\\n<div class=\"col-xl-3 col-md-5\">\\n<div class=\"footer-text\">\\n<h3>Popular Cities Rent</h3>\\n<ul>\\n<li><a href=\"/property-for-rent/in/lagos/ikeja\">Ikeja</a></li>\\n<li><a href=\"/property-for-rent/in/lagos/lekki\">Lekki</a></li>\\n<li><a href=\"/property-for-rent/in/lagos/ikoyi\">Ikoyi</a></li>\\n<li><a href=\"/property-for-rent/in/lagos/ibeju-lekki\">Ibeju Lekki</a></li>\\n<li><a href=\"/property-for-rent/in/oyo/ibadan\">Ibadan</a></li>\\n<li><a href=\"/property-for-rent/in/rivers/port-harcourt\">Port Harcourt</a></li>\\n<li><a href=\"/property-for-rent\">View More…</a></li>\\n</ul>\\n</div>\\n</div>\\n<div class=\"col-xl-3 col-md-4\">\\n<div class=\"footer-text\">\\n<h3>Popular Cities Sales</h3>\\n<ul>\\n<li><a href=\"/property-for-sale/in/lagos/ikeja\">Ikeja</a></li>\\n<li><a href=\"/property-for-sale/in/lagos/lekki\">Lekki</a></li>\\n<li><a href=\"/property-for-sale/in/lagos/ikoyi\">Ikoyi</a></li>\\n<li><a href=\"/property-for-sale/in/lagos/ibeju-lekki\">Ibeju Lekki</a></li>\\n<li><a href=\"/property-for-sale/in/oyo/ibadan\">Ibadan</a></li>\\n<li><a href=\"/property-for-sale/in/rivers/port-harcourt\">Port Harcourt</a></li>\\n<li><a href=\"/property-for-sale\">View More…</a></li>\\n</ul>\\n</div>\\n</div>\\n<div class=\"col-xl-2 col-md-4\">\\n<div class=\"footer-text\">\\n<h3>PropertyPro Products</h3>\\n<ul>\\n<li><a href=\"/\">JumiaHouse</a></li>\\n<li><a href=\"https://www.moveme.com.ng\">MoveMe</a></li>\\n<li><a href=\"https://www.propertypro.ng/conference\">AFRECA</a></li>\\n<li><a href=\"https://www.propertypro.ng/prestige-magazine\">Prestige Magazine</a></li>\\n<li><a href=\"https://www.propertypro.ng/real-estate-report\">Property Market Report</a></li>\\n<li><a href=\"/service-providers\">Services</a></li>\\n<li><a href=\"https://www.propertypro.co.ke\">PropertyPro Kenya</a></li>\\n<li><a href=\"https://www.propertypro.co.zw\">PropertyPro Zimbabwe</a></li>\\n</ul>\\n</div>\\n</div>\\n</div>\\n<div class=\"row \">\\n<div class=\"col-lg-7\">\\n<div class=\"copyright\">\\n<p>&copy;Copyright 2020 PropertyPro.ng all rights reserved</p>\\n</div>\\n</div>\\n<div class=\"col-lg-5\">\\n<div class=\"social flr\">\\n<p>Social Media</p>\\n<a href=\"https://www.facebook.com/propertyprong/\"> <img src=\"/assets/assets/img/social/bba71c957fcbf4e7490f5539cae38e20-fb.png\" alt=\"icon\" /></a>\\n<a href=\"https://twitter.com/propertyprong\"> <img src=\"/assets/assets/img/social/628923f97ad1be69630cecfedba6a268-twitter.png\" alt=\"icon\" /></a>\\n<a href=\"https://www.instagram.com/propertyprong/\"> <img src=\"/assets/assets/img/social/d838c827ef3f606df0c63ab691527a48-ins.png\" alt=\"icon\" /></a>\\n<a href=\"https://www.linkedin.com/company/tolet-com-ng\"> <img src=\"/assets/assets/img/social/c466281e0a7804d6bf3d016800a7d966-linkdin.png\" alt=\"icon\" /></a>\\n</div>\\n</div>\\n</div>\\n</div>\\n</div>\\n\\n<script data-cfasync=\"false\" src=\"/cdn-cgi/scripts/5c5dd728/cloudflare-static/email-decode.min.js\"></script><script src=\"/assets/assets/js/e383b2b8ec2ede17b4f3fcfbf1ab71a3-all.js\" type=\"f44108f06d6a151ef090e515-text/javascript\"></script>\\n<script src=\"/assets/assets/js/08f07adb6ff9597e051a0751b0259b0d-main.js\" type=\"f44108f06d6a151ef090e515-text/javascript\"></script>\\n\\n<script src=\"/assets/assets/js/morris/aaca73a0740dd8424afc36913caddd43-raphael.js\" type=\"f44108f06d6a151ef090e515-text/javascript\"></script>\\n<script src=\"/assets/assets/js/morris/c33aff9ca10315c7f9a9aa320b69abba-morris.js\" type=\"f44108f06d6a151ef090e515-text/javascript\"></script>\\n<script type=\"f44108f06d6a151ef090e515-text/javascript\">\\n      \"use strict\";\\n\\n      $(function() {\\n\\n        var searchMode = \\'sale\\';\\n        var searchState = \\'\\';\\n        var searchAxis = \\'\\';\\n        var searchArea = \\'\\';\\n        var searchType = \\'house\\';\\n        var searchSubtype = \\'\\';\\n        var searchMinPrice = \\'\\';\\n        var searchMaxPrice = \\'\\';\\n        var searchBeds = \\'\\';\\n\\n        var reqSearch = \\'lagos\\';\\n\\n        var searchKey = \"lagossalehouse\";\\n\\n        if(searchKey !== \"\") {\\n          OneSignal.push(function() {\\n            OneSignal.getTags(function(tags) {\\n                if (searchKey in tags) {\\n\\n                } else {\\n                  OneSignal.push(function () {\\n                    OneSignal.sendTag(searchKey, \"1\").then(function (tagsSent) {\\n                      $.post( \"/post_search_key\", {\\n                        key: searchKey,\\n                        search: reqSearch,\\n                        mode: searchMode,\\n                        state: searchState,\\n                        axis: searchAxis,\\n                        area: searchArea,\\n                        type: searchType,\\n                        subType: searchSubtype,\\n                        min_price: searchMinPrice,\\n                        max_price: searchMaxPrice,\\n                        beds: searchBeds,\\n                      });\\n                    });\\n                  });\\n                }\\n            });\\n          });\\n        }\\n\\n        \\n          Morris.Line({\\n            element: \\'morris-one-line-chart\\',\\n            data: [\\n              \\n                { year: \\'2019\\', value: 8.5E7},\\n              \\n                { year: \\'2018\\', value: 5.5E7},\\n              \\n                { year: \\'2017\\', value: 1.275E8},\\n              \\n                { year: \\'2016\\', value: 8.5E7},\\n              \\n                { year: \\'2020\\', value: 6.0E7},\\n              \\n            ],\\n            xkey: \\'year\\',\\n            ykeys: [\\'value\\'],\\n            xLabels: \\'hello\\',\\n            resize: true,\\n            lineWidth: 2,\\n            labels: [\\'Value\\'],\\n            lineColors: [\\'#306\\'],\\n            pointSize: 4,\\n          });\\n        \\n\\n        if (searchState) {\\n          var useEndpoint, guideSlug;\\n          var baseEndpoint = \\'https://www.propertypro.ng\\' + \\'/guide/wp-json/wp/v2/\\';\\n          if (searchArea && searchAxis) {\\n            useEndpoint = baseEndpoint + \\'areas\\';\\n            guideSlug = searchArea + \\'-\\' + searchAxis + \\'-\\' + searchState;\\n          } else if (searchAxis) {\\n            useEndpoint = baseEndpoint + \\'axes\\';\\n            guideSlug = searchAxis + \\'-\\' + searchState;\\n          } else {\\n            if (reqSearch) {\\n              // split to know components\\n              var searchArray = reqSearch.split(\\',\\');\\n              var arrayLength = searchArray.length;\\n              if (3 == arrayLength) {\\n                // area\\n                useEndpoint = baseEndpoint + \\'areas\\';\\n                guideSlug = slugify(searchArray[0]) + \\'-\\' + slugify(searchArray[1]) + \\'-\\' + searchState;\\n              } else if (2 == arrayLength) {\\n                // axis\\n                useEndpoint = baseEndpoint + \\'axes\\';\\n                guideSlug = slugify(searchArray[0]) + \\'-\\' + searchState;\\n              } else {\\n                useEndpoint = baseEndpoint + \\'states\\';\\n                guideSlug = searchState;\\n              }\\n            } else {\\n              useEndpoint = baseEndpoint + \\'states\\';\\n              guideSlug = searchState;\\n            }\\n          }\\n\\n          $.getJSON(useEndpoint + \\'?per_page=1&slug=\\' + encodeURIComponent(guideSlug) + \\'&_embed\\', function (data) {\\n            if(data.length) {\\n              data = data[0];\\n              var hood = {\\n                title: data.title.rendered,\\n                desc: data.content.rendered,\\n                link: data.link\\n              };\\n              var featuredMedia = data._embedded[\\'wp:featuredmedia\\'];\\n              if (featuredMedia && featuredMedia.length) {\\n                if (\\n                        featuredMedia[0].media_details &&\\n                        featuredMedia[0].media_details.sizes &&\\n                        featuredMedia[0].media_details.sizes[\\'post-thumbnail\\'] &&\\n                        featuredMedia[0].media_details.sizes[\\'post-thumbnail\\'].source_url ) {\\n                  hood.image = featuredMedia[0].media_details.sizes[\\'post-thumbnail\\'].source_url;\\n                } else if (featuredMedia[0].source_url) {\\n                  // use the full image\\n                  hood.image = featuredMedia[0].source_url;\\n                }\\n              }\\n\\n              $(\"#n-img\").attr(\"src\", hood.image);\\n              $(\"#n-title\").html(hood.title);\\n              $(\"#n-desc\").html(hood.desc);\\n              $(\"#n-link\").attr(\"href\", hood.link);\\n              $(\"#n-area\").show();\\n            }\\n          });\\n        }\\n\\n      });\\n\\n      function sticky_relocate() {\\n        var window_top = $(window).scrollTop();\\n        var div_top = $(\\'.sticky-anchor\\').offset().top;\\n        if (window_top > div_top) {\\n          $(\\'.sticky\\').addClass(\\'stick\\');\\n          $(\\'.property-sale-area\\').addClass(\\'active\\');\\n        } else {\\n          $(\\'.sticky\\').removeClass(\\'stick\\');\\n          $(\\'.property-sale-area\\').removeClass(\\'active\\');\\n        }\\n      }\\n\\n      $(function() {\\n        $(window).scroll(sticky_relocate);\\n        sticky_relocate();\\n      });\\n  </script>\\n<script type=\"f44108f06d6a151ef090e515-text/javascript\">\\n            $(document).ready(function() {\\n\\n                $.get(\\'/areas.json\\', function(data){\\n                    $( \".searchInput\" ).autocomplete({\\n                        //minLength:2,\\n                        //delay:1000,\\n                        source: data,\\n                        //autoFocus: true,\\n                        //focus: function (event, ui) {\\n                        //$(this).val(ui.item.value);\\n                        //}\\n                        select: function (event, ui) {\\n                            $(\"#auto\").val(ui.item.value);\\n                        }\\n                        //,focus: function( event, ui ) { event.preventDefault(); }\\n                    });\\n                    //$(\".searchInput\").typeahead({ source:data, items:4, autoSelect:false });\\n                },\\'json\\');\\n\\n                \\n\\n                $(\".alert2-btn\").click(function(){\\n                    var valid = true;\\n                    var form = $(this).parents(\"form\");\\n                    form.find(\"input\").each(function(){\\n                        if($(this).val().length === 0 && $(this).attr(\"required\") === \"required\") {\\n                            $(this).addClass(\\'error\\');\\n                            valid = false;\\n                        } else {\\n                            $(this).removeClass(\\'error\\');\\n                        }\\n                    });\\n                    if(!valid) {\\n                        alert(\"Please enter your name and email address\");\\n                        return;\\n                    }\\n                    $(\"#ajaxWait\").show();\\n                    $.ajax({\\n                        type: \\'POST\\',\\n                        url: form.attr(\"action\"),\\n                        data: form.serialize(),\\n                        success: function(data) {\\n                            if(data===\"success\") {\\n                                Show(\"Message\", \"You have successfully subscribed\");\\n                            } else if(data===\"already\") {\\n                                Show(\"Message\",\"You have already subscribed to this search\");\\n                            } else {\\n                                Show(\"Message\", data);\\n                            }\\n                            $(\"#ajaxWait\").hide();\\n                            $(\\'#alertNoResultModal\\').modal(\"hide\");\\n                        }\\n                    });\\n                    return false;\\n                });\\n            });\\n\\n            function init() {\\n                var imgDefer = document.getElementsByTagName(\\'img\\');\\n                for (var i = 0; i < imgDefer.length; i++) {\\n                    if (imgDefer[i].getAttribute(\\'data-src\\')) {\\n                        imgDefer[i].setAttribute(\\'src\\',imgDefer[i].getAttribute(\\'data-src\\'));\\n                    }\\n                }\\n            }\\n\\n            window.onload = init;\\n\\n            function doSubmitVendorReq(pid, id, source) {\\n                $.ajax({\\n                    type: \\'POST\\',\\n                    url: \"/click-vendor\" + \"?pid=\"+pid+\"&id=\"+id+\"&source=\"+source,\\n                    success: function(data) {\\n\\n                    },\\n                    complete: function(data) {\\n\\n                    }\\n                });\\n                return true;\\n            }\\n\\n        </script>\\n<script type=\"f44108f06d6a151ef090e515-text/javascript\">\\r\\n\\r\\n        $(function() {\\r\\n\\r\\n            $(\"#home-banner\").attr(\"style\", \"background-image:url(https://toletstatic.s3-us-west-2.amazonaws.com/reservillle-5-bed-homepage-takeover.jpg);\");\\r\\n\\r\\n$(\"#banner-link\").click(function(e) {          \\twindow.open(\\'https://www.propertypro.ng/offers/?utm_source=website&utm_medium=slider&utm_campaign=reserville_banner\\', \\'_blank\\', \\'toolbar=yes, location=yes, status=yes, menubar=yes, scrollbars=yes\\');\\r\\n});\\r\\n\\r\\n\\r\\n/*\\r\\n           $(\"#home-popup img\").attr(\"src\",\"https://toletstatic.s3-us-west-2.amazonaws.com/mouka_600x600.gif\");      \\r\\n\\r\\n            if($(\\'#home-popup\\').length > 0) {\\r\\n                $(\\'#home-popup\\').modal(\\'show\\');\\r\\n            }\\r\\n\\r\\n            $(\"#home-popup img\").click(function(e) {\\r\\n                window.open(\\'https://www.mouka.com/product/flora/?utm_source=propertypro&utm_medium=banner&utm_campaign=flora\\', \\'_blank\\', \\'toolbar=yes, location=yes, status=yes, menubar=yes, scrollbars=yes\\');\\r\\n            });\\r\\n*/\\r\\n\\r\\n        });\\r\\n\\r\\n    </script>\\n<script src=\"https://ajax.cloudflare.com/cdn-cgi/scripts/7089c43e/cloudflare-static/rocket-loader.min.js\" data-cf-settings=\"f44108f06d6a151ef090e515-|49\" defer=\"\"></script></body>\\n</html>'"
      ]
     },
     "execution_count": 7,
     "metadata": {},
     "output_type": "execute_result"
    }
   ],
   "source": [
    "r.text"
   ]
  },
  {
   "cell_type": "code",
   "execution_count": 8,
   "metadata": {},
   "outputs": [],
   "source": [
    "#storing the features:\n",
    "\n",
    "locations = soup.select('.single-room-text > h4')"
   ]
  },
  {
   "cell_type": "code",
   "execution_count": 9,
   "metadata": {},
   "outputs": [
    {
     "data": {
      "text/plain": [
       "22"
      ]
     },
     "execution_count": 9,
     "metadata": {},
     "output_type": "execute_result"
    }
   ],
   "source": [
    "len(locations)\n"
   ]
  },
  {
   "cell_type": "code",
   "execution_count": 10,
   "metadata": {},
   "outputs": [
    {
     "data": {
      "text/plain": [
       "<h4><img alt=\"icon\" src=\"/assets/assets/img/resultpage/a6b70a0c1c4423f60780bdda189b91e3-location.svg\" title=\"icon\"/>... Mojisola Onikoyi Estate Ikoyi Lagos</h4>"
      ]
     },
     "execution_count": 10,
     "metadata": {},
     "output_type": "execute_result"
    }
   ],
   "source": [
    "locations[0]"
   ]
  },
  {
   "cell_type": "code",
   "execution_count": 11,
   "metadata": {},
   "outputs": [],
   "source": [
    "#fixing all loaction into a list\n",
    "\n",
    "all_location = []\n",
    "\n",
    "for i in locations:\n",
    "    location = i.get_text().split()\n",
    "    location = location[-2]\n",
    "    location = location.replace(',', '')\n",
    "    all_location.append(location)\n"
   ]
  },
  {
   "cell_type": "code",
   "execution_count": 12,
   "metadata": {},
   "outputs": [
    {
     "data": {
      "text/plain": [
       "['Ikoyi',\n",
       " 'Lekki',\n",
       " 'Lekki',\n",
       " 'Lekki',\n",
       " 'Lekki',\n",
       " 'Lekki',\n",
       " 'Ikoyi',\n",
       " 'Isolo',\n",
       " 'Lekki',\n",
       " 'Lekki',\n",
       " 'Ikoyi',\n",
       " 'Lekki',\n",
       " 'Lekki',\n",
       " 'VGCLekki',\n",
       " 'AjahAjah',\n",
       " 'Lekki',\n",
       " 'LafiajiLekki',\n",
       " 'TollgateLekki',\n",
       " 'Ikoyi',\n",
       " 'Lekki',\n",
       " 'Lekki',\n",
       " 'Ikoyi']"
      ]
     },
     "execution_count": 12,
     "metadata": {},
     "output_type": "execute_result"
    }
   ],
   "source": [
    "all_location\n"
   ]
  },
  {
   "cell_type": "code",
   "execution_count": 13,
   "metadata": {},
   "outputs": [
    {
     "data": {
      "text/plain": [
       "22"
      ]
     },
     "execution_count": 13,
     "metadata": {},
     "output_type": "execute_result"
    }
   ],
   "source": [
    "len(all_location)\n"
   ]
  },
  {
   "cell_type": "code",
   "execution_count": 14,
   "metadata": {},
   "outputs": [],
   "source": [
    "facilities = soup.select('.fur-areea > span')\n"
   ]
  },
  {
   "cell_type": "code",
   "execution_count": 15,
   "metadata": {},
   "outputs": [
    {
     "data": {
      "text/plain": [
       "66"
      ]
     },
     "execution_count": 15,
     "metadata": {},
     "output_type": "execute_result"
    }
   ],
   "source": [
    "len(facilities)\n"
   ]
  },
  {
   "cell_type": "code",
   "execution_count": 16,
   "metadata": {},
   "outputs": [
    {
     "data": {
      "text/plain": [
       "'6 baths'"
      ]
     },
     "execution_count": 16,
     "metadata": {},
     "output_type": "execute_result"
    }
   ],
   "source": [
    "facilities[1].text\n"
   ]
  },
  {
   "cell_type": "code",
   "execution_count": 17,
   "metadata": {},
   "outputs": [],
   "source": [
    "all_bedroom = []\n",
    "all_bathroom = []\n",
    "all_toilet = []\n",
    "\n",
    "for i, a in enumerate(facilities):\n",
    "    if i in range(2,66,3):\n",
    "        a = a.get_text().split()\n",
    "        toilet = a[0]\n",
    "        all_toilet.append(toilet)\n",
    "    elif i in range(1,66,3):\n",
    "        a = a.get_text().split()\n",
    "        bathroom = a[0]\n",
    "        all_bathroom.append(bathroom)\n",
    "    elif i in range (0,66,3):\n",
    "        a = a.get_text().split()\n",
    "        bedroom = a[0]\n",
    "        all_bedroom.append(bedroom)\n"
   ]
  },
  {
   "cell_type": "code",
   "execution_count": 18,
   "metadata": {},
   "outputs": [
    {
     "data": {
      "text/plain": [
       "['7',\n",
       " '2',\n",
       " '5',\n",
       " '5',\n",
       " '3',\n",
       " '5',\n",
       " '5',\n",
       " '6',\n",
       " '5',\n",
       " '4',\n",
       " '5',\n",
       " '5',\n",
       " '5',\n",
       " '5',\n",
       " '5',\n",
       " '6',\n",
       " '5',\n",
       " '5',\n",
       " '6',\n",
       " '4',\n",
       " '5',\n",
       " '6']"
      ]
     },
     "execution_count": 18,
     "metadata": {},
     "output_type": "execute_result"
    }
   ],
   "source": [
    "all_toilet\n"
   ]
  },
  {
   "cell_type": "code",
   "execution_count": 19,
   "metadata": {},
   "outputs": [
    {
     "data": {
      "text/plain": [
       "22"
      ]
     },
     "execution_count": 19,
     "metadata": {},
     "output_type": "execute_result"
    }
   ],
   "source": [
    "len(all_toilet)\n"
   ]
  },
  {
   "cell_type": "code",
   "execution_count": 20,
   "metadata": {},
   "outputs": [
    {
     "data": {
      "text/plain": [
       "['6',\n",
       " '1',\n",
       " '4',\n",
       " '4',\n",
       " '2',\n",
       " '4',\n",
       " '5',\n",
       " '5',\n",
       " '5',\n",
       " '4',\n",
       " '4',\n",
       " '4',\n",
       " '4',\n",
       " '4',\n",
       " '4',\n",
       " '5',\n",
       " '4',\n",
       " '4',\n",
       " '5',\n",
       " '3',\n",
       " '5',\n",
       " '5']"
      ]
     },
     "execution_count": 20,
     "metadata": {},
     "output_type": "execute_result"
    }
   ],
   "source": [
    "all_bathroom\n"
   ]
  },
  {
   "cell_type": "code",
   "execution_count": 21,
   "metadata": {},
   "outputs": [
    {
     "data": {
      "text/plain": [
       "22"
      ]
     },
     "execution_count": 21,
     "metadata": {},
     "output_type": "execute_result"
    }
   ],
   "source": [
    "len(all_bathroom)"
   ]
  },
  {
   "cell_type": "code",
   "execution_count": 22,
   "metadata": {},
   "outputs": [
    {
     "data": {
      "text/plain": [
       "['6',\n",
       " '1',\n",
       " '4',\n",
       " '4',\n",
       " '2',\n",
       " '4',\n",
       " '3',\n",
       " '5',\n",
       " '5',\n",
       " '4',\n",
       " '4',\n",
       " '4',\n",
       " '4',\n",
       " '4',\n",
       " '4',\n",
       " '5',\n",
       " '4',\n",
       " '4',\n",
       " '5',\n",
       " '3',\n",
       " '4',\n",
       " '5']"
      ]
     },
     "execution_count": 22,
     "metadata": {},
     "output_type": "execute_result"
    }
   ],
   "source": [
    "all_bedroom"
   ]
  },
  {
   "cell_type": "code",
   "execution_count": 23,
   "metadata": {},
   "outputs": [
    {
     "data": {
      "text/plain": [
       "22"
      ]
     },
     "execution_count": 23,
     "metadata": {},
     "output_type": "execute_result"
    }
   ],
   "source": [
    "len(all_bedroom)"
   ]
  },
  {
   "cell_type": "code",
   "execution_count": 24,
   "metadata": {},
   "outputs": [],
   "source": [
    "prices = soup.select('.n50 > h3 > span')\n"
   ]
  },
  {
   "cell_type": "code",
   "execution_count": 25,
   "metadata": {},
   "outputs": [
    {
     "data": {
      "text/plain": [
       "44"
      ]
     },
     "execution_count": 25,
     "metadata": {},
     "output_type": "execute_result"
    }
   ],
   "source": [
    "len(prices)"
   ]
  },
  {
   "cell_type": "code",
   "execution_count": 26,
   "metadata": {},
   "outputs": [
    {
     "data": {
      "text/plain": [
       "<span content=\"NGN\" itemprop=\"priceCurrency\">₦</span>"
      ]
     },
     "execution_count": 26,
     "metadata": {},
     "output_type": "execute_result"
    }
   ],
   "source": [
    "prices[0]\n"
   ]
  },
  {
   "cell_type": "code",
   "execution_count": 27,
   "metadata": {},
   "outputs": [],
   "source": [
    "all_price = []\n",
    "\n",
    "for i,price in enumerate(prices):\n",
    "    if i % 2 != 0:\n",
    "        all_price.append(price.getText().replace('/year', ''))\n"
   ]
  },
  {
   "cell_type": "code",
   "execution_count": 28,
   "metadata": {},
   "outputs": [
    {
     "data": {
      "text/plain": [
       "['310,000,000',\n",
       " '25,000,000',\n",
       " '55,000,000',\n",
       " '45,000,000',\n",
       " '35,000,000',\n",
       " '55,000,000',\n",
       " '280,000,000',\n",
       " '55,000,000',\n",
       " '320,000,000',\n",
       " '80,000,000',\n",
       " '205,000,000',\n",
       " '100,000,000',\n",
       " '55,000,000',\n",
       " '40,000,000',\n",
       " '33,000,000',\n",
       " '120,000,000',\n",
       " '43,000,000',\n",
       " '40,000,000',\n",
       " '595,000,000',\n",
       " '40,000,000',\n",
       " '80,000,000',\n",
       " '520,000,000']"
      ]
     },
     "execution_count": 28,
     "metadata": {},
     "output_type": "execute_result"
    }
   ],
   "source": [
    "all_price"
   ]
  },
  {
   "cell_type": "code",
   "execution_count": 29,
   "metadata": {},
   "outputs": [
    {
     "data": {
      "text/plain": [
       "22"
      ]
     },
     "execution_count": 29,
     "metadata": {},
     "output_type": "execute_result"
    }
   ],
   "source": [
    "len(all_price)"
   ]
  },
  {
   "cell_type": "code",
   "execution_count": 30,
   "metadata": {},
   "outputs": [],
   "source": [
    "titles = soup.select('.single-room-text > a > h2')\n"
   ]
  },
  {
   "cell_type": "code",
   "execution_count": 31,
   "metadata": {},
   "outputs": [
    {
     "data": {
      "text/plain": [
       "22"
      ]
     },
     "execution_count": 31,
     "metadata": {},
     "output_type": "execute_result"
    }
   ],
   "source": [
    "len(titles)\n"
   ]
  },
  {
   "cell_type": "code",
   "execution_count": 32,
   "metadata": {},
   "outputs": [
    {
     "data": {
      "text/plain": [
       "<h2 class=\"listings-property-title\">6 BEDROOM DETACHED DUPLEX HOUSE FOR SALE</h2>"
      ]
     },
     "execution_count": 32,
     "metadata": {},
     "output_type": "execute_result"
    }
   ],
   "source": [
    "titles[0]\n"
   ]
  },
  {
   "cell_type": "code",
   "execution_count": 33,
   "metadata": {},
   "outputs": [],
   "source": [
    "#fixing all bedrooms and description into a list\n",
    "\n",
    "all_type = []\n",
    "all_status = []\n",
    "\n",
    "for i in titles:\n",
    "    title_split = i.get_text().split()\n",
    "    types = title_split[2:4]\n",
    "    status = title_split[-1]\n",
    "    f_house = ' '.join(types)\n",
    "    all_type.append((f_house).replace('/', ''))\n",
    "    all_status.append(status)\n"
   ]
  },
  {
   "cell_type": "code",
   "execution_count": 34,
   "metadata": {},
   "outputs": [
    {
     "data": {
      "text/plain": [
       "['DETACHED DUPLEX',\n",
       " 'MINI FLAT',\n",
       " 'TERRACED DUPLEX',\n",
       " 'TERRACED DUPLEX',\n",
       " 'TERRACED DUPLEX',\n",
       " 'SEMI DETACHED',\n",
       " 'TERRACED DUPLEX',\n",
       " 'DETACHED DUPLEX',\n",
       " 'DETACHED DUPLEX',\n",
       " 'SEMI DETACHED',\n",
       " 'SELF CONTAIN',\n",
       " 'TERRACED DUPLEX',\n",
       " 'SEMI DETACHED',\n",
       " 'TERRACED DUPLEX',\n",
       " 'TERRACED DUPLEX',\n",
       " 'DETACHED DUPLEX',\n",
       " 'TERRACED DUPLEX',\n",
       " 'TERRACED DUPLEX',\n",
       " 'DETACHED DUPLEX',\n",
       " 'BLOCKS OF',\n",
       " 'SEMI DETACHED',\n",
       " 'DETACHED DUPLEX']"
      ]
     },
     "execution_count": 34,
     "metadata": {},
     "output_type": "execute_result"
    }
   ],
   "source": [
    "all_type"
   ]
  },
  {
   "cell_type": "code",
   "execution_count": 35,
   "metadata": {},
   "outputs": [
    {
     "data": {
      "text/plain": [
       "22"
      ]
     },
     "execution_count": 35,
     "metadata": {},
     "output_type": "execute_result"
    }
   ],
   "source": [
    "#confirming the length of description features\n",
    "\n",
    "len(all_type)"
   ]
  },
  {
   "cell_type": "code",
   "execution_count": 36,
   "metadata": {},
   "outputs": [
    {
     "data": {
      "text/plain": [
       "['SALE',\n",
       " 'SALE',\n",
       " 'SALE',\n",
       " 'SALE',\n",
       " 'SALE',\n",
       " 'SALE',\n",
       " 'SALE',\n",
       " 'SALE',\n",
       " 'SALE',\n",
       " 'SALE',\n",
       " 'SALE',\n",
       " 'SALE',\n",
       " 'SALE',\n",
       " 'SALE',\n",
       " 'SALE',\n",
       " 'SALE',\n",
       " 'SALE',\n",
       " 'SALE',\n",
       " 'SALE',\n",
       " 'SALE',\n",
       " 'SALE',\n",
       " 'SALE']"
      ]
     },
     "execution_count": 36,
     "metadata": {},
     "output_type": "execute_result"
    }
   ],
   "source": [
    "all_status\n"
   ]
  },
  {
   "cell_type": "code",
   "execution_count": 37,
   "metadata": {},
   "outputs": [
    {
     "data": {
      "text/plain": [
       "22"
      ]
     },
     "execution_count": 37,
     "metadata": {},
     "output_type": "execute_result"
    }
   ],
   "source": [
    "#confirming the house status\n",
    "\n",
    "len(all_status)"
   ]
  },
  {
   "cell_type": "code",
   "execution_count": 38,
   "metadata": {},
   "outputs": [],
   "source": [
    "#creating a function to be able to return all list generated\n",
    "\n",
    "def all_data(base_url):\n",
    "    r = requests.get (base_url, headers=headers)\n",
    "    soup = BeautifulSoup(r.text,'html.parser')\n",
    "    \n",
    "    \n",
    "    locations = soup.select('.single-room-text > h4')\n",
    "    all_location = []\n",
    "    for i in locations:\n",
    "        location = i.get_text().split()\n",
    "        location = location[-2]\n",
    "        location = location.replace(',', '')\n",
    "        all_location.append(location)\n",
    "        \n",
    "    \n",
    "    facilities = soup.select('.fur-areea > span')\n",
    "    all_bedroom = []\n",
    "    all_bathroom = []\n",
    "    all_toilet = []\n",
    "    \n",
    "    for i, a in enumerate(facilities):\n",
    "        if i in range(2,66,3):\n",
    "            a = a.get_text().split()\n",
    "            toilet = a[0]\n",
    "            all_toilet.append(toilet)\n",
    "        elif i in range(1,66,3):\n",
    "            a = a.get_text().split()\n",
    "            bathroom = a[0]\n",
    "            all_bathroom.append(bathroom)\n",
    "        elif i in range (0,66,3):\n",
    "            a = a.get_text().split()\n",
    "            bedroom = a[0]\n",
    "            all_bedroom.append(bedroom)\n",
    "    \n",
    "    \n",
    "    prices = soup.select('.n50 > h3 > span')\n",
    "    all_price = []\n",
    "    for i,price in enumerate(prices):\n",
    "        if i % 2 != 0:\n",
    "            all_price.append(price.getText().replace('/year', ''))\n",
    "    \n",
    "    \n",
    "    \n",
    "    titles = soup.select('.single-room-text > a > h2')\n",
    "    all_type = []\n",
    "    all_status = []\n",
    "    for i in titles:\n",
    "        title_split = i.get_text().split()\n",
    "        types = title_split[2:4]\n",
    "        status = title_split[-1]\n",
    "        f_house = ' '.join(types)\n",
    "        all_type.append((f_house).replace('/', ''))\n",
    "        all_status.append(status)\n",
    "    \n",
    "    \n",
    "\n",
    "    return (all_location, all_bedroom, all_bathroom, all_toilet, all_price, all_type, all_status)\n"
   ]
  },
  {
   "cell_type": "code",
   "execution_count": 42,
   "metadata": {},
   "outputs": [],
   "source": [
    "#crawls all the pages on the website from page 1 to 100\n",
    "\n",
    "urls = [base_url]\n",
    "for i in range(1,500):\n",
    "    all_url = base_url + '&page=' + str(i)\n",
    "    urls.append(all_url)"
   ]
  },
  {
   "cell_type": "code",
   "execution_count": 43,
   "metadata": {},
   "outputs": [
    {
     "data": {
      "text/plain": [
       "'https://www.propertypro.ng/property-for-sale/house/?search=lagos&bedroom=&min_price=&max_price=&page=398'"
      ]
     },
     "execution_count": 43,
     "metadata": {},
     "output_type": "execute_result"
    }
   ],
   "source": [
    "urls[398]\n"
   ]
  },
  {
   "cell_type": "code",
   "execution_count": 44,
   "metadata": {},
   "outputs": [],
   "source": [
    "master_location = []\n",
    "master_bedroom = []\n",
    "master_bathroom = []\n",
    "master_toilet = []\n",
    "master_price = []\n",
    "master_type = []\n",
    "master_status = []\n",
    "\n",
    "for all_url in urls:\n",
    "    all_location, all_bedroom, all_bathroom, all_toilet, all_price, all_type, all_status = all_data(all_url)\n",
    "    \n",
    "    master_location += all_location\n",
    "    master_bedroom += all_bedroom\n",
    "    master_bathroom += all_bathroom\n",
    "    master_toilet += all_toilet\n",
    "    master_price += all_price\n",
    "    master_type += all_type\n",
    "    master_status += all_status\n",
    "    \n",
    "    time.sleep(10)\n"
   ]
  },
  {
   "cell_type": "code",
   "execution_count": 48,
   "metadata": {},
   "outputs": [
    {
     "name": "stdout",
     "output_type": "stream",
     "text": [
      "11000\n",
      "11000\n",
      "11000\n",
      "11000\n",
      "11000\n",
      "11000\n",
      "11000\n"
     ]
    }
   ],
   "source": [
    "#confirming the length of each list of attributes created\n",
    "\n",
    "print(len(master_bedroom))\n",
    "\n",
    "print(len(master_location))\n",
    "\n",
    "print(len(master_bathroom))\n",
    "\n",
    "print(len(master_toilet))\n",
    "\n",
    "print(len(master_price))\n",
    "\n",
    "print(len(master_type))\n",
    "\n",
    "print(len(master_status))"
   ]
  },
  {
   "cell_type": "code",
   "execution_count": 50,
   "metadata": {},
   "outputs": [],
   "source": [
    "# create a data frame from the list of dictionaries\n",
    "\n",
    "house_buy = pd.DataFrame ({\"house-types\": master_type,\n",
    "                            \"location\": master_location,\n",
    "                            \"bedrooms\": master_bedroom,\n",
    "                            \"bathrooms\": master_bathroom,\n",
    "                            \"toilets\": master_toilet,\n",
    "                            \"price\": master_price,\n",
    "                            \"rent / sale\": master_status\n",
    "                           })"
   ]
  },
  {
   "cell_type": "code",
   "execution_count": 51,
   "metadata": {},
   "outputs": [],
   "source": [
    "#converting dataframe to CSV\n",
    "\n",
    "house_buy.to_csv(\"house_buy.csv\")"
   ]
  },
  {
   "cell_type": "code",
   "execution_count": 52,
   "metadata": {},
   "outputs": [],
   "source": [
    "house_to_buy = pd.read_csv('house_buy.csv')"
   ]
  },
  {
   "cell_type": "code",
   "execution_count": 53,
   "metadata": {},
   "outputs": [
    {
     "data": {
      "text/html": [
       "<div>\n",
       "<style scoped>\n",
       "    .dataframe tbody tr th:only-of-type {\n",
       "        vertical-align: middle;\n",
       "    }\n",
       "\n",
       "    .dataframe tbody tr th {\n",
       "        vertical-align: top;\n",
       "    }\n",
       "\n",
       "    .dataframe thead th {\n",
       "        text-align: right;\n",
       "    }\n",
       "</style>\n",
       "<table border=\"1\" class=\"dataframe\">\n",
       "  <thead>\n",
       "    <tr style=\"text-align: right;\">\n",
       "      <th></th>\n",
       "      <th>Unnamed: 0</th>\n",
       "      <th>house-types</th>\n",
       "      <th>location</th>\n",
       "      <th>bedrooms</th>\n",
       "      <th>bathrooms</th>\n",
       "      <th>toilets</th>\n",
       "      <th>price</th>\n",
       "      <th>rent / sale</th>\n",
       "    </tr>\n",
       "  </thead>\n",
       "  <tbody>\n",
       "    <tr>\n",
       "      <th>0</th>\n",
       "      <td>0</td>\n",
       "      <td>DETACHED DUPLEX</td>\n",
       "      <td>Lekki</td>\n",
       "      <td>4</td>\n",
       "      <td>4</td>\n",
       "      <td>5</td>\n",
       "      <td>90,000,000</td>\n",
       "      <td>SALE</td>\n",
       "    </tr>\n",
       "    <tr>\n",
       "      <th>1</th>\n",
       "      <td>1</td>\n",
       "      <td>MINI FLAT</td>\n",
       "      <td>Lekki</td>\n",
       "      <td>1</td>\n",
       "      <td>1</td>\n",
       "      <td>2</td>\n",
       "      <td>25,000,000</td>\n",
       "      <td>SALE</td>\n",
       "    </tr>\n",
       "    <tr>\n",
       "      <th>2</th>\n",
       "      <td>2</td>\n",
       "      <td>TERRACED DUPLEX</td>\n",
       "      <td>Lekki</td>\n",
       "      <td>4</td>\n",
       "      <td>4</td>\n",
       "      <td>5</td>\n",
       "      <td>55,000,000</td>\n",
       "      <td>SALE</td>\n",
       "    </tr>\n",
       "    <tr>\n",
       "      <th>3</th>\n",
       "      <td>3</td>\n",
       "      <td>TERRACED DUPLEX</td>\n",
       "      <td>Lekki</td>\n",
       "      <td>4</td>\n",
       "      <td>4</td>\n",
       "      <td>5</td>\n",
       "      <td>45,000,000</td>\n",
       "      <td>SALE</td>\n",
       "    </tr>\n",
       "    <tr>\n",
       "      <th>4</th>\n",
       "      <td>4</td>\n",
       "      <td>TERRACED DUPLEX</td>\n",
       "      <td>Lekki</td>\n",
       "      <td>2</td>\n",
       "      <td>2</td>\n",
       "      <td>3</td>\n",
       "      <td>35,000,000</td>\n",
       "      <td>SALE</td>\n",
       "    </tr>\n",
       "    <tr>\n",
       "      <th>...</th>\n",
       "      <td>...</td>\n",
       "      <td>...</td>\n",
       "      <td>...</td>\n",
       "      <td>...</td>\n",
       "      <td>...</td>\n",
       "      <td>...</td>\n",
       "      <td>...</td>\n",
       "      <td>...</td>\n",
       "    </tr>\n",
       "    <tr>\n",
       "      <th>10995</th>\n",
       "      <td>10995</td>\n",
       "      <td>SEMI DETACHED</td>\n",
       "      <td>Lekki</td>\n",
       "      <td>4</td>\n",
       "      <td>4</td>\n",
       "      <td>5</td>\n",
       "      <td>60,000,000</td>\n",
       "      <td>SALE</td>\n",
       "    </tr>\n",
       "    <tr>\n",
       "      <th>10996</th>\n",
       "      <td>10996</td>\n",
       "      <td>SEMI DETACHED</td>\n",
       "      <td>Ikoyi</td>\n",
       "      <td>4</td>\n",
       "      <td>4</td>\n",
       "      <td>5</td>\n",
       "      <td>240,000,000</td>\n",
       "      <td>SALE</td>\n",
       "    </tr>\n",
       "    <tr>\n",
       "      <th>10997</th>\n",
       "      <td>10997</td>\n",
       "      <td>HOUSE FOR</td>\n",
       "      <td>Surulere</td>\n",
       "      <td>beds</td>\n",
       "      <td>baths</td>\n",
       "      <td>Toilets</td>\n",
       "      <td>150,000,000</td>\n",
       "      <td>SALE</td>\n",
       "    </tr>\n",
       "    <tr>\n",
       "      <th>10998</th>\n",
       "      <td>10998</td>\n",
       "      <td>SEMI DETACHED</td>\n",
       "      <td>Ajah</td>\n",
       "      <td>4</td>\n",
       "      <td>4</td>\n",
       "      <td>5</td>\n",
       "      <td>48,000,000</td>\n",
       "      <td>SALE</td>\n",
       "    </tr>\n",
       "    <tr>\n",
       "      <th>10999</th>\n",
       "      <td>10999</td>\n",
       "      <td>DETACHED DUPLEX</td>\n",
       "      <td>Ojodu</td>\n",
       "      <td>5</td>\n",
       "      <td>5</td>\n",
       "      <td>6</td>\n",
       "      <td>125,000,000</td>\n",
       "      <td>SALE</td>\n",
       "    </tr>\n",
       "  </tbody>\n",
       "</table>\n",
       "<p>11000 rows × 8 columns</p>\n",
       "</div>"
      ],
      "text/plain": [
       "       Unnamed: 0      house-types  location bedrooms bathrooms  toilets  \\\n",
       "0               0  DETACHED DUPLEX     Lekki        4         4        5   \n",
       "1               1        MINI FLAT     Lekki        1         1        2   \n",
       "2               2  TERRACED DUPLEX     Lekki        4         4        5   \n",
       "3               3  TERRACED DUPLEX     Lekki        4         4        5   \n",
       "4               4  TERRACED DUPLEX     Lekki        2         2        3   \n",
       "...           ...              ...       ...      ...       ...      ...   \n",
       "10995       10995    SEMI DETACHED     Lekki        4         4        5   \n",
       "10996       10996    SEMI DETACHED     Ikoyi        4         4        5   \n",
       "10997       10997        HOUSE FOR  Surulere     beds     baths  Toilets   \n",
       "10998       10998    SEMI DETACHED      Ajah        4         4        5   \n",
       "10999       10999  DETACHED DUPLEX     Ojodu        5         5        6   \n",
       "\n",
       "             price rent / sale  \n",
       "0       90,000,000        SALE  \n",
       "1       25,000,000        SALE  \n",
       "2       55,000,000        SALE  \n",
       "3       45,000,000        SALE  \n",
       "4       35,000,000        SALE  \n",
       "...            ...         ...  \n",
       "10995   60,000,000        SALE  \n",
       "10996  240,000,000        SALE  \n",
       "10997  150,000,000        SALE  \n",
       "10998   48,000,000        SALE  \n",
       "10999  125,000,000        SALE  \n",
       "\n",
       "[11000 rows x 8 columns]"
      ]
     },
     "execution_count": 53,
     "metadata": {},
     "output_type": "execute_result"
    }
   ],
   "source": [
    "house_to_buy"
   ]
  },
  {
   "cell_type": "code",
   "execution_count": null,
   "metadata": {},
   "outputs": [],
   "source": []
  }
 ],
 "metadata": {
  "kernelspec": {
   "display_name": "Python 3",
   "language": "python",
   "name": "python3"
  },
  "language_info": {
   "codemirror_mode": {
    "name": "ipython",
    "version": 3
   },
   "file_extension": ".py",
   "mimetype": "text/x-python",
   "name": "python",
   "nbconvert_exporter": "python",
   "pygments_lexer": "ipython3",
   "version": "3.7.6"
  }
 },
 "nbformat": 4,
 "nbformat_minor": 4
}
