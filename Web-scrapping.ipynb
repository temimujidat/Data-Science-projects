{
 "cells": [
  {
   "cell_type": "markdown",
   "metadata": {},
   "source": [
    "<h1> Project Titile - Web Scrapping - Real Estate </h1>\n",
    "<p> The project focuses on extracting the properties information from each page of a Real Estate website (www.propertypro.ng) using BeautifulSoup Package and saves it on CSV. </p>"
   ]
  },
  {
   "cell_type": "code",
   "execution_count": 183,
   "metadata": {},
   "outputs": [],
   "source": [
    "# importing required libraries\n",
    "\n",
    "import pandas as pd\n",
    "from bs4 import BeautifulSoup\n",
    "import requests\n",
    "import time"
   ]
  },
  {
   "cell_type": "code",
   "execution_count": 184,
   "metadata": {},
   "outputs": [],
   "source": [
    "# target URL to scrap\n",
    "\n",
    "base_url = 'https://www.propertypro.ng/property-for-rent/in/lagos'"
   ]
  },
  {
   "cell_type": "code",
   "execution_count": 185,
   "metadata": {},
   "outputs": [],
   "source": [
    "headers = {'User-Agent': 'Mozilla/5.0 (Linux; Android 6.0; Nexus 5 Build/MRA58N) AppleWebKit/537.36 (KHTML, like Gecko) Chrome/75.0.3770.100 Mobile Safari/537.36'}"
   ]
  },
  {
   "cell_type": "code",
   "execution_count": 186,
   "metadata": {},
   "outputs": [],
   "source": [
    "# send request to download the data\n",
    "\n",
    "req = requests.get (base_url, headers=headers)"
   ]
  },
  {
   "cell_type": "code",
   "execution_count": 187,
   "metadata": {},
   "outputs": [
    {
     "data": {
      "text/plain": [
       "200"
      ]
     },
     "execution_count": 187,
     "metadata": {},
     "output_type": "execute_result"
    }
   ],
   "source": [
    "req.status_code"
   ]
  },
  {
   "cell_type": "code",
   "execution_count": 188,
   "metadata": {},
   "outputs": [
    {
     "data": {
      "text/plain": [
       "'!DOCTYPE html>\\n<html lang=\"en\">\\n<head>\\n<title> Property &amp; Houses for rent  in Lagos   (25,160 listings) | PropertyPro.ng</title>\\n\\n<meta charset=\"UTF-8\" />\\n<meta name=\"viewport\" content=\"width=dev'"
      ]
     },
     "execution_count": 188,
     "metadata": {},
     "output_type": "execute_result"
    }
   ],
   "source": [
    "req.text[1:200]"
   ]
  },
  {
   "cell_type": "code",
   "execution_count": 189,
   "metadata": {},
   "outputs": [],
   "source": [
    "# parse the downloaded data\n",
    "\n",
    "soup = BeautifulSoup(req.text,'html.parser')"
   ]
  },
  {
   "cell_type": "code",
   "execution_count": 190,
   "metadata": {},
   "outputs": [
    {
     "data": {
      "text/plain": [
       "'\\n\\n Property & Houses for rent  in Lagos   (25,160 listings) | PropertyPro.ng\\n\\n\\n\\n\\n\\n\\n\\n\\n\\n\\n\\n\\n            #ajaxWait {\\n                display: none;\\n                width: 100%;\\n                position: '"
      ]
     },
     "execution_count": 190,
     "metadata": {},
     "output_type": "execute_result"
    }
   ],
   "source": [
    "soup.text[1:200]"
   ]
  },
  {
   "cell_type": "markdown",
   "metadata": {},
   "source": [
    "# find all location of houses by descrict"
   ]
  },
  {
   "cell_type": "code",
   "execution_count": 191,
   "metadata": {},
   "outputs": [],
   "source": [
    "#storing the features:\n",
    "\n",
    "locations = soup.select('.single-room-text > h4')"
   ]
  },
  {
   "cell_type": "code",
   "execution_count": 192,
   "metadata": {},
   "outputs": [
    {
     "data": {
      "text/plain": [
       "22"
      ]
     },
     "execution_count": 192,
     "metadata": {},
     "output_type": "execute_result"
    }
   ],
   "source": [
    "#confirming the length of location features\n",
    "\n",
    "len(locations)"
   ]
  },
  {
   "cell_type": "code",
   "execution_count": 193,
   "metadata": {},
   "outputs": [
    {
     "data": {
      "text/plain": [
       "<h4><img alt=\"icon\" src=\"/assets/assets/img/resultpage/a6b70a0c1c4423f60780bdda189b91e3-location.svg\" title=\"icon\"/> Akoka Yaba Lagos</h4>"
      ]
     },
     "execution_count": 193,
     "metadata": {},
     "output_type": "execute_result"
    }
   ],
   "source": [
    "locations[1]"
   ]
  },
  {
   "cell_type": "code",
   "execution_count": 195,
   "metadata": {},
   "outputs": [],
   "source": [
    "#fixing all loaction into a list\n",
    "\n",
    "all_location = []\n",
    "\n",
    "for i in locations:\n",
    "    location = i.get_text().split()\n",
    "    location = location[-2]\n",
    "    location = location.replace(',', '')\n",
    "    all_location.append(location)"
   ]
  },
  {
   "cell_type": "markdown",
   "metadata": {},
   "source": [
    "# find all house prices "
   ]
  },
  {
   "cell_type": "code",
   "execution_count": 118,
   "metadata": {},
   "outputs": [],
   "source": [
    "#storing the features\n",
    "\n",
    "prices = soup.select('.n50 > h3 > span')"
   ]
  },
  {
   "cell_type": "code",
   "execution_count": 119,
   "metadata": {},
   "outputs": [
    {
     "data": {
      "text/plain": [
       "44"
      ]
     },
     "execution_count": 119,
     "metadata": {},
     "output_type": "execute_result"
    }
   ],
   "source": [
    "#confirming the length of prices features\n",
    "\n",
    "len(prices)"
   ]
  },
  {
   "cell_type": "code",
   "execution_count": 120,
   "metadata": {},
   "outputs": [
    {
     "data": {
      "text/plain": [
       "<span content=\"NGN\" itemprop=\"priceCurrency\">₦</span>"
      ]
     },
     "execution_count": 120,
     "metadata": {},
     "output_type": "execute_result"
    }
   ],
   "source": [
    "prices[2]"
   ]
  },
  {
   "cell_type": "code",
   "execution_count": 146,
   "metadata": {},
   "outputs": [],
   "source": [
    "# fixing all the prices data into a list\n",
    "\n",
    "all_price = []\n",
    "\n",
    "for i,price in enumerate(prices):\n",
    "    if i % 2 != 0:\n",
    "        all_price.append(price.getText().replace('/year', ''))"
   ]
  },
  {
   "cell_type": "code",
   "execution_count": 147,
   "metadata": {},
   "outputs": [
    {
     "data": {
      "text/plain": [
       "22"
      ]
     },
     "execution_count": 147,
     "metadata": {},
     "output_type": "execute_result"
    }
   ],
   "source": [
    "len(all_price)"
   ]
  },
  {
   "cell_type": "markdown",
   "metadata": {},
   "source": [
    "# Number of bedrooms and house description"
   ]
  },
  {
   "cell_type": "code",
   "execution_count": 205,
   "metadata": {},
   "outputs": [],
   "source": [
    "#storing the features\n",
    "\n",
    "titles = soup.select('.single-room-text > a > h2')"
   ]
  },
  {
   "cell_type": "code",
   "execution_count": 206,
   "metadata": {},
   "outputs": [
    {
     "data": {
      "text/plain": [
       "22"
      ]
     },
     "execution_count": 206,
     "metadata": {},
     "output_type": "execute_result"
    }
   ],
   "source": [
    "#confirming the length of titles features\n",
    "\n",
    "len(titles)"
   ]
  },
  {
   "cell_type": "code",
   "execution_count": 207,
   "metadata": {},
   "outputs": [
    {
     "data": {
      "text/plain": [
       "<h2 class=\"listings-property-title\">3 BEDROOM FLAT / APARTMENT FOR RENT</h2>"
      ]
     },
     "execution_count": 207,
     "metadata": {},
     "output_type": "execute_result"
    }
   ],
   "source": [
    "titles[5]"
   ]
  },
  {
   "cell_type": "code",
   "execution_count": 226,
   "metadata": {},
   "outputs": [],
   "source": [
    "#fixing all bedrooms and description into a list\n",
    "\n",
    "all_description = []\n",
    "all_bedroom = []\n",
    "\n",
    "for i in titles:\n",
    "    title_split = i.get_text().split()\n",
    "    bedroom = title_split[0]\n",
    "    description = title_split[2:4]\n",
    "    f_house = ' '.join(description)\n",
    "    all_description.append((f_house).replace('/', ''))\n",
    "    all_bedroom.append(bedroom)"
   ]
  },
  {
   "cell_type": "code",
   "execution_count": 228,
   "metadata": {},
   "outputs": [
    {
     "data": {
      "text/plain": [
       "22"
      ]
     },
     "execution_count": 228,
     "metadata": {},
     "output_type": "execute_result"
    }
   ],
   "source": [
    "#confirming the length of description features\n",
    "\n",
    "len(all_description)"
   ]
  },
  {
   "cell_type": "code",
   "execution_count": 229,
   "metadata": {},
   "outputs": [
    {
     "data": {
      "text/plain": [
       "22"
      ]
     },
     "execution_count": 229,
     "metadata": {},
     "output_type": "execute_result"
    }
   ],
   "source": [
    "#confirming the length of bedroom features\n",
    "\n",
    "len(all_bedroom)"
   ]
  },
  {
   "cell_type": "code",
   "execution_count": 230,
   "metadata": {},
   "outputs": [],
   "source": [
    "#creating a function to be able to return all list generated\n",
    "\n",
    "def all_data(url):\n",
    "    req = requests.get (url, headers=headers)\n",
    "    soup = BeautifulSoup(req.text,'html.parser')\n",
    "    \n",
    "    \n",
    "    locations = soup.select('.single-room-text > h4')\n",
    "    all_location = []\n",
    "    for i in locations:\n",
    "        location = i.get_text().split()\n",
    "        location = location[-2]\n",
    "        location = location.replace(',', '')\n",
    "        all_location.append(location)\n",
    "    \n",
    "    \n",
    "    \n",
    "    prices = soup.select('.n50 > h3 > span')\n",
    "    all_price = []\n",
    "    for i,price in enumerate(prices):\n",
    "        if i % 2 != 0:\n",
    "            all_price.append(price.getText().replace('/year', ''))\n",
    "    \n",
    "    \n",
    "    \n",
    "    titles = soup.select('.single-room-text > a > h2')\n",
    "    all_description = []\n",
    "    all_bedroom = []\n",
    "    for i in titles:\n",
    "        title_split = i.get_text().split()\n",
    "        bedroom = title_split[0]\n",
    "        description = title_split[2:4]\n",
    "        f_house = ' '.join(description)\n",
    "        all_description.append((f_house).replace('/', ''))\n",
    "        all_bedroom.append(bedroom)\n",
    "    \n",
    "    \n",
    "\n",
    "    return (all_location, all_price, all_description, all_bedroom)   "
   ]
  },
  {
   "cell_type": "code",
   "execution_count": 231,
   "metadata": {},
   "outputs": [],
   "source": [
    "#crawls all the pages on the website from page 1 to 100\n",
    "\n",
    "urls = [base_url]\n",
    "for i in range(1,100):\n",
    "    url = base_url + '?page=' + str(i)\n",
    "    urls.append(url)"
   ]
  },
  {
   "cell_type": "code",
   "execution_count": 232,
   "metadata": {},
   "outputs": [
    {
     "data": {
      "text/plain": [
       "'https://www.propertypro.ng/property-for-rent/in/lagos?page=60'"
      ]
     },
     "execution_count": 232,
     "metadata": {},
     "output_type": "execute_result"
    }
   ],
   "source": [
    "urls[60]"
   ]
  },
  {
   "cell_type": "code",
   "execution_count": 233,
   "metadata": {},
   "outputs": [],
   "source": [
    "master_location = []\n",
    "master_price = []\n",
    "master_description = []\n",
    "master_bedroom = []\n",
    "\n",
    "for url in urls:\n",
    "    all_location, all_price, all_description, all_bedroom = all_data(url)\n",
    "    \n",
    "    master_location += all_location\n",
    "    master_price += all_price\n",
    "    master_description += all_description\n",
    "    master_bedroom += all_bedroom\n",
    "    \n",
    "    time.sleep(30)"
   ]
  },
  {
   "cell_type": "code",
   "execution_count": 235,
   "metadata": {},
   "outputs": [
    {
     "data": {
      "text/plain": [
       "2200"
      ]
     },
     "execution_count": 235,
     "metadata": {},
     "output_type": "execute_result"
    }
   ],
   "source": [
    "#confirming the length of each list of attributes created\n",
    "\n",
    "len(master_bedroom)"
   ]
  },
  {
   "cell_type": "code",
   "execution_count": 243,
   "metadata": {},
   "outputs": [],
   "source": [
    "# create a data frame from the list of dictionaries\n",
    "\n",
    "properties = pd.DataFrame ({\"House Details\": master_description,\n",
    "                            \"Location\": master_location,\n",
    "                            \"Price (N)\": master_price,\n",
    "                            \"Bedroom\": master_bedroom\n",
    "                           })"
   ]
  },
  {
   "cell_type": "code",
   "execution_count": 244,
   "metadata": {},
   "outputs": [],
   "source": [
    "#converting dataframe to CSV\n",
    "\n",
    "properties.to_csv(\"house_property.csv\")"
   ]
  },
  {
   "cell_type": "code",
   "execution_count": 245,
   "metadata": {},
   "outputs": [],
   "source": [
    "house_to_rent = pd.read_csv('house_property.csv')"
   ]
  },
  {
   "cell_type": "code",
   "execution_count": 246,
   "metadata": {},
   "outputs": [
    {
     "data": {
      "text/html": [
       "<div>\n",
       "<style scoped>\n",
       "    .dataframe tbody tr th:only-of-type {\n",
       "        vertical-align: middle;\n",
       "    }\n",
       "\n",
       "    .dataframe tbody tr th {\n",
       "        vertical-align: top;\n",
       "    }\n",
       "\n",
       "    .dataframe thead th {\n",
       "        text-align: right;\n",
       "    }\n",
       "</style>\n",
       "<table border=\"1\" class=\"dataframe\">\n",
       "  <thead>\n",
       "    <tr style=\"text-align: right;\">\n",
       "      <th></th>\n",
       "      <th>Unnamed: 0</th>\n",
       "      <th>House Details</th>\n",
       "      <th>Location</th>\n",
       "      <th>Price (N)</th>\n",
       "      <th>Bedroom</th>\n",
       "    </tr>\n",
       "  </thead>\n",
       "  <tbody>\n",
       "    <tr>\n",
       "      <th>0</th>\n",
       "      <td>0</td>\n",
       "      <td>DETACHED DUPLEX</td>\n",
       "      <td>Lekki</td>\n",
       "      <td>9,000,000</td>\n",
       "      <td>6</td>\n",
       "    </tr>\n",
       "    <tr>\n",
       "      <th>1</th>\n",
       "      <td>1</td>\n",
       "      <td>FLAT</td>\n",
       "      <td>Yaba</td>\n",
       "      <td>1,100,000</td>\n",
       "      <td>3</td>\n",
       "    </tr>\n",
       "    <tr>\n",
       "      <th>2</th>\n",
       "      <td>2</td>\n",
       "      <td>FLAT</td>\n",
       "      <td>Ikeja</td>\n",
       "      <td>1,800,000</td>\n",
       "      <td>2</td>\n",
       "    </tr>\n",
       "    <tr>\n",
       "      <th>3</th>\n",
       "      <td>3</td>\n",
       "      <td>DETACHED DUPLEX</td>\n",
       "      <td>Lekki</td>\n",
       "      <td>9,000,000</td>\n",
       "      <td>6</td>\n",
       "    </tr>\n",
       "    <tr>\n",
       "      <th>4</th>\n",
       "      <td>4</td>\n",
       "      <td>FLAT</td>\n",
       "      <td>Ojodu</td>\n",
       "      <td>2,200,000</td>\n",
       "      <td>3</td>\n",
       "    </tr>\n",
       "    <tr>\n",
       "      <th>...</th>\n",
       "      <td>...</td>\n",
       "      <td>...</td>\n",
       "      <td>...</td>\n",
       "      <td>...</td>\n",
       "      <td>...</td>\n",
       "    </tr>\n",
       "    <tr>\n",
       "      <th>2195</th>\n",
       "      <td>2195</td>\n",
       "      <td>MINI FLAT</td>\n",
       "      <td>Yaba</td>\n",
       "      <td>700,000</td>\n",
       "      <td>1</td>\n",
       "    </tr>\n",
       "    <tr>\n",
       "      <th>2196</th>\n",
       "      <td>2196</td>\n",
       "      <td>BLOCKS OF</td>\n",
       "      <td>Lekki</td>\n",
       "      <td>2,750,000</td>\n",
       "      <td>3</td>\n",
       "    </tr>\n",
       "    <tr>\n",
       "      <th>2197</th>\n",
       "      <td>2197</td>\n",
       "      <td>FLAT</td>\n",
       "      <td>Ikoyi</td>\n",
       "      <td>15,000,000</td>\n",
       "      <td>4</td>\n",
       "    </tr>\n",
       "    <tr>\n",
       "      <th>2198</th>\n",
       "      <td>2198</td>\n",
       "      <td>FLAT</td>\n",
       "      <td>Ajah</td>\n",
       "      <td>900,000</td>\n",
       "      <td>2</td>\n",
       "    </tr>\n",
       "    <tr>\n",
       "      <th>2199</th>\n",
       "      <td>2199</td>\n",
       "      <td>BLOCKS OF</td>\n",
       "      <td>Ogba</td>\n",
       "      <td>800,000</td>\n",
       "      <td>2</td>\n",
       "    </tr>\n",
       "  </tbody>\n",
       "</table>\n",
       "<p>2200 rows × 5 columns</p>\n",
       "</div>"
      ],
      "text/plain": [
       "      Unnamed: 0    House Details Location   Price (N) Bedroom\n",
       "0              0  DETACHED DUPLEX    Lekki   9,000,000       6\n",
       "1              1            FLAT      Yaba   1,100,000       3\n",
       "2              2            FLAT     Ikeja   1,800,000       2\n",
       "3              3  DETACHED DUPLEX    Lekki   9,000,000       6\n",
       "4              4            FLAT     Ojodu   2,200,000       3\n",
       "...          ...              ...      ...         ...     ...\n",
       "2195        2195        MINI FLAT     Yaba     700,000       1\n",
       "2196        2196        BLOCKS OF    Lekki   2,750,000       3\n",
       "2197        2197            FLAT     Ikoyi  15,000,000       4\n",
       "2198        2198            FLAT      Ajah     900,000       2\n",
       "2199        2199        BLOCKS OF     Ogba     800,000       2\n",
       "\n",
       "[2200 rows x 5 columns]"
      ]
     },
     "execution_count": 246,
     "metadata": {},
     "output_type": "execute_result"
    }
   ],
   "source": [
    "house_to_rent"
   ]
  },
  {
   "cell_type": "code",
   "execution_count": null,
   "metadata": {},
   "outputs": [],
   "source": []
  }
 ],
 "metadata": {
  "kernelspec": {
   "display_name": "Python 3",
   "language": "python",
   "name": "python3"
  },
  "language_info": {
   "codemirror_mode": {
    "name": "ipython",
    "version": 3
   },
   "file_extension": ".py",
   "mimetype": "text/x-python",
   "name": "python",
   "nbconvert_exporter": "python",
   "pygments_lexer": "ipython3",
   "version": "3.7.6"
  }
 },
 "nbformat": 4,
 "nbformat_minor": 4
}
